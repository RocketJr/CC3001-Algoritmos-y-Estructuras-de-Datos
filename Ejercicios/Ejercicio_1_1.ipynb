{
  "nbformat": 4,
  "nbformat_minor": 0,
  "metadata": {
    "colab": {
      "provenance": []
    },
    "kernelspec": {
      "name": "python3",
      "display_name": "Python 3"
    },
    "language_info": {
      "name": "python"
    }
  },
  "cells": [
    {
      "cell_type": "markdown",
      "source": [
        "### Ejercicio 1.1\n",
        "\n",
        "La función ``maximo`` hace $n-1$ comparaciones de elementos para encontrar el máximo de un conjunto de tamaño $n$.\n"
      ],
      "metadata": {
        "id": "CmSMyejG25Ya"
      }
    },
    {
      "cell_type": "code",
      "source": [
        "# Encuentra el máximo de una lista a\n",
        "def maximo(a):\n",
        "    m=a[0]\n",
        "    # Al comenzar cada iteración, se cumple que m==max(a[0],...,a[k-1])\n",
        "    for k in range(1,len(a)):\n",
        "        if a[k]>m:\n",
        "            m=a[k]\n",
        "    return m\n",
        "\n",
        "print(maximo([25, 42, 93, 17, 54, 28]))"
      ],
      "metadata": {
        "colab": {
          "base_uri": "https://localhost:8080/"
        },
        "id": "XsB7nloC254Q",
        "outputId": "7729109f-979a-48de-fc4f-c440e2a34d00"
      },
      "execution_count": 14,
      "outputs": [
        {
          "output_type": "stream",
          "name": "stdout",
          "text": [
            "93\n"
          ]
        }
      ]
    },
    {
      "cell_type": "markdown",
      "source": [
        "Supongamos que se desea escribir una función ``minmax`` que al ser llamada con una lista de números, retorne un par ordenado (tupla) ``(min,max)``, con el mínimo y el máximo elemento del conjunto, respectivamente. Escriba a continuación esa función haciendo dos pasadas sobre los datos: una para encontrar el mínimo y otra para encontrar el máximo, y pruébela sobre una lista de ejemplo."
      ],
      "metadata": {
        "id": "YeaJBw6_295h"
      }
    },
    {
      "cell_type": "code",
      "source": [
        "def minmax(a):\n",
        "    # escribir la función aquí\n",
        "    minimo=a[0]\n",
        "    maximo=a[0]\n",
        "    for k in range(1,len(a)):\n",
        "        if a[k]>maximo:\n",
        "            maximo=a[k]\n",
        "        elif a[k]<minimo:\n",
        "            minimo=a[k]\n",
        "    return(minimo,maximo)\n",
        "\n",
        "# Probarla acá\n",
        "print(minmax([25, 42, 93, 17, 54, 28]))\n",
        "print(minmax([8, 12, 52, 17, 76, 39]))\n",
        "print(minmax([45,21,34,67,55,89,44,12]))"
      ],
      "metadata": {
        "colab": {
          "base_uri": "https://localhost:8080/"
        },
        "id": "3efHWTXg2-R7",
        "outputId": "06ed0c71-9220-4003-fc3f-9057acade48f"
      },
      "execution_count": 15,
      "outputs": [
        {
          "output_type": "stream",
          "name": "stdout",
          "text": [
            "(17, 93)\n",
            "(8, 76)\n",
            "(12, 89)\n"
          ]
        }
      ]
    },
    {
      "cell_type": "markdown",
      "source": [
        "La función anterior debería hacer $2n-2$ comparaciones de elementos ($2n-3$ si se evita comparar el elemento seleccionado en la primera pasada). ¿Será posible encontrar el mínimo y el máximo haciendo muchas menos comparaciones?\n",
        "\n",
        "¡La respuesta es que sí! Veámoslo con un ejemplo. Para simplificar, supongamos que la lista es de largo par:\n",
        "\n",
        "$$\n",
        "[45,21,34,67,55,89,44,12]\n",
        "$$\n",
        "\n",
        "Luego comparemos cada elemento que está en una posición par con su vecino de la derecha, e intercambiémoslos de modo que el par quede en orden ascendente (recuerde que las posiciones comienzan desde cero):\n",
        "\n",
        "$$\n",
        "[21,45,34,67,55,89,12,44]\n",
        "$$\n",
        "\n",
        "Luego hagamos una pasada solo sobre las posiciones pares para encontrar el mínimo ($12$), y otra pasada solo entre las posiciones impares para encontrar el máximo ($89$). ¡Listo!\n",
        "\n",
        "Programe este nuevo algoritmo, pruébelo y diga cuántas comparaciones hace en total:\n",
        "\n",
        "---"
      ],
      "metadata": {
        "id": "5cNGcMYm3C3K"
      }
    },
    {
      "cell_type": "code",
      "source": [
        "def minmax(a):\n",
        "    # escribir la función aquí\n",
        "    minimo=a[0]\n",
        "    maximo=a[0]\n",
        "    if len(a)%2==0:\n",
        "        for k in range(0,len(a)):\n",
        "            if k%2==0:\n",
        "                if a[k]>a[k+1]:\n",
        "                    (a[k],a[k+1])=(a[k+1],a[k])\n",
        "            if a[k]<minimo:\n",
        "                minimo=a[k]\n",
        "            elif a[k]>maximo:\n",
        "                maximo=a[k]\n",
        "        return(a,minimo,maximo)\n",
        "    else:\n",
        "        return(\"Debe ser una lista par\")\n",
        "\n",
        "# Probarla acá\n",
        "print(minmax([25, 42, 93, 17, 54, 28]))\n",
        "print(minmax([8, 12, 52, 17, 76, 39]))\n",
        "print(minmax([45,21,34,67,55,89,44,12]))\n",
        "\n",
        "# La cantidad de comparaciones son de 3n/2 - 2 comparaciones para este caso"
      ],
      "metadata": {
        "colab": {
          "base_uri": "https://localhost:8080/"
        },
        "id": "VUyqfjB43AKp",
        "outputId": "cb528c70-43e3-41b3-806f-29ef49d4338f"
      },
      "execution_count": 16,
      "outputs": [
        {
          "output_type": "stream",
          "name": "stdout",
          "text": [
            "([25, 42, 17, 93, 28, 54], 17, 93)\n",
            "([8, 12, 17, 52, 39, 76], 8, 76)\n",
            "([21, 45, 34, 67, 55, 89, 12, 44], 12, 89)\n"
          ]
        }
      ]
    }
  ]
}