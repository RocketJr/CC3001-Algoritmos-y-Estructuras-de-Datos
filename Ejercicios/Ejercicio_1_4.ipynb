{
  "nbformat": 4,
  "nbformat_minor": 0,
  "metadata": {
    "colab": {
      "provenance": []
    },
    "kernelspec": {
      "name": "python3",
      "display_name": "Python 3"
    },
    "language_info": {
      "name": "python"
    }
  },
  "cells": [
    {
      "cell_type": "markdown",
      "source": [
        "### Ejercicio 1.4\n",
        "\n",
        "Se le llama \"Camel Case\" a la convención de escribir una frase sin espacios, pero marcando el inicio de cada palabra poniendo su primera letra en mayúscula. Por ejemplo, la frase\n",
        "```\n",
        "\"  Algoritmos y    estructuras de   datos   \"\n",
        "```\n",
        "transformada a Camel Case queda así:\n",
        "```\n",
        "\"AlgoritmosYEstructurasDeDatos\"\n",
        "```\n",
        "\n",
        "Escriba una función que transforme a Camel Case y pruébela:"
      ],
      "metadata": {
        "id": "cItYbTxG4KvE"
      }
    },
    {
      "cell_type": "code",
      "source": [
        "def CamelCase(s):\n",
        "  \"\"\"Retorna un string conteniendo la versión Camel Case del string s\"\"\"\n",
        "  # escriba aquí su algoritmo\n",
        "  np=\"\"\n",
        "  k=0\n",
        "  while k<len(s):\n",
        "      # Estamos en el estado FUERA\n",
        "      if s[k]!=' ':\n",
        "          np += s[k].upper()\n",
        "          k+=1\n",
        "          # Ahora estamos en el estado DENTRO\n",
        "          while k<len(s) and s[k]!=' ':\n",
        "              np += s[k].lower()\n",
        "              k+=1\n",
        "          if k==len(s):\n",
        "              break\n",
        "            # Por descarte, s[k]==' '\n",
        "      k+=1\n",
        "  return np"
      ],
      "metadata": {
        "id": "cUu_40fO4McT"
      },
      "execution_count": 22,
      "outputs": []
    },
    {
      "cell_type": "code",
      "source": [
        "print(CamelCase(\"    Algoritmos y    estructuras de   datos   \"))\n",
        "print(CamelCase(\"    Algoritmos y    estructuras de   Datos\"))"
      ],
      "metadata": {
        "id": "fOOdGtl54N1W",
        "outputId": "1045a7e9-d1ad-41b8-a062-8a0dab5b3e14",
        "colab": {
          "base_uri": "https://localhost:8080/"
        }
      },
      "execution_count": 23,
      "outputs": [
        {
          "output_type": "stream",
          "name": "stdout",
          "text": [
            "AlgoritmosYEstructurasDeDatos\n",
            "AlgoritmosYEstructurasDeDatos\n"
          ]
        }
      ]
    }
  ]
}