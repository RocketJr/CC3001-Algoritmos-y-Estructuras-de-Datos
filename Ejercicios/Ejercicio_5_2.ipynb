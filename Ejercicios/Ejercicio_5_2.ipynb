{
  "nbformat": 4,
  "nbformat_minor": 0,
  "metadata": {
    "colab": {
      "provenance": []
    },
    "kernelspec": {
      "name": "python3",
      "display_name": "Python 3"
    },
    "language_info": {
      "name": "python"
    }
  },
  "cells": [
    {
      "cell_type": "markdown",
      "source": [
        "### Ejercicio 5.2\n",
        "\n",
        "Agregar a la clase Heap un método ``modificar(k,x)`` que al ser invocado, cambie la prioridad del elemento del casillero ``k``, dándole como nuevo valor ``x`` y asegurando que el heap siga cumpliendo las restricciones de orden. Esta operación debe funcionar en tiempo $O(\\log{n})$ en el peor caso. Escriba a continuación la definición del método ``modificar(k,x)``, y pruébela con las instrucciones que aparecen en el casillero siguiente."
      ],
      "metadata": {
        "id": "FrkuGN5c481c"
      }
    },
    {
      "cell_type": "code",
      "source": [
        "import numpy as np\n",
        "def trepar(a,j): # El elemento a[j] trepa hasta su nivel de prioridad\n",
        "    while j>=1 and a[j]>a[(j-1)//2]:\n",
        "        (a[j],a[(j-1)//2])=(a[(j-1)//2],a[j]) # intercambiamos con el padre\n",
        "        j=(j-1)//2 # subimos al lugar del padre\n",
        "\n",
        "def hundir(a,j,n): # El elemento a[j] se hunde hasta su nivel de prioridad\n",
        "    while 2*j+1<n: # mientras tenga al menos 1 hijo\n",
        "        k=2*j+1 # el hijo izquierdo\n",
        "        if k+1<n and a[k+1]>a[k]: # el hijo derecho existe y es mayor\n",
        "            k+=1\n",
        "        if a[j]>=a[k]: # tiene mejor prioridad que ambos hijos\n",
        "            break\n",
        "        (a[j],a[k])=(a[k],a[j]) # se intercambia con el mayor de los hijos\n",
        "        j=k # bajamos al lugar del mayor de los hijos\n",
        "\n",
        "class Heap:\n",
        "    def __init__(self,maxn=100):\n",
        "        self.a=np.zeros(maxn)\n",
        "        self.n=0\n",
        "    def insert(self,x):\n",
        "        assert self.n<len(self.a)\n",
        "        self.a[self.n]=x\n",
        "        trepar(self.a,self.n)\n",
        "        self.n+=1\n",
        "    def extract_max(self):\n",
        "        assert self.n>0\n",
        "        x=self.a[0] # esta variable lleva el máximo, el casillero 0 queda vacante\n",
        "        self.n-=1   # achicamos el heap\n",
        "        self.a[0]=self.a[self.n] # movemos el elemento sobrante hacia el casillero vacante\n",
        "        hundir(self.a,0,self.n)\n",
        "        return x\n",
        "    def modificar(self, k, x): #Implementar esta función\n",
        "        #Como no definen el lugar de k asumo que k = 0 es a[0]\n",
        "        assert k<len(self.a)\n",
        "        self.a[k]=x\n",
        "        if self.a[k] > self.a[(k-1)//2]:\n",
        "          trepar(self.a,k)\n",
        "        if self.a[k] <= self.a[2*k+1] or self.a[k] <= self.a[2*k+2]:\n",
        "          hundir(self.a,k,self.n)\n",
        "        #hundir(self.a,k,self.n)\n",
        "        #hundir(self.a,0,k)\n",
        "        #return x\n",
        "        #pass\n",
        "    def imprimir(self):\n",
        "        print(self.a[0:self.n])"
      ],
      "metadata": {
        "id": "y74HaPWB4-v4"
      },
      "execution_count": 29,
      "outputs": []
    },
    {
      "cell_type": "code",
      "source": [
        "a=Heap(20)\n",
        "a.insert(55)\n",
        "a.insert(50)\n",
        "a.insert(70)\n",
        "a.insert(12)\n",
        "a.insert(36)\n",
        "a.insert(10)\n",
        "a.insert(21)\n",
        "a.insert(24)\n",
        "a.insert(20)\n",
        "a.insert(62)\n",
        "a.imprimir()\n",
        "a.modificar(4,65)\n",
        "a.imprimir()\n",
        "a.modificar(3,15)\n",
        "a.imprimir()"
      ],
      "metadata": {
        "colab": {
          "base_uri": "https://localhost:8080/"
        },
        "id": "M6frc9Ov4_QI",
        "outputId": "5fccbe40-e97a-4a97-8a99-58f622f8eede"
      },
      "execution_count": 30,
      "outputs": [
        {
          "output_type": "stream",
          "name": "stdout",
          "text": [
            "[70. 62. 55. 24. 50. 10. 21. 12. 20. 36.]\n",
            "[70. 65. 55. 24. 62. 10. 21. 12. 20. 36.]\n",
            "[70. 65. 55. 20. 62. 10. 21. 12. 15. 36.]\n"
          ]
        }
      ]
    }
  ]
}