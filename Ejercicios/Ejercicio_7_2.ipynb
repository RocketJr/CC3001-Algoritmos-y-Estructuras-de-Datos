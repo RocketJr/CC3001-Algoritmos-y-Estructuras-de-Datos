{
  "nbformat": 4,
  "nbformat_minor": 0,
  "metadata": {
    "colab": {
      "provenance": []
    },
    "kernelspec": {
      "name": "python3",
      "display_name": "Python 3"
    },
    "language_info": {
      "name": "python"
    }
  },
  "cells": [
    {
      "cell_type": "markdown",
      "source": [
        "### Ejercicio 7.2 (Radix Sort)\n",
        "\n",
        "Ordene el conjunto\n",
        "\n",
        "```\n",
        "    73895\n",
        "    93754\n",
        "    82149\n",
        "    99046\n",
        "    14853\n",
        "    94171\n",
        "    54963\n",
        "    70471\n",
        "    80564\n",
        "    66496\n",
        "```\n",
        "\n",
        "usando Radix Sort. Muestre el estado del conjunto después cada pasada (una pasada consiste en la separación en grupos de acuerdo a los dígitos presentes en la columna que se está procesando, seguida de la concatenación de los grupos resultantes). Recuerde que las columnas se procesan de derecha a izquierda y que a igualdad de valores, se debe preservar el orden original.\n",
        "\n",
        "Para entregar su solución y verificar que esté correcta, sustituya los ceros por la información correcta en el siguiente código. Para ayudarle a empezar, se entrega el resultado después de la primera pasada."
      ],
      "metadata": {
        "id": "SySQH7fVpYoV"
      }
    },
    {
      "cell_type": "code",
      "source": [
        "import numpy as np\n",
        "\n",
        "# Verifica que la lista 'a' esté ordenada después de haber efectuado 'k' pasadas\n",
        "# Se muestran solo los k dígitos de más a la derecha de cada número\n",
        "def verifica_orden(k,a):\n",
        "  b=[x%(10**k) for x in a]\n",
        "  print(b)\n",
        "  print(\"Ordenado\" if np.all([b[i]<=b[i+1] for i in range(0,len(b) - 1)]) else \"Desordenado\")"
      ],
      "metadata": {
        "id": "0piNOVvppbE9"
      },
      "execution_count": 8,
      "outputs": []
    },
    {
      "cell_type": "code",
      "source": [
        "verifica_orden(1,[94171,70471,14853,54963,93754,80564,73895,99046,66496,82149])"
      ],
      "metadata": {
        "colab": {
          "base_uri": "https://localhost:8080/"
        },
        "id": "ezsxBYttpbeg",
        "outputId": "fa036ce8-266b-4362-ca2d-c77cefad6f87"
      },
      "execution_count": 9,
      "outputs": [
        {
          "output_type": "stream",
          "name": "stdout",
          "text": [
            "[1, 1, 3, 3, 4, 4, 5, 6, 6, 9]\n",
            "Ordenado\n"
          ]
        }
      ]
    },
    {
      "cell_type": "code",
      "source": [
        "verifica_orden(2,[99046,82149,14853,93754,54963,80564,94171,70471,73895,66496])"
      ],
      "metadata": {
        "colab": {
          "base_uri": "https://localhost:8080/"
        },
        "id": "xsUccAfdpcsc",
        "outputId": "c9821f43-54a3-4ae8-83ac-82a1a93d0061"
      },
      "execution_count": 10,
      "outputs": [
        {
          "output_type": "stream",
          "name": "stdout",
          "text": [
            "[46, 49, 53, 54, 63, 64, 71, 71, 95, 96]\n",
            "Ordenado\n"
          ]
        }
      ]
    },
    {
      "cell_type": "code",
      "source": [
        "verifica_orden(3,[99046,82149,94171,70471,66496,80564,93754,14853,73895,54963])"
      ],
      "metadata": {
        "colab": {
          "base_uri": "https://localhost:8080/"
        },
        "id": "fe6lFAY2peAI",
        "outputId": "c02661d8-10d8-4322-e981-1f71530afdbc"
      },
      "execution_count": 11,
      "outputs": [
        {
          "output_type": "stream",
          "name": "stdout",
          "text": [
            "[46, 149, 171, 471, 496, 564, 754, 853, 895, 963]\n",
            "Ordenado\n"
          ]
        }
      ]
    },
    {
      "cell_type": "code",
      "source": [
        "verifica_orden(4,[70471,80564,82149,93754,73895,94171,14853,54963,66496,99046])"
      ],
      "metadata": {
        "id": "0yfYHL-MpfJC",
        "outputId": "0a42a12c-183e-424f-97e7-39de4711d4da",
        "colab": {
          "base_uri": "https://localhost:8080/"
        }
      },
      "execution_count": 12,
      "outputs": [
        {
          "output_type": "stream",
          "name": "stdout",
          "text": [
            "[471, 564, 2149, 3754, 3895, 4171, 4853, 4963, 6496, 9046]\n",
            "Ordenado\n"
          ]
        }
      ]
    },
    {
      "cell_type": "code",
      "source": [
        "verifica_orden(5,[14853,54963,66496,70471,73895,80564,82149,93754,94171,99046])"
      ],
      "metadata": {
        "id": "TjaUIvLlpgkZ",
        "outputId": "d672f76a-9e1f-4da6-d6dc-cb60e663ce53",
        "colab": {
          "base_uri": "https://localhost:8080/"
        }
      },
      "execution_count": 13,
      "outputs": [
        {
          "output_type": "stream",
          "name": "stdout",
          "text": [
            "[14853, 54963, 66496, 70471, 73895, 80564, 82149, 93754, 94171, 99046]\n",
            "Ordenado\n"
          ]
        }
      ]
    }
  ]
}