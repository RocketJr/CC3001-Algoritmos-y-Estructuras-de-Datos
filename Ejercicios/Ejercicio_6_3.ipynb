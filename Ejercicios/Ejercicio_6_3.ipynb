{
  "nbformat": 4,
  "nbformat_minor": 0,
  "metadata": {
    "colab": {
      "provenance": []
    },
    "kernelspec": {
      "name": "python3",
      "display_name": "Python 3"
    },
    "language_info": {
      "name": "python"
    }
  },
  "cells": [
    {
      "cell_type": "markdown",
      "source": [
        "### Ejercicio 6.3 (Inserciones en una tabla de hashing con Linear Probing)\n",
        "\n",
        "Suponga que se tiene una tabla de hashing con Linear Probing, de tamaño 10, inicialmente vacía, con la función de hashing $h(x) = x \\bmod 10$ (por ejemplo, $h(64)=4$). Muestre en la siguiente tabla el resultado de insertar (a mano) la siguiente secuencia de llaves:\n",
        "\n",
        "```\n",
        "34, 59, 45, 27, 14, 22, 75, 25\n",
        "```"
      ],
      "metadata": {
        "id": "QxQerYKio8KY"
      }
    },
    {
      "cell_type": "markdown",
      "source": [
        "![EjercicioLinearProbing](https://github.com/ivansipiran/AED-Apuntes/blob/main/recursos/EjercicioLinearProbing.png?raw=1)\n",
        "\n",
        "Utilizaremos la siguiente función para ver si su respuesta está correcta:"
      ],
      "metadata": {
        "id": "2Kb4EcfEo87Q"
      }
    },
    {
      "cell_type": "code",
      "source": [
        "def chequea_tabla(lista):\n",
        "    h=0\n",
        "    for x in lista:\n",
        "        h = (h*100+x) % 100000007\n",
        "    print(\"OK\" if h==60375958 else \"Error\")"
      ],
      "metadata": {
        "id": "2ox8CpbMpAKD"
      },
      "execution_count": 6,
      "outputs": []
    },
    {
      "cell_type": "markdown",
      "source": [
        "En el siguiente recuadro reemplace la lista de ceros por la lista de los elementos resultantes en la tabla. Si un casillero queda vacío, escriba un cero."
      ],
      "metadata": {
        "id": "5A0_RAjLpEO8"
      }
    },
    {
      "cell_type": "code",
      "source": [
        "chequea_tabla([25,0,22,0,34,45,14,27,75,59])"
      ],
      "metadata": {
        "id": "cZaQTUVApIa2",
        "outputId": "1da46601-e2a6-43be-bdb9-e1695ccb785b",
        "colab": {
          "base_uri": "https://localhost:8080/"
        }
      },
      "execution_count": 7,
      "outputs": [
        {
          "output_type": "stream",
          "name": "stdout",
          "text": [
            "OK\n"
          ]
        }
      ]
    }
  ]
}