{
  "nbformat": 4,
  "nbformat_minor": 0,
  "metadata": {
    "colab": {
      "provenance": []
    },
    "kernelspec": {
      "name": "python3",
      "display_name": "Python 3"
    },
    "language_info": {
      "name": "python"
    }
  },
  "cells": [
    {
      "cell_type": "markdown",
      "source": [
        "### Ejercicio 4.4\n",
        "\n",
        "Suponga que los campos ``info`` de los nodos externos de un árbol contienen solo números y escriba una función que pueda invocarse como ``formula.evaluar()``, que al ser ejecutada entregue el valor numérico  de la fórmula representada por el árbol. Modifique a continuación la definición de las clases ``Arbol``, ``Nodoi`` y ``Nodoe`` para que incluyan la nueva función ``evaluar()``. Note que tiene que implementar la función ``evaluar()`` en las tres clases."
      ],
      "metadata": {
        "id": "XNP5XVpx4uHs"
      }
    },
    {
      "cell_type": "code",
      "source": [
        "class Nodoi:\n",
        "    def __init__(self, izq, info, der):\n",
        "        self.izq=izq\n",
        "        self.info=info\n",
        "        self.der=der\n",
        "    def evaluar(self):\n",
        "        #self.izq.evaluar()\n",
        "        #print(self.info, end=\" \")\n",
        "        #self.der.evaluar()\n",
        "\n",
        "        if self.info == '+':\n",
        "          return self.izq.evaluar() + self.der.evaluar()\n",
        "        if self.info == '-':\n",
        "          return self.izq.evaluar() - self.der.evaluar()\n",
        "        if self.info == '*':\n",
        "          return self.izq.evaluar() * self.der.evaluar()\n",
        "        if self.info == '/':\n",
        "          return self.izq.evaluar() // self.der.evaluar()\n",
        "\n",
        "class Nodoe:\n",
        "    def __init__(self, info=\"\"):\n",
        "        self.info=info\n",
        "    def evaluar(self):\n",
        "        return self.info\n",
        "\n",
        "class Arbol:\n",
        "    def __init__(self,raiz=Nodoe()):\n",
        "        self.raiz=raiz\n",
        "    def evaluar(self):\n",
        "        print(\"Formula Evaluada:\", end=\" \")\n",
        "        return self.raiz.evaluar()"
      ],
      "metadata": {
        "id": "k7xqkHbp4uw9"
      },
      "execution_count": 27,
      "outputs": []
    },
    {
      "cell_type": "markdown",
      "source": [
        "Pruébela a continuación:"
      ],
      "metadata": {
        "id": "iKqE7gtQ4xtp"
      }
    },
    {
      "cell_type": "code",
      "source": [
        "formula= Arbol(\n",
        "            Nodoi(\n",
        "                Nodoi(Nodoe(5),\"+\",Nodoe(2)),\n",
        "                \"*\",\n",
        "                Nodoi(\n",
        "                    Nodoe(8),\n",
        "                    \"-\",\n",
        "                    Nodoi(Nodoe(9),\"/\",Nodoe(3))\n",
        "                )\n",
        "            )\n",
        "        )\n",
        "print(formula.evaluar())"
      ],
      "metadata": {
        "id": "5aRkHHec4zdj",
        "outputId": "10d6f666-3b56-4106-dfa6-3fc8c1870f39",
        "colab": {
          "base_uri": "https://localhost:8080/"
        }
      },
      "execution_count": 28,
      "outputs": [
        {
          "output_type": "stream",
          "name": "stdout",
          "text": [
            "Formula Evaluada: 35\n"
          ]
        }
      ]
    }
  ]
}