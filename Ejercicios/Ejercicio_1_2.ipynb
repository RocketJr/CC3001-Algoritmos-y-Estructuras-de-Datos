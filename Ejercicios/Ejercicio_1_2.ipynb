{
  "nbformat": 4,
  "nbformat_minor": 0,
  "metadata": {
    "colab": {
      "provenance": []
    },
    "kernelspec": {
      "name": "python3",
      "display_name": "Python 3"
    },
    "language_info": {
      "name": "python"
    }
  },
  "cells": [
    {
      "cell_type": "markdown",
      "source": [
        "### Ejercicio 1.2\n",
        "\n",
        "Existe un algoritmo alternativo a Hoare, que resulta en una codificación más sencilla. Este algoritmo, debido a **Lomuto**, se basa en el siguiente invariante:\n",
        "\n",
        "![particion-Lomuto](https://github.com/ivansipiran/AED-Apuntes/blob/main/recursos/particion-Lomuto.png?raw=1)\n",
        "\n",
        "En este algoritmo, en cada iteración, si $a[j]<p$, se intercambian $a[i]$ con $a[j]$ y se incrementa $i$, porque ahora hay un elemento más en el grupo de los menores que $p$. Después de esto, se incrementa $j$, *incondicionalmente* (¿por qué es correcto hacer eso?).\n",
        "\n",
        "Programe la partición de Lomuto en el recuadro siguiente y pruébela."
      ],
      "metadata": {
        "id": "nXNyQ9nf30SN"
      }
    },
    {
      "cell_type": "code",
      "source": [
        "def particionLomuto(a,p):\n",
        "    # retorna el punto de corte, el número de elementos <p y la lista particionada\n",
        "    n=len(a)\n",
        "    (i,j)=(0,n-1)\n",
        "    # escribir acá el algoritmo de partición de Lomuto\n",
        "    for j in range(0, n):\n",
        "        if a[j]<p:\n",
        "            (a[i],a[j])=(a[j],a[i])\n",
        "            i+=1\n",
        "    #(a[i],a[n-1])=(a[n-1],a[i])\n",
        "    j+=1\n",
        "    return (p,i,a)"
      ],
      "metadata": {
        "id": "kci3F75132G-"
      },
      "execution_count": 17,
      "outputs": []
    },
    {
      "cell_type": "code",
      "source": [
        "def verifica_particion(t): # imprime y chequea partición\n",
        "    (p,m,a)=t\n",
        "    # p=punto de corte, m=número de elementos <p, a=lista completa particionada\n",
        "    print(a[0:m],p,a[m:])\n",
        "    print(\"Partición OK\" if (m==0 or max(a[0:m])<p) and (m==len(a) or min(a[m:])>p)\n",
        "          else \"Error\")"
      ],
      "metadata": {
        "id": "zK2qVJ5g32gl"
      },
      "execution_count": 18,
      "outputs": []
    },
    {
      "cell_type": "code",
      "source": [
        "verifica_particion(particionLomuto([73,21,34,98,56,37,77,65,82,15,36],50))"
      ],
      "metadata": {
        "colab": {
          "base_uri": "https://localhost:8080/"
        },
        "id": "j7eIemfK33x3",
        "outputId": "c3d1c500-301b-44c8-8254-0b7435a5e06e"
      },
      "execution_count": 19,
      "outputs": [
        {
          "output_type": "stream",
          "name": "stdout",
          "text": [
            "[21, 34, 37, 15, 36] 50 [73, 77, 65, 82, 98, 56]\n",
            "Partición OK\n"
          ]
        }
      ]
    },
    {
      "cell_type": "code",
      "source": [
        "verifica_particion(particionLomuto([73,21,34,98,56,37,77,65,82,15,36],0))"
      ],
      "metadata": {
        "colab": {
          "base_uri": "https://localhost:8080/"
        },
        "id": "f7YrN2fC35JT",
        "outputId": "48f61eeb-ef93-4096-ad91-906675e854fc"
      },
      "execution_count": 20,
      "outputs": [
        {
          "output_type": "stream",
          "name": "stdout",
          "text": [
            "[] 0 [73, 21, 34, 98, 56, 37, 77, 65, 82, 15, 36]\n",
            "Partición OK\n"
          ]
        }
      ]
    },
    {
      "cell_type": "code",
      "source": [
        "verifica_particion(particionLomuto([73,21,34,98,56,37,77,65,82,15,36],100))"
      ],
      "metadata": {
        "colab": {
          "base_uri": "https://localhost:8080/"
        },
        "id": "kHVdQvz236gk",
        "outputId": "b65fd09f-35e5-46d9-cb2d-9c7c154feb58"
      },
      "execution_count": 21,
      "outputs": [
        {
          "output_type": "stream",
          "name": "stdout",
          "text": [
            "[73, 21, 34, 98, 56, 37, 77, 65, 82, 15, 36] 100 []\n",
            "Partición OK\n"
          ]
        }
      ]
    }
  ]
}