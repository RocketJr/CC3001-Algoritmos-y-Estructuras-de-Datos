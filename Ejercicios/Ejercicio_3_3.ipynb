{
  "nbformat": 4,
  "nbformat_minor": 0,
  "metadata": {
    "colab": {
      "provenance": []
    },
    "kernelspec": {
      "name": "python3",
      "display_name": "Python 3"
    },
    "language_info": {
      "name": "python"
    }
  },
  "cells": [
    {
      "cell_type": "markdown",
      "source": [
        "### Ejercicio 3.3\n",
        "\n",
        "Modifique la función ``LCS`` para que retorne una subsecuencia común más larga, en lugar de retornar su longitud.\n",
        "\n",
        "Recordemos que el algoritmo del apunte va llenando una martiz $L$, donde $L[i,j]$ contiene el largo de la subsecuencia común mas larga entre $a[0:i]$ y $b[0:j]$. Su algoritmo modificado debe ir llenando en paralelo una matriz $S$, tal que $S[i,j]$ contenga un string que es la subsecuencia común más larga entre $a[0:i]$ y $b[0:j]$.\n",
        "\n",
        "Para ayudarlo, el siguiente código ya tiene la definición de la matriz y la inicialización respectiva. Usted tiene que encargarse de modificar todo lo demás que sea necesario para cumplir con lo pedido."
      ],
      "metadata": {
        "id": "3MZK-uz54dbX"
      }
    },
    {
      "cell_type": "code",
      "source": [
        "import numpy as np\n",
        "def LCS(a,b):\n",
        "    \"\"\"\n",
        "    Encuentra el largo de la subsecuencia común más larga entre a y b\n",
        "    \"\"\"\n",
        "    m=len(a)\n",
        "    n=len(b)\n",
        "    L=np.zeros((m+1,n+1),dtype=int)\n",
        "    S=np.empty((m+1,n+1),dtype=object)\n",
        "    for i in range(0,m+1):\n",
        "      S[i,0]=\"\"\n",
        "    for j in range(0,n+1):\n",
        "      S[0,j]=\"\"\n",
        "    for i in range(1,m+1):\n",
        "        for j in range(1,n+1):\n",
        "            if a[i-1]==b[j-1]:\n",
        "                L[i,j]=1+L[i-1,j-1]\n",
        "                S[i,j] = S[i-1,j-1] + b[j-1]\n",
        "            else: # lo siguiente es equivalente a L[i,j]=max(L[i-1,j],L[i,j-1])\n",
        "                if L[i-1,j]>L[i,j-1]:\n",
        "                    L[i,j]=L[i-1,j]\n",
        "                    S[i,j]=S[i-1,j]\n",
        "\n",
        "                else:\n",
        "                    L[i,j]=L[i,j-1]\n",
        "                    S[i,j]=S[i,j-1]\n",
        "    return S[m,n]"
      ],
      "metadata": {
        "id": "sdsH2Mk_4d9q"
      },
      "execution_count": 24,
      "outputs": []
    },
    {
      "cell_type": "code",
      "source": [
        "assert LCS(\"abracadabra\",\"pasapalabra\")==\"aaaabra\""
      ],
      "metadata": {
        "id": "CohOtrR-4fjF"
      },
      "execution_count": 25,
      "outputs": []
    },
    {
      "cell_type": "code",
      "source": [
        "assert LCS(\"matemáticas\",\"computación\") in [\"mta\", \"mti\", \"mai\"]"
      ],
      "metadata": {
        "id": "Lxo5wkqw4gr7"
      },
      "execution_count": 26,
      "outputs": []
    }
  ]
}