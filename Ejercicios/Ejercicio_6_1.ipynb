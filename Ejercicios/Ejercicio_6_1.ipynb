{
  "nbformat": 4,
  "nbformat_minor": 0,
  "metadata": {
    "colab": {
      "provenance": []
    },
    "kernelspec": {
      "name": "python3",
      "display_name": "Python 3"
    },
    "language_info": {
      "name": "python"
    }
  },
  "cells": [
    {
      "cell_type": "markdown",
      "source": [
        "### Ejercicio 6.1 (Chequear si un árbol es AVL en tiempo lineal)\n",
        "\n",
        "En este ejercicio usted debe modificar la implementación dada para asegurar que cada nodo del árbol se visite solo una vez, asegurando de esta manera que el costo de determinar si un árbol es AVL sea $\\Theta(n)$.\n",
        "\n",
        "Para esto, usted debe fusionar las funciones ``altura`` y ``es_AVL``en una sola función ``altura_AVL``, que retorne una tupla $(h,a)$, donde $h$ es la altura y $a$ es un booleano que dice si el árbol es AVL. De esta manera, al invocar la función se tiene de una sola vez toda la información necesaria."
      ],
      "metadata": {
        "id": "DkHFMEGqn4VP"
      }
    },
    {
      "cell_type": "code",
      "source": [
        "class Nodoi:\n",
        "    def __init__(self, izq, info, der):\n",
        "        self.izq=izq\n",
        "        self.info=info\n",
        "        self.der=der\n",
        "        #----------\n",
        "        self.height=1+max(izq.height,der.height)\n",
        "\n",
        "    def altura(self):\n",
        "        return 1+max(self.izq.altura(),self.der.altura())\n",
        "\n",
        "    def es_AVL(self):\n",
        "        return abs(self.izq.altura()-self.der.altura())<=1 \\\n",
        "                and self.izq.es_AVL() and self.der.es_AVL()\n",
        "\n",
        "    #----------\n",
        "    def altura_AVL(self):\n",
        "      #h = 1+max(self.izq.altura(),self.der.altura())\n",
        "      #a = abs(self.izq.altura()-self.der.altura())<=1 \\\n",
        "          #and self.izq.es_AVL() and self.der.es_AVL()\n",
        "      h = self.height\n",
        "      a = abs(self.izq.height-self.der.height)<=1 \\\n",
        "            and self.izq.es_AVL() and self.der.es_AVL()\n",
        "      return h,a\n",
        "\n",
        "    def __str__(self):\n",
        "        return \"(\"+self.izq.__str__()+str(self.info)+self.der.__str__()+\")\"\n",
        "\n",
        "class Nodoe:\n",
        "    def __init__(self):\n",
        "        #----------\n",
        "        self.height=0\n",
        "        #pass\n",
        "\n",
        "    def altura(self):\n",
        "        return 0\n",
        "\n",
        "    def es_AVL(self):\n",
        "        return True\n",
        "\n",
        "    def __str__(self):\n",
        "        return\"☐\"\n",
        "\n",
        "    def altura_AVL(self):\n",
        "        return 0,True\n",
        "\n",
        "class Arbol:\n",
        "    def __init__(self,raiz=Nodoe()):\n",
        "        self.raiz=raiz\n",
        "\n",
        "    def es_AVL(self):\n",
        "        return self.raiz.es_AVL()\n",
        "\n",
        "    def __str__(self):\n",
        "        return self.raiz.__str__()\n",
        "\n",
        "    #----------\n",
        "    def altura_AVL(self):\n",
        "      return self.raiz.altura_AVL()\n",
        "\n",
        "      #Estas funciones eran para comprobar si las raices/alturas me dan bien\n",
        "      #a = self.raiz.es_AVL()\n",
        "      #h = self.raiz.altura()\n",
        "      #return h,a"
      ],
      "metadata": {
        "id": "Wy7SpSeen6Le"
      },
      "execution_count": 1,
      "outputs": []
    },
    {
      "cell_type": "markdown",
      "source": [
        "A continuación, pruébela con los dos árboles utilizados anteriormente:"
      ],
      "metadata": {
        "id": "FBQ3Lqhtn_Ie"
      }
    },
    {
      "cell_type": "code",
      "source": [
        "a1=Arbol(Nodoi(Nodoi(Nodoe(),1,Nodoe()),\n",
        "            2,\n",
        "            Nodoi(Nodoe(),3,Nodoi(Nodoe(),4,Nodoe()))))\n",
        "print(a1)\n",
        "print(a1.es_AVL())"
      ],
      "metadata": {
        "colab": {
          "base_uri": "https://localhost:8080/"
        },
        "id": "zAYziRDRn9dg",
        "outputId": "1036b19a-dc06-4bc0-aba3-b9e247df122f"
      },
      "execution_count": 2,
      "outputs": [
        {
          "output_type": "stream",
          "name": "stdout",
          "text": [
            "((☐1☐)2(☐3(☐4☐)))\n",
            "True\n"
          ]
        }
      ]
    },
    {
      "cell_type": "code",
      "source": [
        "a2=Arbol(Nodoi(Nodoi(Nodoe(),1,Nodoe()),\n",
        "            2,\n",
        "            Nodoi(Nodoe(),3,Nodoi(Nodoe(),4,Nodoi(Nodoe(),5,Nodoe())))))\n",
        "print(a2)\n",
        "print(a2.es_AVL())"
      ],
      "metadata": {
        "colab": {
          "base_uri": "https://localhost:8080/"
        },
        "id": "eivt6ml5oA8A",
        "outputId": "d7db6d09-13a4-44eb-9555-bc4ca1c0df76"
      },
      "execution_count": 3,
      "outputs": [
        {
          "output_type": "stream",
          "name": "stdout",
          "text": [
            "((☐1☐)2(☐3(☐4(☐5☐))))\n",
            "False\n"
          ]
        }
      ]
    },
    {
      "cell_type": "markdown",
      "source": [
        "Ahora con altura_AVL:"
      ],
      "metadata": {
        "id": "cHGWZWH0oCt2"
      }
    },
    {
      "cell_type": "code",
      "source": [
        "a1=Arbol(Nodoi(Nodoi(Nodoe(),1,Nodoe()),\n",
        "            2,\n",
        "            Nodoi(Nodoe(),3,Nodoi(Nodoe(),4,Nodoe()))))\n",
        "print(a1)\n",
        "print(a1.altura_AVL())"
      ],
      "metadata": {
        "colab": {
          "base_uri": "https://localhost:8080/"
        },
        "id": "tRtEE3kCoD_C",
        "outputId": "56d52a50-25f7-4527-ff5d-5d7ba55df05b"
      },
      "execution_count": 4,
      "outputs": [
        {
          "output_type": "stream",
          "name": "stdout",
          "text": [
            "((☐1☐)2(☐3(☐4☐)))\n",
            "(3, True)\n"
          ]
        }
      ]
    },
    {
      "cell_type": "code",
      "source": [
        "a2=Arbol(Nodoi(Nodoi(Nodoe(),1,Nodoe()),\n",
        "            2,\n",
        "            Nodoi(Nodoe(),3,Nodoi(Nodoe(),4,Nodoi(Nodoe(),5,Nodoe())))))\n",
        "print(a2)\n",
        "print(a2.altura_AVL())"
      ],
      "metadata": {
        "colab": {
          "base_uri": "https://localhost:8080/"
        },
        "id": "FwExJ5kBoFyO",
        "outputId": "e0d8ac1f-841e-4d0d-93b3-ff8e0a9800d0"
      },
      "execution_count": 5,
      "outputs": [
        {
          "output_type": "stream",
          "name": "stdout",
          "text": [
            "((☐1☐)2(☐3(☐4(☐5☐))))\n",
            "(4, False)\n"
          ]
        }
      ]
    }
  ]
}