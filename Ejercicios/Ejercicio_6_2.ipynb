{
  "nbformat": 4,
  "nbformat_minor": 0,
  "metadata": {
    "colab": {
      "provenance": []
    },
    "kernelspec": {
      "name": "python3",
      "display_name": "Python 3"
    },
    "language_info": {
      "name": "python"
    }
  },
  "cells": [
    {
      "cell_type": "markdown",
      "source": [
        "### Ejercicio 6.2 (Número de operaciones *split*)\n",
        "\n",
        "Supongamos que comenzamos con un árbol 2-3 vacío y a continuación insertamos $n$ llaves. El objetivo de este ejercicio es calcular cuántas operaciones *split* se pueden llegar a ejecutar a lo largo de este proceso, en el peor caso.\n",
        "\n",
        "Una manera de acotar este número de operaciones es ver que una inserción puede gatillar la ejecución de $O(\\log{n})$ operaciones *split*, y como son $n$ inserciones, el número total de operaciones *split* es $O(n\\log{n})$.\n",
        "\n",
        "Lo anterior es una cota superior, pero en realidad está muy sobredimensionada.\n",
        "\n",
        "Demuestre que el número total de operaciones *split* ejecutadas al insertar $n$ llaves comenzando con un árbol 2-3 vacío es $O(n)$ en el peor caso. Escriba su demostración en el siguiente recuadro.\n",
        "\n",
        "*Indicación*: Considere el impacto de un *split* sobre el número de nodos del árbol."
      ],
      "metadata": {
        "id": "Yn6orl6joY2o"
      }
    },
    {
      "cell_type": "markdown",
      "source": [
        "#### Demostración:"
      ],
      "metadata": {
        "id": "h161_dQCocH8"
      }
    },
    {
      "cell_type": "markdown",
      "source": [
        "Podemos notar que el peor caso es cuando se van agregando un valor incremencial de 1.\n",
        "\n",
        "En el caso de tener un nodo con 1 llave o 2 llaves no ocurren ningun split, al momento de tener 3 llaves en un nodo, esto lo satura, asi aplicando un split.\n",
        "\n",
        "Tomemos el caso de presentar 3 llaves, aqui vemos que ocurre 1 split, y cuando tenemos 5 llaves ocurren 2 splits en total, teniendo 7 llaves se llega a 4 splits en total, con 9 llaves tenemos 5 splits, con 11 llaves tenemos 7 splits.(3 nodos 1 split, 4 nodos 2 splits, 7 nodos 4 splits, 8 nodos 5 splits, 11 nodos 8 splits...)\n",
        "\n",
        "Podemos notar esto tambien si comparamos el numero de nodos con las llaves, se tiene que 3 nodos 3 llaves, 4 nodos 5 llaves, 7 nodos 7 llaves, 8 nodos 9 llaves, 10 nodos 11 laves. Lo que tambien es un patron.\n",
        "\n",
        "| Llaves | 1 | 2 | 3 | 4 | 5 | 6 | 7 | 8 | 9 | 10 | 11 | 12 | 13 | 14 | 15 | 16 | 17 | 18 | 19 | 20 |\n",
        "| --- | --- | --- | --- | --- | --- | --- | --- | --- | --- | --- | --- | --- | --- | --- | --- | --- | --- | --- | --- | --- |\n",
        "| Nodos | 1 | 1 | 3 | 3 | 4 | 4 | 7 | 7 | 8 | 8 | 10 | 10 | 11 | 11 | 15 | 15 | 16 | 16 | 18 | 18 |\n",
        "| Splits | 0 | 0 | 1 | 1 | 2 | 2 | 4 | 4 | 5 | 5 | 7 | 7 | 8 | 8 | 11 | 11 | 12 | 12 | 14 | 14 |\n",
        "\n",
        "Y como la cantidad de llaves es $\\ge$ a la cantidad de nodos y la cantidad de nodos $>$ a la cantidad de splits, llegamos a que el incremento de las llaves es de orden $O(n)$, y como este incremento cambia el numero de nodos y el numero de nodos incrementa el numero de splits, podemos concluir que el numero de llaves incrementa el numero de splits, y que el numero de llaves es $>$ a los splits. Las llaves acotan superiormente a los nodos y splits, por ende estos son de orden $O(n)$ en el peor caso.\n",
        "\n",
        "![inserciones-2-3](https://github.com/ivansipiran/AED-Apuntes/blob/main/recursos/inserciones-2-3.png?raw=1)\n"
      ],
      "metadata": {
        "id": "Ewg-WAFIocu4"
      }
    }
  ]
}