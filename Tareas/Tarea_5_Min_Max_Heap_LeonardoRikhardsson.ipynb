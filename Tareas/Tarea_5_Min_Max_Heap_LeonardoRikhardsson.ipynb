{
  "cells": [
    {
      "cell_type": "markdown",
      "metadata": {
        "id": "jbGTgr_lRz25"
      },
      "source": [
        "# CC3001 2022-2 - Tarea 5: `Min_Max_Heap` -- Leonardo Rikhardsson"
      ]
    },
    {
      "cell_type": "markdown",
      "metadata": {
        "id": "shGWx5JEm7G0"
      },
      "source": [
        "\n",
        "## Profesores: Nelson Baloian, Jérémy Barbay, Benjamín Bustos, Patricio Poblete"
      ]
    },
    {
      "cell_type": "markdown",
      "metadata": {
        "id": "Airlyusam2BK"
      },
      "source": [
        "Según las condiciones de su sección, pueden entregar un link a su tarea en `colab` o subir un archivo en el formato Jupyter NoteBook (`.ipynb`). Puede crear todas las funciones auxiliares que requiera para implementar las funciones solicitadas. Para programar las funciones debe usar los *array* de *numpy*. Los únicos métodos de los objetos de tipo *array* que puede utilizar en su solución son los siguientes:\n",
        "\n",
        "- El método *array* para crear un arreglo.\n",
        "- Los métodos *zeros*, *ones* y *full* para inicializar un *array*.\n",
        "\n",
        "No se puede utilizar ningún otro método disponible en módulos de Python.\n"
      ]
    },
    {
      "cell_type": "markdown",
      "source": [
        "# El Problema\n"
      ],
      "metadata": {
        "id": "rAOWQ-cDkmQ-"
      }
    },
    {
      "cell_type": "markdown",
      "source": [
        "Se trata de extender una implementación de un `Max_Heap` (tal como, por ejemplo, la de los [apuntes](https://colab.research.google.com/github/ivansipiran/AED-Apuntes/blob/main/05_Pilas_Colas_y_Colas_de_Prioridad.ipynb#scrollTo=Implementaci_n_usando_un_Heap), o la implementación [abajo](https://colab.research.google.com/drive/1cy50yuJZ6leVGdJg2iXNZV6SHtYTXisu#scrollTo=Implementaci_n_de_un_Max_Heap_que_dibujo_los_estados_intermedios) la cual permite dibujar el árbol correspondiendo al heap) en un `Min_Max_Heap` (tal como está definido, por ejemplo, en [Wikipedia](https://en.wikipedia.org/wiki/Min-max_heap)), que soporta tanto `extract_min` como `extract_max` en tiempo logarítmico en la cantidad de elementos en el `Min_Max_Heap`."
      ],
      "metadata": {
        "id": "BtlRU93Xk1Dn"
      }
    },
    {
      "cell_type": "markdown",
      "source": [
        "## Descripción formal de un `Min_Max_Heap`"
      ],
      "metadata": {
        "id": "9F-p1srtyKH0"
      }
    },
    {
      "cell_type": "markdown",
      "source": [
        "\n",
        "Un `Min_Max_Heap` de $n$ elementos es muy similar a un `Min_Heap` o un `Max_Heap` en el sentido que es un árbol binario balanceado perfecto representado en las $n$ primeras posiciones de un arreglo. La diferencia con un `Min_Heap` o un `Max_Heap` es que para los nodos cuya distancia (largo del camino) a la raíz es par (e.g., $0,2,4,\\ldots$) aplican las reglas de un `Min_Heap` (i.e., tiene valor menor o igual a los de todos sus descendientes), mientras que para los nodos cuya distancia a la raíz es impar (e.g., ($1,3,5,\\ldots$) aplican las reglas de un `Max_Heap` (i.e., tiene valor mayor o igual a los de todos sus descendientes).\n"
      ],
      "metadata": {
        "id": "XDqHJP4OyreC"
      }
    },
    {
      "cell_type": "markdown",
      "source": [
        "\n",
        "Para insertar un elemento en un `Min_Max_Heap`, se inserta al final del arreglo y se compara con el valor de su nodo \"*padre*\":\n",
        "\n",
        "- si es inferior al valor de su nodo padre, entonces es inferior a todos los valores de nodos `max` (i.e., a distancia impar de la raíz), y se deben considerar únicamente los nodos ancestros de tipo `min` (i.e., a distancia par de la raíz) para *corregir* el `Min_Max_Heap`, usando el proceso de un `Min_Heap`; por el contrario,\n",
        "\n",
        "- si es superior al valor de su nodo padre, entonces es superior a todos los valores de nodos `min` (i.e., a distancia par de la raíz), y se deben considerar únicamente los nodos ancestros de tipo `max` (i.e., a distancia impar de la raíz) para *corregir* el `Min_Max_Heap`, usando el proceso de un `Max_Heap`.\n"
      ],
      "metadata": {
        "id": "icFOZAL3ywmN"
      }
    },
    {
      "cell_type": "markdown",
      "source": [
        "\n",
        "Para extraer el mínimo de un `Min_Max_Heap`, se saca la raíz, se reemplaza por el último elemento del arreglo, y se procede a *corregir* el `Min_Max_Heap` de manera simétrica al proceso de la inserción.  Para extraer el máximo de un `Min_Max_Heap`, se saca el hijo mayor de la raíz, se reemplaza dicho valor por el último elemento del arreglo, y se procede a *corregir* el `Min_Max_Heap` de manera simétrica al proceso de la inserción."
      ],
      "metadata": {
        "id": "H0a8BVPfy4yS"
      }
    },
    {
      "cell_type": "markdown",
      "source": [
        "\n",
        "Para corregir un `Min_Max_Heap` tomaremos el caso en que el nodo actual está en un nivel min (par), el caso para un nodo en nivel max es análogo.  Luego de reemplazar la raíz se debe comparar el nodo que se insertó con sus hijo y los hijos de sus hijos y tomar el mínimo entre estos siete elementos, luego, tenemos tres casos:\n",
        "1. El mínimo es el nodo actual, en ese caso el heap ya está balanceado y no hay que realizar más cambios.\n",
        "1. El mínimo es un hijo del nodo actual, en este caso se debe hacer swap entre el nodo y el hijo, y ahí termina la corrección.\n",
        "1. El mínimo es un nieto del nodo actual, en este caso se debe hacer swap entre el nodo y el nieto, y corregir recursivamente desde el nieto.\n"
      ],
      "metadata": {
        "id": "xOWLdpfYy7_N"
      }
    },
    {
      "cell_type": "markdown",
      "metadata": {
        "id": "1wZ0yK7PxGx4"
      },
      "source": [
        "# Parte 1: `Min_Max_Heap_es_valido`\n"
      ]
    },
    {
      "cell_type": "markdown",
      "source": [
        "Antes de comenzar a programar, estudie bien la definición de un `Min_Max_Heap` y luego defina un metodo `Min_Max_Heap_es_valido` que, dado un arreglo de valores, retorna `True` si corresponde a un `Min_Max_Heap` y `False` sino."
      ],
      "metadata": {
        "id": "8c4KSywLoRK2"
      }
    },
    {
      "cell_type": "code",
      "source": [
        "import numpy as np\n",
        "\n",
        "def Min_Max_Heap_es_valido(arreglo):\n",
        "  \"\"\"Dado un arreglo de valores, retorna `True` si corresponde a un `Min_Max_Heap` y `False` sino.\"\"\"\n",
        "  # Su codigo aqui\n",
        "  n = len(arreglo)\n",
        "  for i in range(0,n):\n",
        "    raiz = int(np.log2(i+1))\n",
        "    if raiz%2==0:\n",
        "      if n > 2*i+1:\n",
        "        if arreglo[i] >= arreglo[2*i+1]:\n",
        "          return False\n",
        "      if n > 2*i+2:\n",
        "        if arreglo[i] >= arreglo[2*i+2]:\n",
        "          return False\n",
        "    elif raiz%2!=0:\n",
        "      if n > 2*i+1:\n",
        "        if arreglo[i] < arreglo[2*i+1]:\n",
        "          return False\n",
        "      if n > 2*i+2:\n",
        "        if arreglo[i] < arreglo[2*i+2]:\n",
        "          return False\n",
        "  return True\n",
        "\n",
        "a = np.array([1,2,3])\n",
        "assert Min_Max_Heap_es_valido(a) == True\n",
        "\n",
        "a = np.array([1,2,3,4,5,6,7])\n",
        "assert Min_Max_Heap_es_valido(a) == False\n",
        "\n",
        "a = np.array([1,6,7,4,5,2,3])\n",
        "assert Min_Max_Heap_es_valido(a) == True\n",
        "\n",
        "# Mas pruebas de caso aqui.\n",
        "a = np.array([1,6,7,4,5,2,3,1])\n",
        "assert Min_Max_Heap_es_valido(a) == False\n",
        "\n",
        "a = np.array([1,6,7,4,5,2,3,8])\n",
        "assert Min_Max_Heap_es_valido(a) == True\n",
        "\n",
        "a = np.array([1,6,7,4,5,2,3,8,9,8,8,8,8,8,8,10])\n",
        "assert Min_Max_Heap_es_valido(a) == False\n",
        "\n",
        "a = np.array([1])\n",
        "assert Min_Max_Heap_es_valido(a) == True\n",
        "\n",
        "a = np.array([2,1])\n",
        "assert Min_Max_Heap_es_valido(a) == False\n",
        "\n",
        "a = np.array([1,2,3])\n",
        "assert Min_Max_Heap_es_valido(a) == True\n",
        "\n",
        "a = np.array([1,5,4,3,2])\n",
        "assert Min_Max_Heap_es_valido(a) == True\n",
        "\n",
        "a = np.array([3,5,4,1,2])\n",
        "assert Min_Max_Heap_es_valido(a) == False\n",
        "\n",
        "a = np.array([1,35,32,6,3,4,5,20,21,22,23,24,25,26,27,6,7,8,9,10,11,12,13,14,15,16,17,18,19,20,21,2])\n",
        "assert Min_Max_Heap_es_valido(a) == False\n",
        "\n",
        "a = np.array([1,35,32,6,3,4,5,20,21,22,23,24,25,26,27,6,7,8,9,10,11,12,13,14,15,16,17,18,19,20,21,8])\n",
        "assert Min_Max_Heap_es_valido(a) == True\n",
        "\n",
        "a = np.array([1,25,22,3,6,7,8,27,28,29,30])\n",
        "assert Min_Max_Heap_es_valido(a) == False\n",
        "\n",
        "a = np.array([3,2,1])\n",
        "assert Min_Max_Heap_es_valido(a) == False\n",
        "\n",
        "a = np.array([2,3,1])\n",
        "assert Min_Max_Heap_es_valido(a) == False\n",
        "\n",
        "a = np.array([1,2,3,4,5,6,7])\n",
        "assert Min_Max_Heap_es_valido(a) == False\n",
        "\n",
        "a = np.array([1,6,7,4,5,2,3])\n",
        "assert Min_Max_Heap_es_valido(a) == True\n",
        "\n",
        "a = np.array([1,10,7,4,5,2,3,6,8,9])\n",
        "assert Min_Max_Heap_es_valido(a) == True\n",
        "\n",
        "a = np.array([1,10,8,5,3,2,4,9,7,6])\n",
        "assert Min_Max_Heap_es_valido(a) == True\n",
        "\n",
        "a = np.array([8,71,41,31,10,11,16,46,51,31,21,13]) #el de Wikipedia\n",
        "assert Min_Max_Heap_es_valido(a) == True\n",
        "\n",
        "a = np.array([1, 213, 237, 2, 4, 19, 35, 184, 159, 157, 205, 154, 230, 207, 84, 134, 18, 5, 31, 26, 64, 38, 29, 57, 21, 141, 70, 182, 107, 79, 58, 160, 148, 22, 149, 90, 6, 137, 120, 112, 102, 115, 142, 165, 43, 149, 46, 98, 90, 66]) #el de Wikipedia\n",
        "assert Min_Max_Heap_es_valido(a) == True"
      ],
      "metadata": {
        "id": "waU41OhmX1Bw",
        "colab": {
          "base_uri": "https://localhost:8080/",
          "height": 232
        },
        "outputId": "bbb6bd2b-9bcd-42b4-e87f-35d463c362ec"
      },
      "execution_count": null,
      "outputs": [
        {
          "output_type": "error",
          "ename": "AssertionError",
          "evalue": "ignored",
          "traceback": [
            "\u001b[0;31m---------------------------------------------------------------------------\u001b[0m",
            "\u001b[0;31mAssertionError\u001b[0m                            Traceback (most recent call last)",
            "\u001b[0;32m<ipython-input-1-19960e214cc1>\u001b[0m in \u001b[0;36m<module>\u001b[0;34m\u001b[0m\n\u001b[1;32m     55\u001b[0m \u001b[0;34m\u001b[0m\u001b[0m\n\u001b[1;32m     56\u001b[0m \u001b[0ma\u001b[0m \u001b[0;34m=\u001b[0m \u001b[0mnp\u001b[0m\u001b[0;34m.\u001b[0m\u001b[0marray\u001b[0m\u001b[0;34m(\u001b[0m\u001b[0;34m[\u001b[0m\u001b[0;36m3\u001b[0m\u001b[0;34m,\u001b[0m\u001b[0;36m5\u001b[0m\u001b[0;34m,\u001b[0m\u001b[0;36m4\u001b[0m\u001b[0;34m,\u001b[0m\u001b[0;36m1\u001b[0m\u001b[0;34m,\u001b[0m\u001b[0;36m2\u001b[0m\u001b[0;34m]\u001b[0m\u001b[0;34m)\u001b[0m\u001b[0;34m\u001b[0m\u001b[0;34m\u001b[0m\u001b[0m\n\u001b[0;32m---> 57\u001b[0;31m \u001b[0;32massert\u001b[0m \u001b[0mMin_Max_Heap_es_valido\u001b[0m\u001b[0;34m(\u001b[0m\u001b[0ma\u001b[0m\u001b[0;34m)\u001b[0m \u001b[0;34m==\u001b[0m \u001b[0;32mFalse\u001b[0m\u001b[0;34m\u001b[0m\u001b[0;34m\u001b[0m\u001b[0m\n\u001b[0m\u001b[1;32m     58\u001b[0m \u001b[0;34m\u001b[0m\u001b[0m\n\u001b[1;32m     59\u001b[0m \u001b[0ma\u001b[0m \u001b[0;34m=\u001b[0m \u001b[0mnp\u001b[0m\u001b[0;34m.\u001b[0m\u001b[0marray\u001b[0m\u001b[0;34m(\u001b[0m\u001b[0;34m[\u001b[0m\u001b[0;36m1\u001b[0m\u001b[0;34m,\u001b[0m\u001b[0;36m35\u001b[0m\u001b[0;34m,\u001b[0m\u001b[0;36m32\u001b[0m\u001b[0;34m,\u001b[0m\u001b[0;36m6\u001b[0m\u001b[0;34m,\u001b[0m\u001b[0;36m3\u001b[0m\u001b[0;34m,\u001b[0m\u001b[0;36m4\u001b[0m\u001b[0;34m,\u001b[0m\u001b[0;36m5\u001b[0m\u001b[0;34m,\u001b[0m\u001b[0;36m20\u001b[0m\u001b[0;34m,\u001b[0m\u001b[0;36m21\u001b[0m\u001b[0;34m,\u001b[0m\u001b[0;36m22\u001b[0m\u001b[0;34m,\u001b[0m\u001b[0;36m23\u001b[0m\u001b[0;34m,\u001b[0m\u001b[0;36m24\u001b[0m\u001b[0;34m,\u001b[0m\u001b[0;36m25\u001b[0m\u001b[0;34m,\u001b[0m\u001b[0;36m26\u001b[0m\u001b[0;34m,\u001b[0m\u001b[0;36m27\u001b[0m\u001b[0;34m,\u001b[0m\u001b[0;36m6\u001b[0m\u001b[0;34m,\u001b[0m\u001b[0;36m7\u001b[0m\u001b[0;34m,\u001b[0m\u001b[0;36m8\u001b[0m\u001b[0;34m,\u001b[0m\u001b[0;36m9\u001b[0m\u001b[0;34m,\u001b[0m\u001b[0;36m10\u001b[0m\u001b[0;34m,\u001b[0m\u001b[0;36m11\u001b[0m\u001b[0;34m,\u001b[0m\u001b[0;36m12\u001b[0m\u001b[0;34m,\u001b[0m\u001b[0;36m13\u001b[0m\u001b[0;34m,\u001b[0m\u001b[0;36m14\u001b[0m\u001b[0;34m,\u001b[0m\u001b[0;36m15\u001b[0m\u001b[0;34m,\u001b[0m\u001b[0;36m16\u001b[0m\u001b[0;34m,\u001b[0m\u001b[0;36m17\u001b[0m\u001b[0;34m,\u001b[0m\u001b[0;36m18\u001b[0m\u001b[0;34m,\u001b[0m\u001b[0;36m19\u001b[0m\u001b[0;34m,\u001b[0m\u001b[0;36m20\u001b[0m\u001b[0;34m,\u001b[0m\u001b[0;36m21\u001b[0m\u001b[0;34m,\u001b[0m\u001b[0;36m2\u001b[0m\u001b[0;34m]\u001b[0m\u001b[0;34m)\u001b[0m\u001b[0;34m\u001b[0m\u001b[0;34m\u001b[0m\u001b[0m\n",
            "\u001b[0;31mAssertionError\u001b[0m: "
          ]
        }
      ]
    },
    {
      "cell_type": "markdown",
      "source": [
        "Queria probar de otra forma, pero por tiempo no me salio"
      ],
      "metadata": {
        "id": "0CoF6RbffeSL"
      }
    },
    {
      "cell_type": "code",
      "source": [
        "# def Min_Max_Heap_es_valido(arreglo):\n",
        "#   \"\"\"Dado un arreglo de valores, retorna `True` si corresponde a un `Min_Max_Heap` y `False` sino.\"\"\"\n",
        "#   # Su codigo aqui\n",
        "#   n = len(arreglo)\n",
        "#   for i in range(1,n):\n",
        "#     #Para el caso de que sea mayor al padre\n",
        "#     #arreglo[i] >= arreglo[int((n - 1) // 2)]\n",
        "#     if i >= int((n - 1) // 2):\n",
        "#         return True\n",
        "#     #Si es mayor a los hijos\n",
        "#     if arreglo[i] >= arreglo[2 * i + 1] and arreglo[i] >= arreglo[2 * i + 2]:\n",
        "#         return True\n",
        "#     else:\n",
        "#         return False"
      ],
      "metadata": {
        "id": "VWTYghdVKG1b"
      },
      "execution_count": null,
      "outputs": []
    },
    {
      "cell_type": "markdown",
      "metadata": {
        "id": "IsAnyM9pxGx5"
      },
      "source": [
        "# Parte 2: `Min_Max_Heap`\n",
        "\n"
      ]
    },
    {
      "cell_type": "markdown",
      "source": [
        "A continuación implemente su solución como una clase `Min_Max_Heap` con las operaciones `insert`, `extract_max`, `extract_min`. Ejecute las pruebas señaladas más abajo y agregue otras pruebas inventadas por usted."
      ],
      "metadata": {
        "id": "Dwli46sqFRV4"
      }
    },
    {
      "cell_type": "code",
      "source": [
        "from IPython.core.display import JSON\n",
        "import numpy as np\n",
        "\n",
        "class Min_Max_Heap:\n",
        "    def __init__(self,maxn=100):\n",
        "        self.a=np.zeros(maxn)\n",
        "        self.n=0\n",
        "    def insert(self,x):\n",
        "        # Su implementación aquí\n",
        "        assert self.n<len(self.a)\n",
        "        self.a[self.n]=x\n",
        "        trepar(self.a,self.n)\n",
        "        self.n+=1\n",
        "\n",
        "    def extract_max(self): # A MODFICAR!\n",
        "        # Su implementación aquí\n",
        "        assert self.n>0\n",
        "        if self.n == 1:\n",
        "          return self.a[0]\n",
        "        elif self.n == 2:\n",
        "          return self.a[1]\n",
        "        else:\n",
        "          if self.a[1] > self.a[2]:\n",
        "            i = 1\n",
        "          else:\n",
        "            i = 2\n",
        "          x=self.a[i] # esta variable lleva el máximo, el casillero 0 queda vacante\n",
        "          self.n-=1   # achicamos el heap\n",
        "          self.a[i]=self.a[self.n] # movemos el elemento sobrante hacia el casillero vacante\n",
        "          hundirMAX(self.a,0,self.n)\n",
        "          return x\n",
        "\n",
        "    def extract_min(self):\n",
        "        # Su implementación aquí\n",
        "        assert self.n>0\n",
        "        x=self.a[0] # esta variable lleva el máximo, el casillero 0 queda vacante\n",
        "        self.n-=1   # achicamos el heap\n",
        "        self.a[0]=self.a[self.n] # movemos el elemento sobrante hacia el casillero vacante\n",
        "        hundirMIN(self.a,0,self.n)\n",
        "        return x\n",
        "\n",
        "    def imprimir(self):\n",
        "        print(self.a[0:self.n])\n",
        "\n",
        "\n",
        "def trepar(a,j):\n",
        "    while j >= 1:\n",
        "      raiz = int(np.log2(j+1))\n",
        "      if raiz%2==0 and raiz >= 2:\n",
        "        #Minimo es el nodo actual\n",
        "        if a[j]>a[(j-1)//2]:\n",
        "          (a[j],a[(j-1)//2])=(a[(j-1)//2],a[j])\n",
        "        #Minimo es el nodo hijo o nieto\n",
        "        if a[j]<a[(j-3)//4]:\n",
        "          (a[j],a[(j-3)//4])=(a[(j-3)//4],a[j])\n",
        "\n",
        "      if raiz%2!=0 and raiz >= 2:\n",
        "        if a[j]<a[(j-1)//2]:\n",
        "          (a[j],a[(j-1)//2])=(a[(j-1)//2],a[j])\n",
        "        if a[j]>a[(j-3)//4]:\n",
        "          (a[j],a[(j-3)//4])=(a[(j-3)//4],a[j])\n",
        "      j=(j-1)//2\n",
        "\n",
        "def hundirMAX(a,j,n): # El elemento a[j] se hunde hasta su nivel de prioridad\n",
        "    while 2*j+1<n: # mientras tenga al menos 1 hijo\n",
        "        k=2*j+1 # el hijo izquierdo\n",
        "        if k+1<n and a[k+1]>a[k]: # el hijo derecho existe y es menor\n",
        "            k+=1\n",
        "        if a[j]>=a[k]: # tiene mejor prioridad que ambos hijos\n",
        "            break\n",
        "        (a[j],a[k])=(a[k],a[j]) # se intercambia con el mayor de los hijos\n",
        "        j=k # bajamos al lugar del mayor de los hijos\n",
        "\n",
        "def hundirMIN(a,j,n): # El elemento a[j] se hunde hasta su nivel de prioridad\n",
        "    while 2*j+1<n: # mientras tenga al menos 1 hijo\n",
        "        k=2*j+1 # el hijo izquierdo\n",
        "        if k+1<n and a[k+1]<a[k]: # el hijo derecho existe y es mayor\n",
        "            k+=1\n",
        "        if a[j]<=a[k]: # tiene mejor prioridad que ambos hijos\n",
        "            break\n",
        "        (a[j],a[k])=(a[k],a[j]) # se intercambia con el mayor de los hijos\n",
        "        j=k # bajamos al lugar del mayor de los hijos\n",
        "\n",
        "\n",
        "h = Min_Max_Heap(10)\n",
        "h.insert(1)\n",
        "h.insert(10)\n",
        "h.insert(2)\n",
        "h.insert(9)\n",
        "h.insert(3)\n",
        "h.insert(8)\n",
        "h.insert(4)\n",
        "h.insert(7)\n",
        "h.insert(5)\n",
        "h.insert(6)\n",
        "h.imprimir()\n",
        "assert Min_Max_Heap_es_valido(h.a), h.a\n",
        "min = h.extract_min()\n",
        "assert min == 1, min\n",
        "max = h.extract_max()\n",
        "assert max == 10, max\n",
        "\n",
        "h = Min_Max_Heap(10)\n",
        "h.insert(1)\n",
        "h.insert(10)\n",
        "h.insert(2)\n",
        "h.insert(9)\n",
        "h.insert(3)\n",
        "h.insert(8)\n",
        "h.insert(4)\n",
        "h.insert(7)\n",
        "h.insert(5)\n",
        "h.insert(6)\n",
        "h.imprimir()\n",
        "assert Min_Max_Heap_es_valido(h.a), h.a\n",
        "min = h.extract_min()\n",
        "h.imprimir()\n",
        "assert Min_Max_Heap_es_valido(h.a[0:h.n]), h.a[0:h.n]\n",
        "assert min == 1, min\n",
        "h.imprimir()\n",
        "max = h.extract_max()\n",
        "assert Min_Max_Heap_es_valido(h.a[0:h.n]), h.a[0:h.n]\n",
        "assert max == 10, max\n",
        "h.imprimir()\n",
        "\n",
        "h = Min_Max_Heap(11)\n",
        "h.insert(1)\n",
        "h.insert(10)\n",
        "h.insert(2)\n",
        "h.insert(9)\n",
        "h.insert(3)\n",
        "h.insert(8)\n",
        "h.insert(4)\n",
        "h.insert(7)\n",
        "h.insert(5)\n",
        "h.insert(6)\n",
        "h.insert(11)\n",
        "h.imprimir()\n",
        "assert Min_Max_Heap_es_valido(h.a), h.a\n",
        "min = h.extract_min()\n",
        "h.imprimir()\n",
        "assert Min_Max_Heap_es_valido(h.a[0:h.n]), h.a[0:h.n]\n",
        "assert min == 1, min\n",
        "h.imprimir()\n",
        "max = h.extract_max()\n",
        "assert Min_Max_Heap_es_valido(h.a[0:h.n]), h.a[0:h.n]\n",
        "assert max == 11, max\n",
        "h.imprimir()\n",
        "\n",
        "h = Min_Max_Heap(11)\n",
        "h.insert(11)\n",
        "h.insert(10)\n",
        "h.insert(2)\n",
        "h.insert(9)\n",
        "h.insert(3)\n",
        "h.insert(8)\n",
        "h.insert(4)\n",
        "h.insert(7)\n",
        "h.insert(5)\n",
        "h.insert(6)\n",
        "h.insert(1)\n",
        "h.imprimir()\n",
        "assert Min_Max_Heap_es_valido(h.a), h.a\n",
        "min = h.extract_min()\n",
        "h.imprimir()\n",
        "assert Min_Max_Heap_es_valido(h.a[0:h.n]), h.a[0:h.n]\n",
        "assert min == 1, min\n",
        "h.imprimir()\n",
        "max = h.extract_max()\n",
        "assert Min_Max_Heap_es_valido(h.a[0:h.n]), h.a[0:h.n]\n",
        "assert max == 11, max\n",
        "h.imprimir()\n",
        "\n",
        "h = Min_Max_Heap(6)\n",
        "h.insert(1)\n",
        "h.insert(2)\n",
        "h.insert(3)\n",
        "h.insert(4)\n",
        "h.insert(5)\n",
        "h.insert(6)\n",
        "h.imprimir()\n",
        "\n",
        "assert Min_Max_Heap_es_valido(h.a), h.a\n",
        "min = h.extract_min()\n",
        "assert Min_Max_Heap_es_valido(h.a[0:h.n]), h.a[0:h.n]\n",
        "assert min == 1, min\n",
        "max = h.extract_max()\n",
        "assert Min_Max_Heap_es_valido(h.a[0:h.n]), h.a[0:h.n]\n",
        "assert max == 6, max\n",
        "min = h.extract_min()\n",
        "assert Min_Max_Heap_es_valido(h.a[0:h.n]), h.a[0:h.n]\n",
        "assert min == 2, min\n",
        "h.imprimir()\n",
        "max = h.extract_max()\n",
        "assert Min_Max_Heap_es_valido(h.a[0:h.n]), h.a[0:h.n]\n",
        "assert max == 5, max\n",
        "h.imprimir()\n",
        "\n",
        "h = Min_Max_Heap(1)\n",
        "h.insert(5)\n",
        "h.imprimir()\n",
        "\n",
        "assert Min_Max_Heap_es_valido(h.a), h.a\n",
        "min = h.extract_min()\n",
        "assert Min_Max_Heap_es_valido(h.a[0:h.n]), h.a[0:h.n]\n",
        "assert min == 5, min\n",
        "h.imprimir()\n",
        "\n",
        "h = Min_Max_Heap(2)\n",
        "h.insert(8)\n",
        "h.insert(3)\n",
        "h.imprimir()\n",
        "\n",
        "assert Min_Max_Heap_es_valido(h.a), h.a\n",
        "min = h.extract_min()\n",
        "assert Min_Max_Heap_es_valido(h.a[0:h.n]), h.a[0:h.n]\n",
        "assert min == 3, min\n",
        "h.imprimir()\n",
        "\n",
        "h = Min_Max_Heap(2)\n",
        "h.insert(8)\n",
        "h.insert(3)\n",
        "h.imprimir()\n",
        "\n",
        "assert Min_Max_Heap_es_valido(h.a), h.a\n",
        "max = h.extract_max()\n",
        "assert Min_Max_Heap_es_valido(h.a[0:h.n]), h.a[0:h.n]\n",
        "assert max == 8, max\n",
        "h.imprimir()\n",
        "\n",
        "h = Min_Max_Heap(4)\n",
        "h.insert(10)\n",
        "h.insert(9)\n",
        "h.insert(11)\n",
        "h.insert(6)\n",
        "h.imprimir()\n",
        "\n",
        "assert Min_Max_Heap_es_valido(h.a), h.a\n",
        "min = h.extract_min()\n",
        "assert Min_Max_Heap_es_valido(h.a[0:h.n]), h.a[0:h.n]\n",
        "assert min == 6, min\n",
        "h.imprimir()\n",
        "max = h.extract_max()\n",
        "assert Min_Max_Heap_es_valido(h.a[0:h.n]), h.a[0:h.n]\n",
        "assert max == 11, max\n",
        "h.imprimir()"
      ],
      "metadata": {
        "id": "wrNu0zpzs_62",
        "colab": {
          "base_uri": "https://localhost:8080/",
          "height": 300
        },
        "outputId": "1c087b06-f1d5-4bda-fcb9-59d12b5fbb5d"
      },
      "execution_count": null,
      "outputs": [
        {
          "output_type": "stream",
          "name": "stdout",
          "text": [
            "[ 1. 10.  8.  5.  3.  2.  4.  9.  7.  6.]\n",
            "[ 1. 10.  8.  5.  3.  2.  4.  9.  7.  6.]\n",
            "[ 6. 10.  8.  5.  3.  2.  4.  9.  7.]\n",
            "[ 6. 10.  8.  5.  3.  2.  4.  9.  7.]\n"
          ]
        },
        {
          "output_type": "error",
          "ename": "AssertionError",
          "evalue": "ignored",
          "traceback": [
            "\u001b[0;31m---------------------------------------------------------------------------\u001b[0m",
            "\u001b[0;31mAssertionError\u001b[0m                            Traceback (most recent call last)",
            "\u001b[0;32m<ipython-input-2-61505336acd4>\u001b[0m in \u001b[0;36m<module>\u001b[0;34m\u001b[0m\n\u001b[1;32m    120\u001b[0m \u001b[0mh\u001b[0m\u001b[0;34m.\u001b[0m\u001b[0mimprimir\u001b[0m\u001b[0;34m(\u001b[0m\u001b[0;34m)\u001b[0m\u001b[0;34m\u001b[0m\u001b[0;34m\u001b[0m\u001b[0m\n\u001b[1;32m    121\u001b[0m \u001b[0mmax\u001b[0m \u001b[0;34m=\u001b[0m \u001b[0mh\u001b[0m\u001b[0;34m.\u001b[0m\u001b[0mextract_max\u001b[0m\u001b[0;34m(\u001b[0m\u001b[0;34m)\u001b[0m\u001b[0;34m\u001b[0m\u001b[0;34m\u001b[0m\u001b[0m\n\u001b[0;32m--> 122\u001b[0;31m \u001b[0;32massert\u001b[0m \u001b[0mMin_Max_Heap_es_valido\u001b[0m\u001b[0;34m(\u001b[0m\u001b[0mh\u001b[0m\u001b[0;34m.\u001b[0m\u001b[0ma\u001b[0m\u001b[0;34m[\u001b[0m\u001b[0;36m0\u001b[0m\u001b[0;34m:\u001b[0m\u001b[0mh\u001b[0m\u001b[0;34m.\u001b[0m\u001b[0mn\u001b[0m\u001b[0;34m]\u001b[0m\u001b[0;34m)\u001b[0m\u001b[0;34m,\u001b[0m \u001b[0mh\u001b[0m\u001b[0;34m.\u001b[0m\u001b[0ma\u001b[0m\u001b[0;34m[\u001b[0m\u001b[0;36m0\u001b[0m\u001b[0;34m:\u001b[0m\u001b[0mh\u001b[0m\u001b[0;34m.\u001b[0m\u001b[0mn\u001b[0m\u001b[0;34m]\u001b[0m\u001b[0;34m\u001b[0m\u001b[0;34m\u001b[0m\u001b[0m\n\u001b[0m\u001b[1;32m    123\u001b[0m \u001b[0;32massert\u001b[0m \u001b[0mmax\u001b[0m \u001b[0;34m==\u001b[0m \u001b[0;36m10\u001b[0m\u001b[0;34m,\u001b[0m \u001b[0mmax\u001b[0m\u001b[0;34m\u001b[0m\u001b[0;34m\u001b[0m\u001b[0m\n\u001b[1;32m    124\u001b[0m \u001b[0mh\u001b[0m\u001b[0;34m.\u001b[0m\u001b[0mimprimir\u001b[0m\u001b[0;34m(\u001b[0m\u001b[0;34m)\u001b[0m\u001b[0;34m\u001b[0m\u001b[0;34m\u001b[0m\u001b[0m\n",
            "\u001b[0;31mAssertionError\u001b[0m: [8. 7. 6. 5. 3. 2. 4. 9.]"
          ]
        }
      ]
    },
    {
      "cell_type": "code",
      "source": [
        "j = Min_Max_Heap(9)\n",
        "j.insert(2)\n",
        "j.insert(6)\n",
        "j.insert(1)\n",
        "j.insert(9)\n",
        "j.insert(3)\n",
        "j.insert(8)\n",
        "j.insert(4)\n",
        "j.insert(7)\n",
        "j.insert(5)\n",
        "j.imprimir()\n",
        "assert Min_Max_Heap_es_valido(j.a), j.a\n",
        "min = j.extract_min()\n",
        "assert min == 1, min\n",
        "max = j.extract_max()\n",
        "assert max == 9, max"
      ],
      "metadata": {
        "colab": {
          "base_uri": "https://localhost:8080/"
        },
        "id": "W-wRBEMjiebk",
        "outputId": "70c79cf7-fa9a-4276-9fdc-97384fa5fdaf"
      },
      "execution_count": null,
      "outputs": [
        {
          "output_type": "stream",
          "name": "stdout",
          "text": [
            "[1. 9. 8. 5. 3. 2. 4. 7. 6.]\n"
          ]
        }
      ]
    },
    {
      "cell_type": "code",
      "source": [
        "k = Min_Max_Heap(10)\n",
        "k.insert(3)\n",
        "k.insert(4)\n",
        "k.insert(2)\n",
        "k.insert(9)\n",
        "k.insert(10)\n",
        "k.insert(5)\n",
        "k.insert(8)\n",
        "k.insert(1)\n",
        "k.insert(7)\n",
        "k.insert(6)\n",
        "k.imprimir()\n",
        "assert Min_Max_Heap_es_valido(k.a), k.a\n",
        "min = k.extract_min()\n",
        "assert min == 1, min\n",
        "max = k.extract_max()\n",
        "assert max == 10, max"
      ],
      "metadata": {
        "colab": {
          "base_uri": "https://localhost:8080/"
        },
        "id": "eSApypdsiLwL",
        "outputId": "b5662676-3e01-4787-fbcf-a6d668da6400"
      },
      "execution_count": null,
      "outputs": [
        {
          "output_type": "stream",
          "name": "stdout",
          "text": [
            "[ 1. 10.  8.  2.  6.  3.  5.  4.  7.  9.]\n"
          ]
        }
      ]
    },
    {
      "cell_type": "markdown",
      "source": [
        "# Para los curiosos"
      ],
      "metadata": {
        "id": "BuF6DZfCmrdc"
      }
    },
    {
      "cell_type": "markdown",
      "source": [
        "## Implementación de un `Max_Heap` que dibujo los estados intermedios."
      ],
      "metadata": {
        "id": "O4i8c_7Tmtjr"
      }
    },
    {
      "cell_type": "markdown",
      "source": [
        "En caso de que usted desee agregarle visualización a su  solución, a continuación se muestra cómo visualizar la operación de un heap común y corriente. Usted puede usar este código como base o como inspiración para una implementación visualizada de lo que se pide en esta tarea."
      ],
      "metadata": {
        "id": "qisAOm9aGv5f"
      }
    },
    {
      "cell_type": "code",
      "source": [
        "import graphviz\n",
        "from IPython.display import display_svg, SVG,display\n",
        "\n",
        "import numpy as np\n",
        "\n",
        "def dibuja_heap(heap,n,dot=graphviz.Digraph(engine=\"dot\",format=\"svg\"),prefix=\"\"):\n",
        "  \"Dibuja un heap dado como un arreglo.\"\n",
        "  position_of_last_internal_node = n//2\n",
        "  for i,v in enumerate(heap[:n]):\n",
        "    dot.node(prefix+str(i),str(v))\n",
        "  for i in range(position_of_last_internal_node-1):\n",
        "    dot.edge(prefix+str(i),prefix+str(2*(i+1)-1))\n",
        "    dot.edge(prefix+str(i),prefix+str(2*(i+1)))\n",
        "  if n>1:\n",
        "    dot.edge(prefix+str(position_of_last_internal_node-1),prefix+str(2*(position_of_last_internal_node)-1))\n",
        "    if 2*position_of_last_internal_node<n:\n",
        "      dot.edge(prefix+str(position_of_last_internal_node-1),prefix+str(2*position_of_last_internal_node))\n",
        "  return dot\n",
        "\n",
        "class Max_Heap:\n",
        "    def __init__(self,maxn=100,que_dibujar=\"todo\"):\n",
        "        self.a=np.zeros(maxn)\n",
        "        self.n=0\n",
        "        self.dot = graphviz.Digraph(engine=\"dot\",format=\"svg\")\n",
        "        self.time=0\n",
        "        self.que_dibujar = que_dibujar\n",
        "    def insert(self,x):\n",
        "        assert self.n<len(self.a)\n",
        "        self.a[self.n]=x\n",
        "        a.trepar(self.n)\n",
        "        self.n+=1\n",
        "        if self.que_dibujar != \"nada\":\n",
        "          self.capture_the_moment()\n",
        "\n",
        "    def extract_max(self):\n",
        "        assert self.n>0\n",
        "        x=self.a[0] # esta variable lleva el máximo, el casillero 0 queda vacante\n",
        "        self.n-=1   # achicamos el heap\n",
        "        self.a[0]=self.a[self.n] # movemos el elemento sobrante hacia el casillero vacante\n",
        "        a.hundir(0,self.n)\n",
        "        if self.que_dibujar != \"nada\":\n",
        "          self.capture_the_moment()\n",
        "        return x\n",
        "\n",
        "    def imprimir(self):\n",
        "        print(self.a[0:self.n])\n",
        "    def trepar(self,j): # El elemento a[j] trepa hasta su nivel de prioridad\n",
        "        while j>=1 and self.a[j]>self.a[(j-1)//2]:\n",
        "            (self.a[j],self.a[(j-1)//2])=(self.a[(j-1)//2],self.a[j]) # intercambiamos con el padre\n",
        "            j=(j-1)//2 # subimos al lugar del padre\n",
        "            if self.que_dibujar == \"todo\":\n",
        "              self.capture_the_moment()\n",
        "    def hundir(self,j,n): # El elemento a[j] se hunde hasta su nivel de prioridad\n",
        "        while 2*j+1<n: # mientras tenga al menos 1 hijo\n",
        "            k=2*j+1 # el hijo izquierdo\n",
        "            if k+1<n and self.a[k+1]>self.a[k]: # el hijo derecho existe y es mayor\n",
        "                k+=1\n",
        "            if self.a[j]>=self.a[k]: # tiene mejor prioridad que ambos hijos\n",
        "                break\n",
        "            (self.a[j],self.a[k])=(self.a[k],self.a[j]) # se intercambia con el mayor de los hijos\n",
        "            j=k # bajamos al lugar del mayor de los hijos\n",
        "            if self.que_dibujar == \"todo\":\n",
        "              self.capture_the_moment()\n",
        "\n",
        "    def capture_the_moment(self):\n",
        "      moment = \"---\"+str(self.time)+\"---\"\n",
        "      self.dot.node(repr(moment),\"t=\"+str(self.time))\n",
        "      self.dot.edge(repr(moment),moment+\"0\") #Edge to the root of the heap\n",
        "      self.dot = dibuja_heap(heap=self.a,n=self.n,dot=self.dot,prefix=moment)\n",
        "      self.time+=1\n",
        "\n",
        "    def dibuja(self):\n",
        "      svg = self.dot.pipe().decode('utf-8')\n",
        "      return SVG(svg)\n"
      ],
      "metadata": {
        "id": "7Fuuk4enOQRx"
      },
      "execution_count": null,
      "outputs": []
    },
    {
      "cell_type": "markdown",
      "source": [
        "Uno puede dibujar el estado del heap despues de cada insercion y extraccion:"
      ],
      "metadata": {
        "id": "uS7zjAExnKi1"
      }
    },
    {
      "cell_type": "code",
      "source": [
        "a=Max_Heap(10,que_dibujar=\"inserciones y extracciones\")\n",
        "a.insert(1)\n",
        "a.insert(2)\n",
        "a.insert(3)\n",
        "a.insert(4)\n",
        "a.insert(5)\n",
        "a.insert(6)\n",
        "a.insert(7)\n",
        "a.insert(8)\n",
        "a.insert(9)\n",
        "a.insert(10)\n",
        "a.dibuja()"
      ],
      "metadata": {
        "colab": {
          "base_uri": "https://localhost:8080/"
        },
        "id": "K7PxHBFTnJCL",
        "outputId": "f9bf820e-8e89-4aa4-9378-82a3aac7ce9c"
      },
      "execution_count": null,
      "outputs": [
        {
          "output_type": "execute_result",
          "data": {
            "text/plain": [
              "<IPython.core.display.SVG object>"
            ],
            "image/svg+xml": "<svg height=\"332pt\" viewBox=\"0.00 0.00 1898.00 332.00\" width=\"1898pt\" xmlns=\"http://www.w3.org/2000/svg\" xmlns:xlink=\"http://www.w3.org/1999/xlink\">\n<g class=\"graph\" id=\"graph0\" transform=\"scale(1 1) rotate(0) translate(4 328)\">\n<title>%3</title>\n<polygon fill=\"#ffffff\" points=\"-4,4 -4,-328 1894,-328 1894,4 -4,4\" stroke=\"transparent\"/>\n<!-- &#39;&#45;&#45;&#45;0&#45;&#45;&#45;&#39; -->\n<g class=\"node\" id=\"node1\">\n<title>'---0---'</title>\n<ellipse cx=\"27\" cy=\"-306\" fill=\"none\" rx=\"27\" ry=\"18\" stroke=\"#000000\"/>\n<text fill=\"#000000\" font-family=\"Times,serif\" font-size=\"14.00\" text-anchor=\"middle\" x=\"27\" y=\"-302.3\">t=0</text>\n</g>\n<!-- &#45;&#45;&#45;0&#45;&#45;&#45;0 -->\n<g class=\"node\" id=\"node2\">\n<title>---0---0</title>\n<ellipse cx=\"27\" cy=\"-234\" fill=\"none\" rx=\"27\" ry=\"18\" stroke=\"#000000\"/>\n<text fill=\"#000000\" font-family=\"Times,serif\" font-size=\"14.00\" text-anchor=\"middle\" x=\"27\" y=\"-230.3\">1.0</text>\n</g>\n<!-- &#39;&#45;&#45;&#45;0&#45;&#45;&#45;&#39;&#45;&gt;&#45;&#45;&#45;0&#45;&#45;&#45;0 -->\n<g class=\"edge\" id=\"edge1\">\n<title>'---0---'-&gt;---0---0</title>\n<path d=\"M27,-287.8314C27,-280.131 27,-270.9743 27,-262.4166\" fill=\"none\" stroke=\"#000000\"/>\n<polygon fill=\"#000000\" points=\"30.5001,-262.4132 27,-252.4133 23.5001,-262.4133 30.5001,-262.4132\" stroke=\"#000000\"/>\n</g>\n<!-- &#39;&#45;&#45;&#45;1&#45;&#45;&#45;&#39; -->\n<g class=\"node\" id=\"node3\">\n<title>'---1---'</title>\n<ellipse cx=\"99\" cy=\"-306\" fill=\"none\" rx=\"27\" ry=\"18\" stroke=\"#000000\"/>\n<text fill=\"#000000\" font-family=\"Times,serif\" font-size=\"14.00\" text-anchor=\"middle\" x=\"99\" y=\"-302.3\">t=1</text>\n</g>\n<!-- &#45;&#45;&#45;1&#45;&#45;&#45;0 -->\n<g class=\"node\" id=\"node4\">\n<title>---1---0</title>\n<ellipse cx=\"99\" cy=\"-234\" fill=\"none\" rx=\"27\" ry=\"18\" stroke=\"#000000\"/>\n<text fill=\"#000000\" font-family=\"Times,serif\" font-size=\"14.00\" text-anchor=\"middle\" x=\"99\" y=\"-230.3\">2.0</text>\n</g>\n<!-- &#39;&#45;&#45;&#45;1&#45;&#45;&#45;&#39;&#45;&gt;&#45;&#45;&#45;1&#45;&#45;&#45;0 -->\n<g class=\"edge\" id=\"edge2\">\n<title>'---1---'-&gt;---1---0</title>\n<path d=\"M99,-287.8314C99,-280.131 99,-270.9743 99,-262.4166\" fill=\"none\" stroke=\"#000000\"/>\n<polygon fill=\"#000000\" points=\"102.5001,-262.4132 99,-252.4133 95.5001,-262.4133 102.5001,-262.4132\" stroke=\"#000000\"/>\n</g>\n<!-- &#45;&#45;&#45;1&#45;&#45;&#45;1 -->\n<g class=\"node\" id=\"node5\">\n<title>---1---1</title>\n<ellipse cx=\"99\" cy=\"-162\" fill=\"none\" rx=\"27\" ry=\"18\" stroke=\"#000000\"/>\n<text fill=\"#000000\" font-family=\"Times,serif\" font-size=\"14.00\" text-anchor=\"middle\" x=\"99\" y=\"-158.3\">1.0</text>\n</g>\n<!-- &#45;&#45;&#45;1&#45;&#45;&#45;0&#45;&gt;&#45;&#45;&#45;1&#45;&#45;&#45;1 -->\n<g class=\"edge\" id=\"edge3\">\n<title>---1---0-&gt;---1---1</title>\n<path d=\"M99,-215.8314C99,-208.131 99,-198.9743 99,-190.4166\" fill=\"none\" stroke=\"#000000\"/>\n<polygon fill=\"#000000\" points=\"102.5001,-190.4132 99,-180.4133 95.5001,-190.4133 102.5001,-190.4132\" stroke=\"#000000\"/>\n</g>\n<!-- &#39;&#45;&#45;&#45;2&#45;&#45;&#45;&#39; -->\n<g class=\"node\" id=\"node6\">\n<title>'---2---'</title>\n<ellipse cx=\"207\" cy=\"-306\" fill=\"none\" rx=\"27\" ry=\"18\" stroke=\"#000000\"/>\n<text fill=\"#000000\" font-family=\"Times,serif\" font-size=\"14.00\" text-anchor=\"middle\" x=\"207\" y=\"-302.3\">t=2</text>\n</g>\n<!-- &#45;&#45;&#45;2&#45;&#45;&#45;0 -->\n<g class=\"node\" id=\"node7\">\n<title>---2---0</title>\n<ellipse cx=\"207\" cy=\"-234\" fill=\"none\" rx=\"27\" ry=\"18\" stroke=\"#000000\"/>\n<text fill=\"#000000\" font-family=\"Times,serif\" font-size=\"14.00\" text-anchor=\"middle\" x=\"207\" y=\"-230.3\">3.0</text>\n</g>\n<!-- &#39;&#45;&#45;&#45;2&#45;&#45;&#45;&#39;&#45;&gt;&#45;&#45;&#45;2&#45;&#45;&#45;0 -->\n<g class=\"edge\" id=\"edge4\">\n<title>'---2---'-&gt;---2---0</title>\n<path d=\"M207,-287.8314C207,-280.131 207,-270.9743 207,-262.4166\" fill=\"none\" stroke=\"#000000\"/>\n<polygon fill=\"#000000\" points=\"210.5001,-262.4132 207,-252.4133 203.5001,-262.4133 210.5001,-262.4132\" stroke=\"#000000\"/>\n</g>\n<!-- &#45;&#45;&#45;2&#45;&#45;&#45;1 -->\n<g class=\"node\" id=\"node8\">\n<title>---2---1</title>\n<ellipse cx=\"171\" cy=\"-162\" fill=\"none\" rx=\"27\" ry=\"18\" stroke=\"#000000\"/>\n<text fill=\"#000000\" font-family=\"Times,serif\" font-size=\"14.00\" text-anchor=\"middle\" x=\"171\" y=\"-158.3\">1.0</text>\n</g>\n<!-- &#45;&#45;&#45;2&#45;&#45;&#45;0&#45;&gt;&#45;&#45;&#45;2&#45;&#45;&#45;1 -->\n<g class=\"edge\" id=\"edge5\">\n<title>---2---0-&gt;---2---1</title>\n<path d=\"M198.2854,-216.5708C194.0403,-208.0807 188.8464,-197.6929 184.1337,-188.2674\" fill=\"none\" stroke=\"#000000\"/>\n<polygon fill=\"#000000\" points=\"187.237,-186.6477 179.6343,-179.2687 180.976,-189.7782 187.237,-186.6477\" stroke=\"#000000\"/>\n</g>\n<!-- &#45;&#45;&#45;2&#45;&#45;&#45;2 -->\n<g class=\"node\" id=\"node9\">\n<title>---2---2</title>\n<ellipse cx=\"243\" cy=\"-162\" fill=\"none\" rx=\"27\" ry=\"18\" stroke=\"#000000\"/>\n<text fill=\"#000000\" font-family=\"Times,serif\" font-size=\"14.00\" text-anchor=\"middle\" x=\"243\" y=\"-158.3\">2.0</text>\n</g>\n<!-- &#45;&#45;&#45;2&#45;&#45;&#45;0&#45;&gt;&#45;&#45;&#45;2&#45;&#45;&#45;2 -->\n<g class=\"edge\" id=\"edge6\">\n<title>---2---0-&gt;---2---2</title>\n<path d=\"M215.7146,-216.5708C219.9597,-208.0807 225.1536,-197.6929 229.8663,-188.2674\" fill=\"none\" stroke=\"#000000\"/>\n<polygon fill=\"#000000\" points=\"233.024,-189.7782 234.3657,-179.2687 226.763,-186.6477 233.024,-189.7782\" stroke=\"#000000\"/>\n</g>\n<!-- &#39;&#45;&#45;&#45;3&#45;&#45;&#45;&#39; -->\n<g class=\"node\" id=\"node10\">\n<title>'---3---'</title>\n<ellipse cx=\"351\" cy=\"-306\" fill=\"none\" rx=\"27\" ry=\"18\" stroke=\"#000000\"/>\n<text fill=\"#000000\" font-family=\"Times,serif\" font-size=\"14.00\" text-anchor=\"middle\" x=\"351\" y=\"-302.3\">t=3</text>\n</g>\n<!-- &#45;&#45;&#45;3&#45;&#45;&#45;0 -->\n<g class=\"node\" id=\"node11\">\n<title>---3---0</title>\n<ellipse cx=\"351\" cy=\"-234\" fill=\"none\" rx=\"27\" ry=\"18\" stroke=\"#000000\"/>\n<text fill=\"#000000\" font-family=\"Times,serif\" font-size=\"14.00\" text-anchor=\"middle\" x=\"351\" y=\"-230.3\">4.0</text>\n</g>\n<!-- &#39;&#45;&#45;&#45;3&#45;&#45;&#45;&#39;&#45;&gt;&#45;&#45;&#45;3&#45;&#45;&#45;0 -->\n<g class=\"edge\" id=\"edge7\">\n<title>'---3---'-&gt;---3---0</title>\n<path d=\"M351,-287.8314C351,-280.131 351,-270.9743 351,-262.4166\" fill=\"none\" stroke=\"#000000\"/>\n<polygon fill=\"#000000\" points=\"354.5001,-262.4132 351,-252.4133 347.5001,-262.4133 354.5001,-262.4132\" stroke=\"#000000\"/>\n</g>\n<!-- &#45;&#45;&#45;3&#45;&#45;&#45;1 -->\n<g class=\"node\" id=\"node12\">\n<title>---3---1</title>\n<ellipse cx=\"315\" cy=\"-162\" fill=\"none\" rx=\"27\" ry=\"18\" stroke=\"#000000\"/>\n<text fill=\"#000000\" font-family=\"Times,serif\" font-size=\"14.00\" text-anchor=\"middle\" x=\"315\" y=\"-158.3\">3.0</text>\n</g>\n<!-- &#45;&#45;&#45;3&#45;&#45;&#45;0&#45;&gt;&#45;&#45;&#45;3&#45;&#45;&#45;1 -->\n<g class=\"edge\" id=\"edge8\">\n<title>---3---0-&gt;---3---1</title>\n<path d=\"M342.2854,-216.5708C338.0403,-208.0807 332.8464,-197.6929 328.1337,-188.2674\" fill=\"none\" stroke=\"#000000\"/>\n<polygon fill=\"#000000\" points=\"331.237,-186.6477 323.6343,-179.2687 324.976,-189.7782 331.237,-186.6477\" stroke=\"#000000\"/>\n</g>\n<!-- &#45;&#45;&#45;3&#45;&#45;&#45;2 -->\n<g class=\"node\" id=\"node13\">\n<title>---3---2</title>\n<ellipse cx=\"387\" cy=\"-162\" fill=\"none\" rx=\"27\" ry=\"18\" stroke=\"#000000\"/>\n<text fill=\"#000000\" font-family=\"Times,serif\" font-size=\"14.00\" text-anchor=\"middle\" x=\"387\" y=\"-158.3\">2.0</text>\n</g>\n<!-- &#45;&#45;&#45;3&#45;&#45;&#45;0&#45;&gt;&#45;&#45;&#45;3&#45;&#45;&#45;2 -->\n<g class=\"edge\" id=\"edge9\">\n<title>---3---0-&gt;---3---2</title>\n<path d=\"M359.7146,-216.5708C363.9597,-208.0807 369.1536,-197.6929 373.8663,-188.2674\" fill=\"none\" stroke=\"#000000\"/>\n<polygon fill=\"#000000\" points=\"377.024,-189.7782 378.3657,-179.2687 370.763,-186.6477 377.024,-189.7782\" stroke=\"#000000\"/>\n</g>\n<!-- &#45;&#45;&#45;3&#45;&#45;&#45;3 -->\n<g class=\"node\" id=\"node14\">\n<title>---3---3</title>\n<ellipse cx=\"315\" cy=\"-90\" fill=\"none\" rx=\"27\" ry=\"18\" stroke=\"#000000\"/>\n<text fill=\"#000000\" font-family=\"Times,serif\" font-size=\"14.00\" text-anchor=\"middle\" x=\"315\" y=\"-86.3\">1.0</text>\n</g>\n<!-- &#45;&#45;&#45;3&#45;&#45;&#45;1&#45;&gt;&#45;&#45;&#45;3&#45;&#45;&#45;3 -->\n<g class=\"edge\" id=\"edge10\">\n<title>---3---1-&gt;---3---3</title>\n<path d=\"M315,-143.8314C315,-136.131 315,-126.9743 315,-118.4166\" fill=\"none\" stroke=\"#000000\"/>\n<polygon fill=\"#000000\" points=\"318.5001,-118.4132 315,-108.4133 311.5001,-118.4133 318.5001,-118.4132\" stroke=\"#000000\"/>\n</g>\n<!-- &#39;&#45;&#45;&#45;4&#45;&#45;&#45;&#39; -->\n<g class=\"node\" id=\"node15\">\n<title>'---4---'</title>\n<ellipse cx=\"495\" cy=\"-306\" fill=\"none\" rx=\"27\" ry=\"18\" stroke=\"#000000\"/>\n<text fill=\"#000000\" font-family=\"Times,serif\" font-size=\"14.00\" text-anchor=\"middle\" x=\"495\" y=\"-302.3\">t=4</text>\n</g>\n<!-- &#45;&#45;&#45;4&#45;&#45;&#45;0 -->\n<g class=\"node\" id=\"node16\">\n<title>---4---0</title>\n<ellipse cx=\"495\" cy=\"-234\" fill=\"none\" rx=\"27\" ry=\"18\" stroke=\"#000000\"/>\n<text fill=\"#000000\" font-family=\"Times,serif\" font-size=\"14.00\" text-anchor=\"middle\" x=\"495\" y=\"-230.3\">5.0</text>\n</g>\n<!-- &#39;&#45;&#45;&#45;4&#45;&#45;&#45;&#39;&#45;&gt;&#45;&#45;&#45;4&#45;&#45;&#45;0 -->\n<g class=\"edge\" id=\"edge11\">\n<title>'---4---'-&gt;---4---0</title>\n<path d=\"M495,-287.8314C495,-280.131 495,-270.9743 495,-262.4166\" fill=\"none\" stroke=\"#000000\"/>\n<polygon fill=\"#000000\" points=\"498.5001,-262.4132 495,-252.4133 491.5001,-262.4133 498.5001,-262.4132\" stroke=\"#000000\"/>\n</g>\n<!-- &#45;&#45;&#45;4&#45;&#45;&#45;1 -->\n<g class=\"node\" id=\"node17\">\n<title>---4---1</title>\n<ellipse cx=\"459\" cy=\"-162\" fill=\"none\" rx=\"27\" ry=\"18\" stroke=\"#000000\"/>\n<text fill=\"#000000\" font-family=\"Times,serif\" font-size=\"14.00\" text-anchor=\"middle\" x=\"459\" y=\"-158.3\">4.0</text>\n</g>\n<!-- &#45;&#45;&#45;4&#45;&#45;&#45;0&#45;&gt;&#45;&#45;&#45;4&#45;&#45;&#45;1 -->\n<g class=\"edge\" id=\"edge12\">\n<title>---4---0-&gt;---4---1</title>\n<path d=\"M486.2854,-216.5708C482.0403,-208.0807 476.8464,-197.6929 472.1337,-188.2674\" fill=\"none\" stroke=\"#000000\"/>\n<polygon fill=\"#000000\" points=\"475.237,-186.6477 467.6343,-179.2687 468.976,-189.7782 475.237,-186.6477\" stroke=\"#000000\"/>\n</g>\n<!-- &#45;&#45;&#45;4&#45;&#45;&#45;2 -->\n<g class=\"node\" id=\"node18\">\n<title>---4---2</title>\n<ellipse cx=\"531\" cy=\"-162\" fill=\"none\" rx=\"27\" ry=\"18\" stroke=\"#000000\"/>\n<text fill=\"#000000\" font-family=\"Times,serif\" font-size=\"14.00\" text-anchor=\"middle\" x=\"531\" y=\"-158.3\">2.0</text>\n</g>\n<!-- &#45;&#45;&#45;4&#45;&#45;&#45;0&#45;&gt;&#45;&#45;&#45;4&#45;&#45;&#45;2 -->\n<g class=\"edge\" id=\"edge13\">\n<title>---4---0-&gt;---4---2</title>\n<path d=\"M503.7146,-216.5708C507.9597,-208.0807 513.1536,-197.6929 517.8663,-188.2674\" fill=\"none\" stroke=\"#000000\"/>\n<polygon fill=\"#000000\" points=\"521.024,-189.7782 522.3657,-179.2687 514.763,-186.6477 521.024,-189.7782\" stroke=\"#000000\"/>\n</g>\n<!-- &#45;&#45;&#45;4&#45;&#45;&#45;3 -->\n<g class=\"node\" id=\"node19\">\n<title>---4---3</title>\n<ellipse cx=\"423\" cy=\"-90\" fill=\"none\" rx=\"27\" ry=\"18\" stroke=\"#000000\"/>\n<text fill=\"#000000\" font-family=\"Times,serif\" font-size=\"14.00\" text-anchor=\"middle\" x=\"423\" y=\"-86.3\">1.0</text>\n</g>\n<!-- &#45;&#45;&#45;4&#45;&#45;&#45;1&#45;&gt;&#45;&#45;&#45;4&#45;&#45;&#45;3 -->\n<g class=\"edge\" id=\"edge14\">\n<title>---4---1-&gt;---4---3</title>\n<path d=\"M450.2854,-144.5708C446.0403,-136.0807 440.8464,-125.6929 436.1337,-116.2674\" fill=\"none\" stroke=\"#000000\"/>\n<polygon fill=\"#000000\" points=\"439.237,-114.6477 431.6343,-107.2687 432.976,-117.7782 439.237,-114.6477\" stroke=\"#000000\"/>\n</g>\n<!-- &#45;&#45;&#45;4&#45;&#45;&#45;4 -->\n<g class=\"node\" id=\"node20\">\n<title>---4---4</title>\n<ellipse cx=\"495\" cy=\"-90\" fill=\"none\" rx=\"27\" ry=\"18\" stroke=\"#000000\"/>\n<text fill=\"#000000\" font-family=\"Times,serif\" font-size=\"14.00\" text-anchor=\"middle\" x=\"495\" y=\"-86.3\">3.0</text>\n</g>\n<!-- &#45;&#45;&#45;4&#45;&#45;&#45;1&#45;&gt;&#45;&#45;&#45;4&#45;&#45;&#45;4 -->\n<g class=\"edge\" id=\"edge15\">\n<title>---4---1-&gt;---4---4</title>\n<path d=\"M467.7146,-144.5708C471.9597,-136.0807 477.1536,-125.6929 481.8663,-116.2674\" fill=\"none\" stroke=\"#000000\"/>\n<polygon fill=\"#000000\" points=\"485.024,-117.7782 486.3657,-107.2687 478.763,-114.6477 485.024,-117.7782\" stroke=\"#000000\"/>\n</g>\n<!-- &#39;&#45;&#45;&#45;5&#45;&#45;&#45;&#39; -->\n<g class=\"node\" id=\"node21\">\n<title>'---5---'</title>\n<ellipse cx=\"675\" cy=\"-306\" fill=\"none\" rx=\"27\" ry=\"18\" stroke=\"#000000\"/>\n<text fill=\"#000000\" font-family=\"Times,serif\" font-size=\"14.00\" text-anchor=\"middle\" x=\"675\" y=\"-302.3\">t=5</text>\n</g>\n<!-- &#45;&#45;&#45;5&#45;&#45;&#45;0 -->\n<g class=\"node\" id=\"node22\">\n<title>---5---0</title>\n<ellipse cx=\"675\" cy=\"-234\" fill=\"none\" rx=\"27\" ry=\"18\" stroke=\"#000000\"/>\n<text fill=\"#000000\" font-family=\"Times,serif\" font-size=\"14.00\" text-anchor=\"middle\" x=\"675\" y=\"-230.3\">6.0</text>\n</g>\n<!-- &#39;&#45;&#45;&#45;5&#45;&#45;&#45;&#39;&#45;&gt;&#45;&#45;&#45;5&#45;&#45;&#45;0 -->\n<g class=\"edge\" id=\"edge16\">\n<title>'---5---'-&gt;---5---0</title>\n<path d=\"M675,-287.8314C675,-280.131 675,-270.9743 675,-262.4166\" fill=\"none\" stroke=\"#000000\"/>\n<polygon fill=\"#000000\" points=\"678.5001,-262.4132 675,-252.4133 671.5001,-262.4133 678.5001,-262.4132\" stroke=\"#000000\"/>\n</g>\n<!-- &#45;&#45;&#45;5&#45;&#45;&#45;1 -->\n<g class=\"node\" id=\"node23\">\n<title>---5---1</title>\n<ellipse cx=\"639\" cy=\"-162\" fill=\"none\" rx=\"27\" ry=\"18\" stroke=\"#000000\"/>\n<text fill=\"#000000\" font-family=\"Times,serif\" font-size=\"14.00\" text-anchor=\"middle\" x=\"639\" y=\"-158.3\">4.0</text>\n</g>\n<!-- &#45;&#45;&#45;5&#45;&#45;&#45;0&#45;&gt;&#45;&#45;&#45;5&#45;&#45;&#45;1 -->\n<g class=\"edge\" id=\"edge17\">\n<title>---5---0-&gt;---5---1</title>\n<path d=\"M666.2854,-216.5708C662.0403,-208.0807 656.8464,-197.6929 652.1337,-188.2674\" fill=\"none\" stroke=\"#000000\"/>\n<polygon fill=\"#000000\" points=\"655.237,-186.6477 647.6343,-179.2687 648.976,-189.7782 655.237,-186.6477\" stroke=\"#000000\"/>\n</g>\n<!-- &#45;&#45;&#45;5&#45;&#45;&#45;2 -->\n<g class=\"node\" id=\"node24\">\n<title>---5---2</title>\n<ellipse cx=\"711\" cy=\"-162\" fill=\"none\" rx=\"27\" ry=\"18\" stroke=\"#000000\"/>\n<text fill=\"#000000\" font-family=\"Times,serif\" font-size=\"14.00\" text-anchor=\"middle\" x=\"711\" y=\"-158.3\">5.0</text>\n</g>\n<!-- &#45;&#45;&#45;5&#45;&#45;&#45;0&#45;&gt;&#45;&#45;&#45;5&#45;&#45;&#45;2 -->\n<g class=\"edge\" id=\"edge18\">\n<title>---5---0-&gt;---5---2</title>\n<path d=\"M683.7146,-216.5708C687.9597,-208.0807 693.1536,-197.6929 697.8663,-188.2674\" fill=\"none\" stroke=\"#000000\"/>\n<polygon fill=\"#000000\" points=\"701.024,-189.7782 702.3657,-179.2687 694.763,-186.6477 701.024,-189.7782\" stroke=\"#000000\"/>\n</g>\n<!-- &#45;&#45;&#45;5&#45;&#45;&#45;3 -->\n<g class=\"node\" id=\"node25\">\n<title>---5---3</title>\n<ellipse cx=\"567\" cy=\"-90\" fill=\"none\" rx=\"27\" ry=\"18\" stroke=\"#000000\"/>\n<text fill=\"#000000\" font-family=\"Times,serif\" font-size=\"14.00\" text-anchor=\"middle\" x=\"567\" y=\"-86.3\">1.0</text>\n</g>\n<!-- &#45;&#45;&#45;5&#45;&#45;&#45;1&#45;&gt;&#45;&#45;&#45;5&#45;&#45;&#45;3 -->\n<g class=\"edge\" id=\"edge19\">\n<title>---5---1-&gt;---5---3</title>\n<path d=\"M623.7307,-146.7307C613.803,-136.803 600.6847,-123.6847 589.5637,-112.5637\" fill=\"none\" stroke=\"#000000\"/>\n<polygon fill=\"#000000\" points=\"591.7933,-109.8436 582.2473,-105.2473 586.8436,-114.7933 591.7933,-109.8436\" stroke=\"#000000\"/>\n</g>\n<!-- &#45;&#45;&#45;5&#45;&#45;&#45;4 -->\n<g class=\"node\" id=\"node26\">\n<title>---5---4</title>\n<ellipse cx=\"639\" cy=\"-90\" fill=\"none\" rx=\"27\" ry=\"18\" stroke=\"#000000\"/>\n<text fill=\"#000000\" font-family=\"Times,serif\" font-size=\"14.00\" text-anchor=\"middle\" x=\"639\" y=\"-86.3\">3.0</text>\n</g>\n<!-- &#45;&#45;&#45;5&#45;&#45;&#45;1&#45;&gt;&#45;&#45;&#45;5&#45;&#45;&#45;4 -->\n<g class=\"edge\" id=\"edge20\">\n<title>---5---1-&gt;---5---4</title>\n<path d=\"M639,-143.8314C639,-136.131 639,-126.9743 639,-118.4166\" fill=\"none\" stroke=\"#000000\"/>\n<polygon fill=\"#000000\" points=\"642.5001,-118.4132 639,-108.4133 635.5001,-118.4133 642.5001,-118.4132\" stroke=\"#000000\"/>\n</g>\n<!-- &#45;&#45;&#45;5&#45;&#45;&#45;5 -->\n<g class=\"node\" id=\"node27\">\n<title>---5---5</title>\n<ellipse cx=\"711\" cy=\"-90\" fill=\"none\" rx=\"27\" ry=\"18\" stroke=\"#000000\"/>\n<text fill=\"#000000\" font-family=\"Times,serif\" font-size=\"14.00\" text-anchor=\"middle\" x=\"711\" y=\"-86.3\">2.0</text>\n</g>\n<!-- &#45;&#45;&#45;5&#45;&#45;&#45;2&#45;&gt;&#45;&#45;&#45;5&#45;&#45;&#45;5 -->\n<g class=\"edge\" id=\"edge21\">\n<title>---5---2-&gt;---5---5</title>\n<path d=\"M711,-143.8314C711,-136.131 711,-126.9743 711,-118.4166\" fill=\"none\" stroke=\"#000000\"/>\n<polygon fill=\"#000000\" points=\"714.5001,-118.4132 711,-108.4133 707.5001,-118.4133 714.5001,-118.4132\" stroke=\"#000000\"/>\n</g>\n<!-- &#39;&#45;&#45;&#45;6&#45;&#45;&#45;&#39; -->\n<g class=\"node\" id=\"node28\">\n<title>'---6---'</title>\n<ellipse cx=\"891\" cy=\"-306\" fill=\"none\" rx=\"27\" ry=\"18\" stroke=\"#000000\"/>\n<text fill=\"#000000\" font-family=\"Times,serif\" font-size=\"14.00\" text-anchor=\"middle\" x=\"891\" y=\"-302.3\">t=6</text>\n</g>\n<!-- &#45;&#45;&#45;6&#45;&#45;&#45;0 -->\n<g class=\"node\" id=\"node29\">\n<title>---6---0</title>\n<ellipse cx=\"891\" cy=\"-234\" fill=\"none\" rx=\"27\" ry=\"18\" stroke=\"#000000\"/>\n<text fill=\"#000000\" font-family=\"Times,serif\" font-size=\"14.00\" text-anchor=\"middle\" x=\"891\" y=\"-230.3\">7.0</text>\n</g>\n<!-- &#39;&#45;&#45;&#45;6&#45;&#45;&#45;&#39;&#45;&gt;&#45;&#45;&#45;6&#45;&#45;&#45;0 -->\n<g class=\"edge\" id=\"edge22\">\n<title>'---6---'-&gt;---6---0</title>\n<path d=\"M891,-287.8314C891,-280.131 891,-270.9743 891,-262.4166\" fill=\"none\" stroke=\"#000000\"/>\n<polygon fill=\"#000000\" points=\"894.5001,-262.4132 891,-252.4133 887.5001,-262.4133 894.5001,-262.4132\" stroke=\"#000000\"/>\n</g>\n<!-- &#45;&#45;&#45;6&#45;&#45;&#45;1 -->\n<g class=\"node\" id=\"node30\">\n<title>---6---1</title>\n<ellipse cx=\"855\" cy=\"-162\" fill=\"none\" rx=\"27\" ry=\"18\" stroke=\"#000000\"/>\n<text fill=\"#000000\" font-family=\"Times,serif\" font-size=\"14.00\" text-anchor=\"middle\" x=\"855\" y=\"-158.3\">4.0</text>\n</g>\n<!-- &#45;&#45;&#45;6&#45;&#45;&#45;0&#45;&gt;&#45;&#45;&#45;6&#45;&#45;&#45;1 -->\n<g class=\"edge\" id=\"edge23\">\n<title>---6---0-&gt;---6---1</title>\n<path d=\"M882.2854,-216.5708C878.0403,-208.0807 872.8464,-197.6929 868.1337,-188.2674\" fill=\"none\" stroke=\"#000000\"/>\n<polygon fill=\"#000000\" points=\"871.237,-186.6477 863.6343,-179.2687 864.976,-189.7782 871.237,-186.6477\" stroke=\"#000000\"/>\n</g>\n<!-- &#45;&#45;&#45;6&#45;&#45;&#45;2 -->\n<g class=\"node\" id=\"node31\">\n<title>---6---2</title>\n<ellipse cx=\"927\" cy=\"-162\" fill=\"none\" rx=\"27\" ry=\"18\" stroke=\"#000000\"/>\n<text fill=\"#000000\" font-family=\"Times,serif\" font-size=\"14.00\" text-anchor=\"middle\" x=\"927\" y=\"-158.3\">6.0</text>\n</g>\n<!-- &#45;&#45;&#45;6&#45;&#45;&#45;0&#45;&gt;&#45;&#45;&#45;6&#45;&#45;&#45;2 -->\n<g class=\"edge\" id=\"edge24\">\n<title>---6---0-&gt;---6---2</title>\n<path d=\"M899.7146,-216.5708C903.9597,-208.0807 909.1536,-197.6929 913.8663,-188.2674\" fill=\"none\" stroke=\"#000000\"/>\n<polygon fill=\"#000000\" points=\"917.024,-189.7782 918.3657,-179.2687 910.763,-186.6477 917.024,-189.7782\" stroke=\"#000000\"/>\n</g>\n<!-- &#45;&#45;&#45;6&#45;&#45;&#45;3 -->\n<g class=\"node\" id=\"node32\">\n<title>---6---3</title>\n<ellipse cx=\"783\" cy=\"-90\" fill=\"none\" rx=\"27\" ry=\"18\" stroke=\"#000000\"/>\n<text fill=\"#000000\" font-family=\"Times,serif\" font-size=\"14.00\" text-anchor=\"middle\" x=\"783\" y=\"-86.3\">1.0</text>\n</g>\n<!-- &#45;&#45;&#45;6&#45;&#45;&#45;1&#45;&gt;&#45;&#45;&#45;6&#45;&#45;&#45;3 -->\n<g class=\"edge\" id=\"edge25\">\n<title>---6---1-&gt;---6---3</title>\n<path d=\"M839.7307,-146.7307C829.803,-136.803 816.6847,-123.6847 805.5637,-112.5637\" fill=\"none\" stroke=\"#000000\"/>\n<polygon fill=\"#000000\" points=\"807.7933,-109.8436 798.2473,-105.2473 802.8436,-114.7933 807.7933,-109.8436\" stroke=\"#000000\"/>\n</g>\n<!-- &#45;&#45;&#45;6&#45;&#45;&#45;4 -->\n<g class=\"node\" id=\"node33\">\n<title>---6---4</title>\n<ellipse cx=\"855\" cy=\"-90\" fill=\"none\" rx=\"27\" ry=\"18\" stroke=\"#000000\"/>\n<text fill=\"#000000\" font-family=\"Times,serif\" font-size=\"14.00\" text-anchor=\"middle\" x=\"855\" y=\"-86.3\">3.0</text>\n</g>\n<!-- &#45;&#45;&#45;6&#45;&#45;&#45;1&#45;&gt;&#45;&#45;&#45;6&#45;&#45;&#45;4 -->\n<g class=\"edge\" id=\"edge26\">\n<title>---6---1-&gt;---6---4</title>\n<path d=\"M855,-143.8314C855,-136.131 855,-126.9743 855,-118.4166\" fill=\"none\" stroke=\"#000000\"/>\n<polygon fill=\"#000000\" points=\"858.5001,-118.4132 855,-108.4133 851.5001,-118.4133 858.5001,-118.4132\" stroke=\"#000000\"/>\n</g>\n<!-- &#45;&#45;&#45;6&#45;&#45;&#45;5 -->\n<g class=\"node\" id=\"node34\">\n<title>---6---5</title>\n<ellipse cx=\"927\" cy=\"-90\" fill=\"none\" rx=\"27\" ry=\"18\" stroke=\"#000000\"/>\n<text fill=\"#000000\" font-family=\"Times,serif\" font-size=\"14.00\" text-anchor=\"middle\" x=\"927\" y=\"-86.3\">2.0</text>\n</g>\n<!-- &#45;&#45;&#45;6&#45;&#45;&#45;2&#45;&gt;&#45;&#45;&#45;6&#45;&#45;&#45;5 -->\n<g class=\"edge\" id=\"edge27\">\n<title>---6---2-&gt;---6---5</title>\n<path d=\"M927,-143.8314C927,-136.131 927,-126.9743 927,-118.4166\" fill=\"none\" stroke=\"#000000\"/>\n<polygon fill=\"#000000\" points=\"930.5001,-118.4132 927,-108.4133 923.5001,-118.4133 930.5001,-118.4132\" stroke=\"#000000\"/>\n</g>\n<!-- &#45;&#45;&#45;6&#45;&#45;&#45;6 -->\n<g class=\"node\" id=\"node35\">\n<title>---6---6</title>\n<ellipse cx=\"999\" cy=\"-90\" fill=\"none\" rx=\"27\" ry=\"18\" stroke=\"#000000\"/>\n<text fill=\"#000000\" font-family=\"Times,serif\" font-size=\"14.00\" text-anchor=\"middle\" x=\"999\" y=\"-86.3\">5.0</text>\n</g>\n<!-- &#45;&#45;&#45;6&#45;&#45;&#45;2&#45;&gt;&#45;&#45;&#45;6&#45;&#45;&#45;6 -->\n<g class=\"edge\" id=\"edge28\">\n<title>---6---2-&gt;---6---6</title>\n<path d=\"M942.2693,-146.7307C952.197,-136.803 965.3153,-123.6847 976.4363,-112.5637\" fill=\"none\" stroke=\"#000000\"/>\n<polygon fill=\"#000000\" points=\"979.1564,-114.7933 983.7527,-105.2473 974.2067,-109.8436 979.1564,-114.7933\" stroke=\"#000000\"/>\n</g>\n<!-- &#39;&#45;&#45;&#45;7&#45;&#45;&#45;&#39; -->\n<g class=\"node\" id=\"node36\">\n<title>'---7---'</title>\n<ellipse cx=\"1179\" cy=\"-306\" fill=\"none\" rx=\"27\" ry=\"18\" stroke=\"#000000\"/>\n<text fill=\"#000000\" font-family=\"Times,serif\" font-size=\"14.00\" text-anchor=\"middle\" x=\"1179\" y=\"-302.3\">t=7</text>\n</g>\n<!-- &#45;&#45;&#45;7&#45;&#45;&#45;0 -->\n<g class=\"node\" id=\"node37\">\n<title>---7---0</title>\n<ellipse cx=\"1179\" cy=\"-234\" fill=\"none\" rx=\"27\" ry=\"18\" stroke=\"#000000\"/>\n<text fill=\"#000000\" font-family=\"Times,serif\" font-size=\"14.00\" text-anchor=\"middle\" x=\"1179\" y=\"-230.3\">8.0</text>\n</g>\n<!-- &#39;&#45;&#45;&#45;7&#45;&#45;&#45;&#39;&#45;&gt;&#45;&#45;&#45;7&#45;&#45;&#45;0 -->\n<g class=\"edge\" id=\"edge29\">\n<title>'---7---'-&gt;---7---0</title>\n<path d=\"M1179,-287.8314C1179,-280.131 1179,-270.9743 1179,-262.4166\" fill=\"none\" stroke=\"#000000\"/>\n<polygon fill=\"#000000\" points=\"1182.5001,-262.4132 1179,-252.4133 1175.5001,-262.4133 1182.5001,-262.4132\" stroke=\"#000000\"/>\n</g>\n<!-- &#45;&#45;&#45;7&#45;&#45;&#45;1 -->\n<g class=\"node\" id=\"node38\">\n<title>---7---1</title>\n<ellipse cx=\"1143\" cy=\"-162\" fill=\"none\" rx=\"27\" ry=\"18\" stroke=\"#000000\"/>\n<text fill=\"#000000\" font-family=\"Times,serif\" font-size=\"14.00\" text-anchor=\"middle\" x=\"1143\" y=\"-158.3\">7.0</text>\n</g>\n<!-- &#45;&#45;&#45;7&#45;&#45;&#45;0&#45;&gt;&#45;&#45;&#45;7&#45;&#45;&#45;1 -->\n<g class=\"edge\" id=\"edge30\">\n<title>---7---0-&gt;---7---1</title>\n<path d=\"M1170.2854,-216.5708C1166.0403,-208.0807 1160.8464,-197.6929 1156.1337,-188.2674\" fill=\"none\" stroke=\"#000000\"/>\n<polygon fill=\"#000000\" points=\"1159.237,-186.6477 1151.6343,-179.2687 1152.976,-189.7782 1159.237,-186.6477\" stroke=\"#000000\"/>\n</g>\n<!-- &#45;&#45;&#45;7&#45;&#45;&#45;2 -->\n<g class=\"node\" id=\"node39\">\n<title>---7---2</title>\n<ellipse cx=\"1215\" cy=\"-162\" fill=\"none\" rx=\"27\" ry=\"18\" stroke=\"#000000\"/>\n<text fill=\"#000000\" font-family=\"Times,serif\" font-size=\"14.00\" text-anchor=\"middle\" x=\"1215\" y=\"-158.3\">6.0</text>\n</g>\n<!-- &#45;&#45;&#45;7&#45;&#45;&#45;0&#45;&gt;&#45;&#45;&#45;7&#45;&#45;&#45;2 -->\n<g class=\"edge\" id=\"edge31\">\n<title>---7---0-&gt;---7---2</title>\n<path d=\"M1187.7146,-216.5708C1191.9597,-208.0807 1197.1536,-197.6929 1201.8663,-188.2674\" fill=\"none\" stroke=\"#000000\"/>\n<polygon fill=\"#000000\" points=\"1205.024,-189.7782 1206.3657,-179.2687 1198.763,-186.6477 1205.024,-189.7782\" stroke=\"#000000\"/>\n</g>\n<!-- &#45;&#45;&#45;7&#45;&#45;&#45;3 -->\n<g class=\"node\" id=\"node40\">\n<title>---7---3</title>\n<ellipse cx=\"1071\" cy=\"-90\" fill=\"none\" rx=\"27\" ry=\"18\" stroke=\"#000000\"/>\n<text fill=\"#000000\" font-family=\"Times,serif\" font-size=\"14.00\" text-anchor=\"middle\" x=\"1071\" y=\"-86.3\">4.0</text>\n</g>\n<!-- &#45;&#45;&#45;7&#45;&#45;&#45;1&#45;&gt;&#45;&#45;&#45;7&#45;&#45;&#45;3 -->\n<g class=\"edge\" id=\"edge32\">\n<title>---7---1-&gt;---7---3</title>\n<path d=\"M1127.7307,-146.7307C1117.803,-136.803 1104.6847,-123.6847 1093.5637,-112.5637\" fill=\"none\" stroke=\"#000000\"/>\n<polygon fill=\"#000000\" points=\"1095.7933,-109.8436 1086.2473,-105.2473 1090.8436,-114.7933 1095.7933,-109.8436\" stroke=\"#000000\"/>\n</g>\n<!-- &#45;&#45;&#45;7&#45;&#45;&#45;4 -->\n<g class=\"node\" id=\"node41\">\n<title>---7---4</title>\n<ellipse cx=\"1143\" cy=\"-90\" fill=\"none\" rx=\"27\" ry=\"18\" stroke=\"#000000\"/>\n<text fill=\"#000000\" font-family=\"Times,serif\" font-size=\"14.00\" text-anchor=\"middle\" x=\"1143\" y=\"-86.3\">3.0</text>\n</g>\n<!-- &#45;&#45;&#45;7&#45;&#45;&#45;1&#45;&gt;&#45;&#45;&#45;7&#45;&#45;&#45;4 -->\n<g class=\"edge\" id=\"edge33\">\n<title>---7---1-&gt;---7---4</title>\n<path d=\"M1143,-143.8314C1143,-136.131 1143,-126.9743 1143,-118.4166\" fill=\"none\" stroke=\"#000000\"/>\n<polygon fill=\"#000000\" points=\"1146.5001,-118.4132 1143,-108.4133 1139.5001,-118.4133 1146.5001,-118.4132\" stroke=\"#000000\"/>\n</g>\n<!-- &#45;&#45;&#45;7&#45;&#45;&#45;5 -->\n<g class=\"node\" id=\"node42\">\n<title>---7---5</title>\n<ellipse cx=\"1215\" cy=\"-90\" fill=\"none\" rx=\"27\" ry=\"18\" stroke=\"#000000\"/>\n<text fill=\"#000000\" font-family=\"Times,serif\" font-size=\"14.00\" text-anchor=\"middle\" x=\"1215\" y=\"-86.3\">2.0</text>\n</g>\n<!-- &#45;&#45;&#45;7&#45;&#45;&#45;2&#45;&gt;&#45;&#45;&#45;7&#45;&#45;&#45;5 -->\n<g class=\"edge\" id=\"edge34\">\n<title>---7---2-&gt;---7---5</title>\n<path d=\"M1215,-143.8314C1215,-136.131 1215,-126.9743 1215,-118.4166\" fill=\"none\" stroke=\"#000000\"/>\n<polygon fill=\"#000000\" points=\"1218.5001,-118.4132 1215,-108.4133 1211.5001,-118.4133 1218.5001,-118.4132\" stroke=\"#000000\"/>\n</g>\n<!-- &#45;&#45;&#45;7&#45;&#45;&#45;6 -->\n<g class=\"node\" id=\"node43\">\n<title>---7---6</title>\n<ellipse cx=\"1287\" cy=\"-90\" fill=\"none\" rx=\"27\" ry=\"18\" stroke=\"#000000\"/>\n<text fill=\"#000000\" font-family=\"Times,serif\" font-size=\"14.00\" text-anchor=\"middle\" x=\"1287\" y=\"-86.3\">5.0</text>\n</g>\n<!-- &#45;&#45;&#45;7&#45;&#45;&#45;2&#45;&gt;&#45;&#45;&#45;7&#45;&#45;&#45;6 -->\n<g class=\"edge\" id=\"edge35\">\n<title>---7---2-&gt;---7---6</title>\n<path d=\"M1230.2693,-146.7307C1240.197,-136.803 1253.3153,-123.6847 1264.4363,-112.5637\" fill=\"none\" stroke=\"#000000\"/>\n<polygon fill=\"#000000\" points=\"1267.1564,-114.7933 1271.7527,-105.2473 1262.2067,-109.8436 1267.1564,-114.7933\" stroke=\"#000000\"/>\n</g>\n<!-- &#45;&#45;&#45;7&#45;&#45;&#45;7 -->\n<g class=\"node\" id=\"node44\">\n<title>---7---7</title>\n<ellipse cx=\"1071\" cy=\"-18\" fill=\"none\" rx=\"27\" ry=\"18\" stroke=\"#000000\"/>\n<text fill=\"#000000\" font-family=\"Times,serif\" font-size=\"14.00\" text-anchor=\"middle\" x=\"1071\" y=\"-14.3\">1.0</text>\n</g>\n<!-- &#45;&#45;&#45;7&#45;&#45;&#45;3&#45;&gt;&#45;&#45;&#45;7&#45;&#45;&#45;7 -->\n<g class=\"edge\" id=\"edge36\">\n<title>---7---3-&gt;---7---7</title>\n<path d=\"M1071,-71.8314C1071,-64.131 1071,-54.9743 1071,-46.4166\" fill=\"none\" stroke=\"#000000\"/>\n<polygon fill=\"#000000\" points=\"1074.5001,-46.4132 1071,-36.4133 1067.5001,-46.4133 1074.5001,-46.4132\" stroke=\"#000000\"/>\n</g>\n<!-- &#39;&#45;&#45;&#45;8&#45;&#45;&#45;&#39; -->\n<g class=\"node\" id=\"node45\">\n<title>'---8---'</title>\n<ellipse cx=\"1467\" cy=\"-306\" fill=\"none\" rx=\"27\" ry=\"18\" stroke=\"#000000\"/>\n<text fill=\"#000000\" font-family=\"Times,serif\" font-size=\"14.00\" text-anchor=\"middle\" x=\"1467\" y=\"-302.3\">t=8</text>\n</g>\n<!-- &#45;&#45;&#45;8&#45;&#45;&#45;0 -->\n<g class=\"node\" id=\"node46\">\n<title>---8---0</title>\n<ellipse cx=\"1467\" cy=\"-234\" fill=\"none\" rx=\"27\" ry=\"18\" stroke=\"#000000\"/>\n<text fill=\"#000000\" font-family=\"Times,serif\" font-size=\"14.00\" text-anchor=\"middle\" x=\"1467\" y=\"-230.3\">9.0</text>\n</g>\n<!-- &#39;&#45;&#45;&#45;8&#45;&#45;&#45;&#39;&#45;&gt;&#45;&#45;&#45;8&#45;&#45;&#45;0 -->\n<g class=\"edge\" id=\"edge37\">\n<title>'---8---'-&gt;---8---0</title>\n<path d=\"M1467,-287.8314C1467,-280.131 1467,-270.9743 1467,-262.4166\" fill=\"none\" stroke=\"#000000\"/>\n<polygon fill=\"#000000\" points=\"1470.5001,-262.4132 1467,-252.4133 1463.5001,-262.4133 1470.5001,-262.4132\" stroke=\"#000000\"/>\n</g>\n<!-- &#45;&#45;&#45;8&#45;&#45;&#45;1 -->\n<g class=\"node\" id=\"node47\">\n<title>---8---1</title>\n<ellipse cx=\"1431\" cy=\"-162\" fill=\"none\" rx=\"27\" ry=\"18\" stroke=\"#000000\"/>\n<text fill=\"#000000\" font-family=\"Times,serif\" font-size=\"14.00\" text-anchor=\"middle\" x=\"1431\" y=\"-158.3\">8.0</text>\n</g>\n<!-- &#45;&#45;&#45;8&#45;&#45;&#45;0&#45;&gt;&#45;&#45;&#45;8&#45;&#45;&#45;1 -->\n<g class=\"edge\" id=\"edge38\">\n<title>---8---0-&gt;---8---1</title>\n<path d=\"M1458.2854,-216.5708C1454.0403,-208.0807 1448.8464,-197.6929 1444.1337,-188.2674\" fill=\"none\" stroke=\"#000000\"/>\n<polygon fill=\"#000000\" points=\"1447.237,-186.6477 1439.6343,-179.2687 1440.976,-189.7782 1447.237,-186.6477\" stroke=\"#000000\"/>\n</g>\n<!-- &#45;&#45;&#45;8&#45;&#45;&#45;2 -->\n<g class=\"node\" id=\"node48\">\n<title>---8---2</title>\n<ellipse cx=\"1503\" cy=\"-162\" fill=\"none\" rx=\"27\" ry=\"18\" stroke=\"#000000\"/>\n<text fill=\"#000000\" font-family=\"Times,serif\" font-size=\"14.00\" text-anchor=\"middle\" x=\"1503\" y=\"-158.3\">6.0</text>\n</g>\n<!-- &#45;&#45;&#45;8&#45;&#45;&#45;0&#45;&gt;&#45;&#45;&#45;8&#45;&#45;&#45;2 -->\n<g class=\"edge\" id=\"edge39\">\n<title>---8---0-&gt;---8---2</title>\n<path d=\"M1475.7146,-216.5708C1479.9597,-208.0807 1485.1536,-197.6929 1489.8663,-188.2674\" fill=\"none\" stroke=\"#000000\"/>\n<polygon fill=\"#000000\" points=\"1493.024,-189.7782 1494.3657,-179.2687 1486.763,-186.6477 1493.024,-189.7782\" stroke=\"#000000\"/>\n</g>\n<!-- &#45;&#45;&#45;8&#45;&#45;&#45;3 -->\n<g class=\"node\" id=\"node49\">\n<title>---8---3</title>\n<ellipse cx=\"1359\" cy=\"-90\" fill=\"none\" rx=\"27\" ry=\"18\" stroke=\"#000000\"/>\n<text fill=\"#000000\" font-family=\"Times,serif\" font-size=\"14.00\" text-anchor=\"middle\" x=\"1359\" y=\"-86.3\">7.0</text>\n</g>\n<!-- &#45;&#45;&#45;8&#45;&#45;&#45;1&#45;&gt;&#45;&#45;&#45;8&#45;&#45;&#45;3 -->\n<g class=\"edge\" id=\"edge40\">\n<title>---8---1-&gt;---8---3</title>\n<path d=\"M1415.7307,-146.7307C1405.803,-136.803 1392.6847,-123.6847 1381.5637,-112.5637\" fill=\"none\" stroke=\"#000000\"/>\n<polygon fill=\"#000000\" points=\"1383.7933,-109.8436 1374.2473,-105.2473 1378.8436,-114.7933 1383.7933,-109.8436\" stroke=\"#000000\"/>\n</g>\n<!-- &#45;&#45;&#45;8&#45;&#45;&#45;4 -->\n<g class=\"node\" id=\"node50\">\n<title>---8---4</title>\n<ellipse cx=\"1431\" cy=\"-90\" fill=\"none\" rx=\"27\" ry=\"18\" stroke=\"#000000\"/>\n<text fill=\"#000000\" font-family=\"Times,serif\" font-size=\"14.00\" text-anchor=\"middle\" x=\"1431\" y=\"-86.3\">3.0</text>\n</g>\n<!-- &#45;&#45;&#45;8&#45;&#45;&#45;1&#45;&gt;&#45;&#45;&#45;8&#45;&#45;&#45;4 -->\n<g class=\"edge\" id=\"edge41\">\n<title>---8---1-&gt;---8---4</title>\n<path d=\"M1431,-143.8314C1431,-136.131 1431,-126.9743 1431,-118.4166\" fill=\"none\" stroke=\"#000000\"/>\n<polygon fill=\"#000000\" points=\"1434.5001,-118.4132 1431,-108.4133 1427.5001,-118.4133 1434.5001,-118.4132\" stroke=\"#000000\"/>\n</g>\n<!-- &#45;&#45;&#45;8&#45;&#45;&#45;5 -->\n<g class=\"node\" id=\"node51\">\n<title>---8---5</title>\n<ellipse cx=\"1503\" cy=\"-90\" fill=\"none\" rx=\"27\" ry=\"18\" stroke=\"#000000\"/>\n<text fill=\"#000000\" font-family=\"Times,serif\" font-size=\"14.00\" text-anchor=\"middle\" x=\"1503\" y=\"-86.3\">2.0</text>\n</g>\n<!-- &#45;&#45;&#45;8&#45;&#45;&#45;2&#45;&gt;&#45;&#45;&#45;8&#45;&#45;&#45;5 -->\n<g class=\"edge\" id=\"edge42\">\n<title>---8---2-&gt;---8---5</title>\n<path d=\"M1503,-143.8314C1503,-136.131 1503,-126.9743 1503,-118.4166\" fill=\"none\" stroke=\"#000000\"/>\n<polygon fill=\"#000000\" points=\"1506.5001,-118.4132 1503,-108.4133 1499.5001,-118.4133 1506.5001,-118.4132\" stroke=\"#000000\"/>\n</g>\n<!-- &#45;&#45;&#45;8&#45;&#45;&#45;6 -->\n<g class=\"node\" id=\"node52\">\n<title>---8---6</title>\n<ellipse cx=\"1575\" cy=\"-90\" fill=\"none\" rx=\"27\" ry=\"18\" stroke=\"#000000\"/>\n<text fill=\"#000000\" font-family=\"Times,serif\" font-size=\"14.00\" text-anchor=\"middle\" x=\"1575\" y=\"-86.3\">5.0</text>\n</g>\n<!-- &#45;&#45;&#45;8&#45;&#45;&#45;2&#45;&gt;&#45;&#45;&#45;8&#45;&#45;&#45;6 -->\n<g class=\"edge\" id=\"edge43\">\n<title>---8---2-&gt;---8---6</title>\n<path d=\"M1518.2693,-146.7307C1528.197,-136.803 1541.3153,-123.6847 1552.4363,-112.5637\" fill=\"none\" stroke=\"#000000\"/>\n<polygon fill=\"#000000\" points=\"1555.1564,-114.7933 1559.7527,-105.2473 1550.2067,-109.8436 1555.1564,-114.7933\" stroke=\"#000000\"/>\n</g>\n<!-- &#45;&#45;&#45;8&#45;&#45;&#45;7 -->\n<g class=\"node\" id=\"node53\">\n<title>---8---7</title>\n<ellipse cx=\"1323\" cy=\"-18\" fill=\"none\" rx=\"27\" ry=\"18\" stroke=\"#000000\"/>\n<text fill=\"#000000\" font-family=\"Times,serif\" font-size=\"14.00\" text-anchor=\"middle\" x=\"1323\" y=\"-14.3\">1.0</text>\n</g>\n<!-- &#45;&#45;&#45;8&#45;&#45;&#45;3&#45;&gt;&#45;&#45;&#45;8&#45;&#45;&#45;7 -->\n<g class=\"edge\" id=\"edge44\">\n<title>---8---3-&gt;---8---7</title>\n<path d=\"M1350.2854,-72.5708C1346.0403,-64.0807 1340.8464,-53.6929 1336.1337,-44.2674\" fill=\"none\" stroke=\"#000000\"/>\n<polygon fill=\"#000000\" points=\"1339.237,-42.6477 1331.6343,-35.2687 1332.976,-45.7782 1339.237,-42.6477\" stroke=\"#000000\"/>\n</g>\n<!-- &#45;&#45;&#45;8&#45;&#45;&#45;8 -->\n<g class=\"node\" id=\"node54\">\n<title>---8---8</title>\n<ellipse cx=\"1395\" cy=\"-18\" fill=\"none\" rx=\"27\" ry=\"18\" stroke=\"#000000\"/>\n<text fill=\"#000000\" font-family=\"Times,serif\" font-size=\"14.00\" text-anchor=\"middle\" x=\"1395\" y=\"-14.3\">4.0</text>\n</g>\n<!-- &#45;&#45;&#45;8&#45;&#45;&#45;3&#45;&gt;&#45;&#45;&#45;8&#45;&#45;&#45;8 -->\n<g class=\"edge\" id=\"edge45\">\n<title>---8---3-&gt;---8---8</title>\n<path d=\"M1367.7146,-72.5708C1371.9597,-64.0807 1377.1536,-53.6929 1381.8663,-44.2674\" fill=\"none\" stroke=\"#000000\"/>\n<polygon fill=\"#000000\" points=\"1385.024,-45.7782 1386.3657,-35.2687 1378.763,-42.6477 1385.024,-45.7782\" stroke=\"#000000\"/>\n</g>\n<!-- &#39;&#45;&#45;&#45;9&#45;&#45;&#45;&#39; -->\n<g class=\"node\" id=\"node55\">\n<title>'---9---'</title>\n<ellipse cx=\"1755\" cy=\"-306\" fill=\"none\" rx=\"27\" ry=\"18\" stroke=\"#000000\"/>\n<text fill=\"#000000\" font-family=\"Times,serif\" font-size=\"14.00\" text-anchor=\"middle\" x=\"1755\" y=\"-302.3\">t=9</text>\n</g>\n<!-- &#45;&#45;&#45;9&#45;&#45;&#45;0 -->\n<g class=\"node\" id=\"node56\">\n<title>---9---0</title>\n<ellipse cx=\"1755\" cy=\"-234\" fill=\"none\" rx=\"27.8951\" ry=\"18\" stroke=\"#000000\"/>\n<text fill=\"#000000\" font-family=\"Times,serif\" font-size=\"14.00\" text-anchor=\"middle\" x=\"1755\" y=\"-230.3\">10.0</text>\n</g>\n<!-- &#39;&#45;&#45;&#45;9&#45;&#45;&#45;&#39;&#45;&gt;&#45;&#45;&#45;9&#45;&#45;&#45;0 -->\n<g class=\"edge\" id=\"edge46\">\n<title>'---9---'-&gt;---9---0</title>\n<path d=\"M1755,-287.8314C1755,-280.131 1755,-270.9743 1755,-262.4166\" fill=\"none\" stroke=\"#000000\"/>\n<polygon fill=\"#000000\" points=\"1758.5001,-262.4132 1755,-252.4133 1751.5001,-262.4133 1758.5001,-262.4132\" stroke=\"#000000\"/>\n</g>\n<!-- &#45;&#45;&#45;9&#45;&#45;&#45;1 -->\n<g class=\"node\" id=\"node57\">\n<title>---9---1</title>\n<ellipse cx=\"1719\" cy=\"-162\" fill=\"none\" rx=\"27\" ry=\"18\" stroke=\"#000000\"/>\n<text fill=\"#000000\" font-family=\"Times,serif\" font-size=\"14.00\" text-anchor=\"middle\" x=\"1719\" y=\"-158.3\">9.0</text>\n</g>\n<!-- &#45;&#45;&#45;9&#45;&#45;&#45;0&#45;&gt;&#45;&#45;&#45;9&#45;&#45;&#45;1 -->\n<g class=\"edge\" id=\"edge47\">\n<title>---9---0-&gt;---9---1</title>\n<path d=\"M1746.2854,-216.5708C1742.0403,-208.0807 1736.8464,-197.6929 1732.1337,-188.2674\" fill=\"none\" stroke=\"#000000\"/>\n<polygon fill=\"#000000\" points=\"1735.237,-186.6477 1727.6343,-179.2687 1728.976,-189.7782 1735.237,-186.6477\" stroke=\"#000000\"/>\n</g>\n<!-- &#45;&#45;&#45;9&#45;&#45;&#45;2 -->\n<g class=\"node\" id=\"node58\">\n<title>---9---2</title>\n<ellipse cx=\"1791\" cy=\"-162\" fill=\"none\" rx=\"27\" ry=\"18\" stroke=\"#000000\"/>\n<text fill=\"#000000\" font-family=\"Times,serif\" font-size=\"14.00\" text-anchor=\"middle\" x=\"1791\" y=\"-158.3\">6.0</text>\n</g>\n<!-- &#45;&#45;&#45;9&#45;&#45;&#45;0&#45;&gt;&#45;&#45;&#45;9&#45;&#45;&#45;2 -->\n<g class=\"edge\" id=\"edge48\">\n<title>---9---0-&gt;---9---2</title>\n<path d=\"M1763.7146,-216.5708C1767.9597,-208.0807 1773.1536,-197.6929 1777.8663,-188.2674\" fill=\"none\" stroke=\"#000000\"/>\n<polygon fill=\"#000000\" points=\"1781.024,-189.7782 1782.3657,-179.2687 1774.763,-186.6477 1781.024,-189.7782\" stroke=\"#000000\"/>\n</g>\n<!-- &#45;&#45;&#45;9&#45;&#45;&#45;3 -->\n<g class=\"node\" id=\"node59\">\n<title>---9---3</title>\n<ellipse cx=\"1647\" cy=\"-90\" fill=\"none\" rx=\"27\" ry=\"18\" stroke=\"#000000\"/>\n<text fill=\"#000000\" font-family=\"Times,serif\" font-size=\"14.00\" text-anchor=\"middle\" x=\"1647\" y=\"-86.3\">7.0</text>\n</g>\n<!-- &#45;&#45;&#45;9&#45;&#45;&#45;1&#45;&gt;&#45;&#45;&#45;9&#45;&#45;&#45;3 -->\n<g class=\"edge\" id=\"edge49\">\n<title>---9---1-&gt;---9---3</title>\n<path d=\"M1703.7307,-146.7307C1693.803,-136.803 1680.6847,-123.6847 1669.5637,-112.5637\" fill=\"none\" stroke=\"#000000\"/>\n<polygon fill=\"#000000\" points=\"1671.7933,-109.8436 1662.2473,-105.2473 1666.8436,-114.7933 1671.7933,-109.8436\" stroke=\"#000000\"/>\n</g>\n<!-- &#45;&#45;&#45;9&#45;&#45;&#45;4 -->\n<g class=\"node\" id=\"node60\">\n<title>---9---4</title>\n<ellipse cx=\"1719\" cy=\"-90\" fill=\"none\" rx=\"27\" ry=\"18\" stroke=\"#000000\"/>\n<text fill=\"#000000\" font-family=\"Times,serif\" font-size=\"14.00\" text-anchor=\"middle\" x=\"1719\" y=\"-86.3\">8.0</text>\n</g>\n<!-- &#45;&#45;&#45;9&#45;&#45;&#45;1&#45;&gt;&#45;&#45;&#45;9&#45;&#45;&#45;4 -->\n<g class=\"edge\" id=\"edge50\">\n<title>---9---1-&gt;---9---4</title>\n<path d=\"M1719,-143.8314C1719,-136.131 1719,-126.9743 1719,-118.4166\" fill=\"none\" stroke=\"#000000\"/>\n<polygon fill=\"#000000\" points=\"1722.5001,-118.4132 1719,-108.4133 1715.5001,-118.4133 1722.5001,-118.4132\" stroke=\"#000000\"/>\n</g>\n<!-- &#45;&#45;&#45;9&#45;&#45;&#45;5 -->\n<g class=\"node\" id=\"node61\">\n<title>---9---5</title>\n<ellipse cx=\"1791\" cy=\"-90\" fill=\"none\" rx=\"27\" ry=\"18\" stroke=\"#000000\"/>\n<text fill=\"#000000\" font-family=\"Times,serif\" font-size=\"14.00\" text-anchor=\"middle\" x=\"1791\" y=\"-86.3\">2.0</text>\n</g>\n<!-- &#45;&#45;&#45;9&#45;&#45;&#45;2&#45;&gt;&#45;&#45;&#45;9&#45;&#45;&#45;5 -->\n<g class=\"edge\" id=\"edge51\">\n<title>---9---2-&gt;---9---5</title>\n<path d=\"M1791,-143.8314C1791,-136.131 1791,-126.9743 1791,-118.4166\" fill=\"none\" stroke=\"#000000\"/>\n<polygon fill=\"#000000\" points=\"1794.5001,-118.4132 1791,-108.4133 1787.5001,-118.4133 1794.5001,-118.4132\" stroke=\"#000000\"/>\n</g>\n<!-- &#45;&#45;&#45;9&#45;&#45;&#45;6 -->\n<g class=\"node\" id=\"node62\">\n<title>---9---6</title>\n<ellipse cx=\"1863\" cy=\"-90\" fill=\"none\" rx=\"27\" ry=\"18\" stroke=\"#000000\"/>\n<text fill=\"#000000\" font-family=\"Times,serif\" font-size=\"14.00\" text-anchor=\"middle\" x=\"1863\" y=\"-86.3\">5.0</text>\n</g>\n<!-- &#45;&#45;&#45;9&#45;&#45;&#45;2&#45;&gt;&#45;&#45;&#45;9&#45;&#45;&#45;6 -->\n<g class=\"edge\" id=\"edge52\">\n<title>---9---2-&gt;---9---6</title>\n<path d=\"M1806.2693,-146.7307C1816.197,-136.803 1829.3153,-123.6847 1840.4363,-112.5637\" fill=\"none\" stroke=\"#000000\"/>\n<polygon fill=\"#000000\" points=\"1843.1564,-114.7933 1847.7527,-105.2473 1838.2067,-109.8436 1843.1564,-114.7933\" stroke=\"#000000\"/>\n</g>\n<!-- &#45;&#45;&#45;9&#45;&#45;&#45;7 -->\n<g class=\"node\" id=\"node63\">\n<title>---9---7</title>\n<ellipse cx=\"1575\" cy=\"-18\" fill=\"none\" rx=\"27\" ry=\"18\" stroke=\"#000000\"/>\n<text fill=\"#000000\" font-family=\"Times,serif\" font-size=\"14.00\" text-anchor=\"middle\" x=\"1575\" y=\"-14.3\">1.0</text>\n</g>\n<!-- &#45;&#45;&#45;9&#45;&#45;&#45;3&#45;&gt;&#45;&#45;&#45;9&#45;&#45;&#45;7 -->\n<g class=\"edge\" id=\"edge53\">\n<title>---9---3-&gt;---9---7</title>\n<path d=\"M1631.7307,-74.7307C1621.803,-64.803 1608.6847,-51.6847 1597.5637,-40.5637\" fill=\"none\" stroke=\"#000000\"/>\n<polygon fill=\"#000000\" points=\"1599.7933,-37.8436 1590.2473,-33.2473 1594.8436,-42.7933 1599.7933,-37.8436\" stroke=\"#000000\"/>\n</g>\n<!-- &#45;&#45;&#45;9&#45;&#45;&#45;8 -->\n<g class=\"node\" id=\"node64\">\n<title>---9---8</title>\n<ellipse cx=\"1647\" cy=\"-18\" fill=\"none\" rx=\"27\" ry=\"18\" stroke=\"#000000\"/>\n<text fill=\"#000000\" font-family=\"Times,serif\" font-size=\"14.00\" text-anchor=\"middle\" x=\"1647\" y=\"-14.3\">4.0</text>\n</g>\n<!-- &#45;&#45;&#45;9&#45;&#45;&#45;3&#45;&gt;&#45;&#45;&#45;9&#45;&#45;&#45;8 -->\n<g class=\"edge\" id=\"edge54\">\n<title>---9---3-&gt;---9---8</title>\n<path d=\"M1647,-71.8314C1647,-64.131 1647,-54.9743 1647,-46.4166\" fill=\"none\" stroke=\"#000000\"/>\n<polygon fill=\"#000000\" points=\"1650.5001,-46.4132 1647,-36.4133 1643.5001,-46.4133 1650.5001,-46.4132\" stroke=\"#000000\"/>\n</g>\n<!-- &#45;&#45;&#45;9&#45;&#45;&#45;9 -->\n<g class=\"node\" id=\"node65\">\n<title>---9---9</title>\n<ellipse cx=\"1719\" cy=\"-18\" fill=\"none\" rx=\"27\" ry=\"18\" stroke=\"#000000\"/>\n<text fill=\"#000000\" font-family=\"Times,serif\" font-size=\"14.00\" text-anchor=\"middle\" x=\"1719\" y=\"-14.3\">3.0</text>\n</g>\n<!-- &#45;&#45;&#45;9&#45;&#45;&#45;4&#45;&gt;&#45;&#45;&#45;9&#45;&#45;&#45;9 -->\n<g class=\"edge\" id=\"edge55\">\n<title>---9---4-&gt;---9---9</title>\n<path d=\"M1719,-71.8314C1719,-64.131 1719,-54.9743 1719,-46.4166\" fill=\"none\" stroke=\"#000000\"/>\n<polygon fill=\"#000000\" points=\"1722.5001,-46.4132 1719,-36.4133 1715.5001,-46.4133 1722.5001,-46.4132\" stroke=\"#000000\"/>\n</g>\n</g>\n</svg>"
          },
          "metadata": {},
          "execution_count": 193
        }
      ]
    },
    {
      "cell_type": "markdown",
      "source": [
        "O uno puede dibujar el estado del heap después de cada movimiento de elemento (e.g. dentro de `hundir`):\n",
        "En el ejemplo abajo, observen cómo el elemento \"10\" está insertado \"abajo\" del heap, y progresivamente sube en el árbol."
      ],
      "metadata": {
        "id": "e4iHoqvenQqA"
      }
    },
    {
      "cell_type": "code",
      "source": [
        "a=Max_Heap(10,que_dibujar=\"nada\")\n",
        "a.insert(1)\n",
        "a.insert(2)\n",
        "a.insert(3)\n",
        "a.insert(4)\n",
        "a.insert(5)\n",
        "a.insert(6)\n",
        "a.insert(7)\n",
        "a.insert(8)\n",
        "a.insert(9)\n",
        "a.que_dibujar = \"todo\"\n",
        "a.insert(10)\n",
        "a.dibuja()"
      ],
      "metadata": {
        "colab": {
          "base_uri": "https://localhost:8080/"
        },
        "id": "LuNKB0t5nAY6",
        "outputId": "3accd59f-c8e7-448a-e132-c7e6d7264c91"
      },
      "execution_count": null,
      "outputs": [
        {
          "output_type": "execute_result",
          "data": {
            "text/plain": [
              "<IPython.core.display.SVG object>"
            ],
            "image/svg+xml": "<svg height=\"332pt\" viewBox=\"0.00 0.00 1180.00 332.00\" width=\"1180pt\" xmlns=\"http://www.w3.org/2000/svg\" xmlns:xlink=\"http://www.w3.org/1999/xlink\">\n<g class=\"graph\" id=\"graph0\" transform=\"scale(1 1) rotate(0) translate(4 328)\">\n<title>%3</title>\n<polygon fill=\"#ffffff\" points=\"-4,4 -4,-328 1176,-328 1176,4 -4,4\" stroke=\"transparent\"/>\n<!-- &#39;&#45;&#45;&#45;0&#45;&#45;&#45;&#39; -->\n<g class=\"node\" id=\"node1\">\n<title>'---0---'</title>\n<ellipse cx=\"173\" cy=\"-306\" fill=\"none\" rx=\"27\" ry=\"18\" stroke=\"#000000\"/>\n<text fill=\"#000000\" font-family=\"Times,serif\" font-size=\"14.00\" text-anchor=\"middle\" x=\"173\" y=\"-302.3\">t=0</text>\n</g>\n<!-- &#45;&#45;&#45;0&#45;&#45;&#45;0 -->\n<g class=\"node\" id=\"node2\">\n<title>---0---0</title>\n<ellipse cx=\"173\" cy=\"-234\" fill=\"none\" rx=\"27\" ry=\"18\" stroke=\"#000000\"/>\n<text fill=\"#000000\" font-family=\"Times,serif\" font-size=\"14.00\" text-anchor=\"middle\" x=\"173\" y=\"-230.3\">9.0</text>\n</g>\n<!-- &#39;&#45;&#45;&#45;0&#45;&#45;&#45;&#39;&#45;&gt;&#45;&#45;&#45;0&#45;&#45;&#45;0 -->\n<g class=\"edge\" id=\"edge1\">\n<title>'---0---'-&gt;---0---0</title>\n<path d=\"M173,-287.8314C173,-280.131 173,-270.9743 173,-262.4166\" fill=\"none\" stroke=\"#000000\"/>\n<polygon fill=\"#000000\" points=\"176.5001,-262.4132 173,-252.4133 169.5001,-262.4133 176.5001,-262.4132\" stroke=\"#000000\"/>\n</g>\n<!-- &#45;&#45;&#45;0&#45;&#45;&#45;1 -->\n<g class=\"node\" id=\"node3\">\n<title>---0---1</title>\n<ellipse cx=\"136\" cy=\"-162\" fill=\"none\" rx=\"27\" ry=\"18\" stroke=\"#000000\"/>\n<text fill=\"#000000\" font-family=\"Times,serif\" font-size=\"14.00\" text-anchor=\"middle\" x=\"136\" y=\"-158.3\">8.0</text>\n</g>\n<!-- &#45;&#45;&#45;0&#45;&#45;&#45;0&#45;&gt;&#45;&#45;&#45;0&#45;&#45;&#45;1 -->\n<g class=\"edge\" id=\"edge2\">\n<title>---0---0-&gt;---0---1</title>\n<path d=\"M164.2315,-216.937C159.8721,-208.4537 154.5047,-198.0092 149.6247,-188.513\" fill=\"none\" stroke=\"#000000\"/>\n<polygon fill=\"#000000\" points=\"152.6463,-186.7352 144.9626,-179.4407 146.4203,-189.9348 152.6463,-186.7352\" stroke=\"#000000\"/>\n</g>\n<!-- &#45;&#45;&#45;0&#45;&#45;&#45;2 -->\n<g class=\"node\" id=\"node4\">\n<title>---0---2</title>\n<ellipse cx=\"209\" cy=\"-162\" fill=\"none\" rx=\"27\" ry=\"18\" stroke=\"#000000\"/>\n<text fill=\"#000000\" font-family=\"Times,serif\" font-size=\"14.00\" text-anchor=\"middle\" x=\"209\" y=\"-158.3\">6.0</text>\n</g>\n<!-- &#45;&#45;&#45;0&#45;&#45;&#45;0&#45;&gt;&#45;&#45;&#45;0&#45;&#45;&#45;2 -->\n<g class=\"edge\" id=\"edge3\">\n<title>---0---0-&gt;---0---2</title>\n<path d=\"M181.7146,-216.5708C185.9597,-208.0807 191.1536,-197.6929 195.8663,-188.2674\" fill=\"none\" stroke=\"#000000\"/>\n<polygon fill=\"#000000\" points=\"199.024,-189.7782 200.3657,-179.2687 192.763,-186.6477 199.024,-189.7782\" stroke=\"#000000\"/>\n</g>\n<!-- &#45;&#45;&#45;0&#45;&#45;&#45;3 -->\n<g class=\"node\" id=\"node5\">\n<title>---0---3</title>\n<ellipse cx=\"63\" cy=\"-90\" fill=\"none\" rx=\"27\" ry=\"18\" stroke=\"#000000\"/>\n<text fill=\"#000000\" font-family=\"Times,serif\" font-size=\"14.00\" text-anchor=\"middle\" x=\"63\" y=\"-86.3\">7.0</text>\n</g>\n<!-- &#45;&#45;&#45;0&#45;&#45;&#45;1&#45;&gt;&#45;&#45;&#45;0&#45;&#45;&#45;3 -->\n<g class=\"edge\" id=\"edge4\">\n<title>---0---1-&gt;---0---3</title>\n<path d=\"M120.8744,-147.0816C110.6655,-137.0125 97.0122,-123.5463 85.5307,-112.2221\" fill=\"none\" stroke=\"#000000\"/>\n<polygon fill=\"#000000\" points=\"87.9349,-109.6773 78.3574,-105.147 83.0194,-114.6611 87.9349,-109.6773\" stroke=\"#000000\"/>\n</g>\n<!-- &#45;&#45;&#45;0&#45;&#45;&#45;4 -->\n<g class=\"node\" id=\"node6\">\n<title>---0---4</title>\n<ellipse cx=\"136\" cy=\"-90\" fill=\"none\" rx=\"27.8951\" ry=\"18\" stroke=\"#000000\"/>\n<text fill=\"#000000\" font-family=\"Times,serif\" font-size=\"14.00\" text-anchor=\"middle\" x=\"136\" y=\"-86.3\">10.0</text>\n</g>\n<!-- &#45;&#45;&#45;0&#45;&#45;&#45;1&#45;&gt;&#45;&#45;&#45;0&#45;&#45;&#45;4 -->\n<g class=\"edge\" id=\"edge5\">\n<title>---0---1-&gt;---0---4</title>\n<path d=\"M136,-143.8314C136,-136.131 136,-126.9743 136,-118.4166\" fill=\"none\" stroke=\"#000000\"/>\n<polygon fill=\"#000000\" points=\"139.5001,-118.4132 136,-108.4133 132.5001,-118.4133 139.5001,-118.4132\" stroke=\"#000000\"/>\n</g>\n<!-- &#45;&#45;&#45;0&#45;&#45;&#45;5 -->\n<g class=\"node\" id=\"node7\">\n<title>---0---5</title>\n<ellipse cx=\"209\" cy=\"-90\" fill=\"none\" rx=\"27\" ry=\"18\" stroke=\"#000000\"/>\n<text fill=\"#000000\" font-family=\"Times,serif\" font-size=\"14.00\" text-anchor=\"middle\" x=\"209\" y=\"-86.3\">2.0</text>\n</g>\n<!-- &#45;&#45;&#45;0&#45;&#45;&#45;2&#45;&gt;&#45;&#45;&#45;0&#45;&#45;&#45;5 -->\n<g class=\"edge\" id=\"edge6\">\n<title>---0---2-&gt;---0---5</title>\n<path d=\"M209,-143.8314C209,-136.131 209,-126.9743 209,-118.4166\" fill=\"none\" stroke=\"#000000\"/>\n<polygon fill=\"#000000\" points=\"212.5001,-118.4132 209,-108.4133 205.5001,-118.4133 212.5001,-118.4132\" stroke=\"#000000\"/>\n</g>\n<!-- &#45;&#45;&#45;0&#45;&#45;&#45;6 -->\n<g class=\"node\" id=\"node8\">\n<title>---0---6</title>\n<ellipse cx=\"281\" cy=\"-90\" fill=\"none\" rx=\"27\" ry=\"18\" stroke=\"#000000\"/>\n<text fill=\"#000000\" font-family=\"Times,serif\" font-size=\"14.00\" text-anchor=\"middle\" x=\"281\" y=\"-86.3\">5.0</text>\n</g>\n<!-- &#45;&#45;&#45;0&#45;&#45;&#45;2&#45;&gt;&#45;&#45;&#45;0&#45;&#45;&#45;6 -->\n<g class=\"edge\" id=\"edge7\">\n<title>---0---2-&gt;---0---6</title>\n<path d=\"M224.2693,-146.7307C234.197,-136.803 247.3153,-123.6847 258.4363,-112.5637\" fill=\"none\" stroke=\"#000000\"/>\n<polygon fill=\"#000000\" points=\"261.1564,-114.7933 265.7527,-105.2473 256.2067,-109.8436 261.1564,-114.7933\" stroke=\"#000000\"/>\n</g>\n<!-- &#45;&#45;&#45;0&#45;&#45;&#45;7 -->\n<g class=\"node\" id=\"node9\">\n<title>---0---7</title>\n<ellipse cx=\"27\" cy=\"-18\" fill=\"none\" rx=\"27\" ry=\"18\" stroke=\"#000000\"/>\n<text fill=\"#000000\" font-family=\"Times,serif\" font-size=\"14.00\" text-anchor=\"middle\" x=\"27\" y=\"-14.3\">1.0</text>\n</g>\n<!-- &#45;&#45;&#45;0&#45;&#45;&#45;3&#45;&gt;&#45;&#45;&#45;0&#45;&#45;&#45;7 -->\n<g class=\"edge\" id=\"edge8\">\n<title>---0---3-&gt;---0---7</title>\n<path d=\"M54.2854,-72.5708C50.0403,-64.0807 44.8464,-53.6929 40.1337,-44.2674\" fill=\"none\" stroke=\"#000000\"/>\n<polygon fill=\"#000000\" points=\"43.237,-42.6477 35.6343,-35.2687 36.976,-45.7782 43.237,-42.6477\" stroke=\"#000000\"/>\n</g>\n<!-- &#45;&#45;&#45;0&#45;&#45;&#45;8 -->\n<g class=\"node\" id=\"node10\">\n<title>---0---8</title>\n<ellipse cx=\"99\" cy=\"-18\" fill=\"none\" rx=\"27\" ry=\"18\" stroke=\"#000000\"/>\n<text fill=\"#000000\" font-family=\"Times,serif\" font-size=\"14.00\" text-anchor=\"middle\" x=\"99\" y=\"-14.3\">4.0</text>\n</g>\n<!-- &#45;&#45;&#45;0&#45;&#45;&#45;3&#45;&gt;&#45;&#45;&#45;0&#45;&#45;&#45;8 -->\n<g class=\"edge\" id=\"edge9\">\n<title>---0---3-&gt;---0---8</title>\n<path d=\"M71.7146,-72.5708C75.9597,-64.0807 81.1536,-53.6929 85.8663,-44.2674\" fill=\"none\" stroke=\"#000000\"/>\n<polygon fill=\"#000000\" points=\"89.024,-45.7782 90.3657,-35.2687 82.763,-42.6477 89.024,-45.7782\" stroke=\"#000000\"/>\n</g>\n<!-- &#39;&#45;&#45;&#45;1&#45;&#45;&#45;&#39; -->\n<g class=\"node\" id=\"node11\">\n<title>'---1---'</title>\n<ellipse cx=\"462\" cy=\"-306\" fill=\"none\" rx=\"27\" ry=\"18\" stroke=\"#000000\"/>\n<text fill=\"#000000\" font-family=\"Times,serif\" font-size=\"14.00\" text-anchor=\"middle\" x=\"462\" y=\"-302.3\">t=1</text>\n</g>\n<!-- &#45;&#45;&#45;1&#45;&#45;&#45;0 -->\n<g class=\"node\" id=\"node12\">\n<title>---1---0</title>\n<ellipse cx=\"462\" cy=\"-234\" fill=\"none\" rx=\"27\" ry=\"18\" stroke=\"#000000\"/>\n<text fill=\"#000000\" font-family=\"Times,serif\" font-size=\"14.00\" text-anchor=\"middle\" x=\"462\" y=\"-230.3\">9.0</text>\n</g>\n<!-- &#39;&#45;&#45;&#45;1&#45;&#45;&#45;&#39;&#45;&gt;&#45;&#45;&#45;1&#45;&#45;&#45;0 -->\n<g class=\"edge\" id=\"edge10\">\n<title>'---1---'-&gt;---1---0</title>\n<path d=\"M462,-287.8314C462,-280.131 462,-270.9743 462,-262.4166\" fill=\"none\" stroke=\"#000000\"/>\n<polygon fill=\"#000000\" points=\"465.5001,-262.4132 462,-252.4133 458.5001,-262.4133 465.5001,-262.4132\" stroke=\"#000000\"/>\n</g>\n<!-- &#45;&#45;&#45;1&#45;&#45;&#45;1 -->\n<g class=\"node\" id=\"node13\">\n<title>---1---1</title>\n<ellipse cx=\"425\" cy=\"-162\" fill=\"none\" rx=\"27.8951\" ry=\"18\" stroke=\"#000000\"/>\n<text fill=\"#000000\" font-family=\"Times,serif\" font-size=\"14.00\" text-anchor=\"middle\" x=\"425\" y=\"-158.3\">10.0</text>\n</g>\n<!-- &#45;&#45;&#45;1&#45;&#45;&#45;0&#45;&gt;&#45;&#45;&#45;1&#45;&#45;&#45;1 -->\n<g class=\"edge\" id=\"edge11\">\n<title>---1---0-&gt;---1---1</title>\n<path d=\"M453.2315,-216.937C448.8721,-208.4537 443.5047,-198.0092 438.6247,-188.513\" fill=\"none\" stroke=\"#000000\"/>\n<polygon fill=\"#000000\" points=\"441.6463,-186.7352 433.9626,-179.4407 435.4203,-189.9348 441.6463,-186.7352\" stroke=\"#000000\"/>\n</g>\n<!-- &#45;&#45;&#45;1&#45;&#45;&#45;2 -->\n<g class=\"node\" id=\"node14\">\n<title>---1---2</title>\n<ellipse cx=\"498\" cy=\"-162\" fill=\"none\" rx=\"27\" ry=\"18\" stroke=\"#000000\"/>\n<text fill=\"#000000\" font-family=\"Times,serif\" font-size=\"14.00\" text-anchor=\"middle\" x=\"498\" y=\"-158.3\">6.0</text>\n</g>\n<!-- &#45;&#45;&#45;1&#45;&#45;&#45;0&#45;&gt;&#45;&#45;&#45;1&#45;&#45;&#45;2 -->\n<g class=\"edge\" id=\"edge12\">\n<title>---1---0-&gt;---1---2</title>\n<path d=\"M470.7146,-216.5708C474.9597,-208.0807 480.1536,-197.6929 484.8663,-188.2674\" fill=\"none\" stroke=\"#000000\"/>\n<polygon fill=\"#000000\" points=\"488.024,-189.7782 489.3657,-179.2687 481.763,-186.6477 488.024,-189.7782\" stroke=\"#000000\"/>\n</g>\n<!-- &#45;&#45;&#45;1&#45;&#45;&#45;3 -->\n<g class=\"node\" id=\"node15\">\n<title>---1---3</title>\n<ellipse cx=\"353\" cy=\"-90\" fill=\"none\" rx=\"27\" ry=\"18\" stroke=\"#000000\"/>\n<text fill=\"#000000\" font-family=\"Times,serif\" font-size=\"14.00\" text-anchor=\"middle\" x=\"353\" y=\"-86.3\">7.0</text>\n</g>\n<!-- &#45;&#45;&#45;1&#45;&#45;&#45;1&#45;&gt;&#45;&#45;&#45;1&#45;&#45;&#45;3 -->\n<g class=\"edge\" id=\"edge13\">\n<title>---1---1-&gt;---1---3</title>\n<path d=\"M409.7307,-146.7307C399.803,-136.803 386.6847,-123.6847 375.5637,-112.5637\" fill=\"none\" stroke=\"#000000\"/>\n<polygon fill=\"#000000\" points=\"377.7933,-109.8436 368.2473,-105.2473 372.8436,-114.7933 377.7933,-109.8436\" stroke=\"#000000\"/>\n</g>\n<!-- &#45;&#45;&#45;1&#45;&#45;&#45;4 -->\n<g class=\"node\" id=\"node16\">\n<title>---1---4</title>\n<ellipse cx=\"425\" cy=\"-90\" fill=\"none\" rx=\"27\" ry=\"18\" stroke=\"#000000\"/>\n<text fill=\"#000000\" font-family=\"Times,serif\" font-size=\"14.00\" text-anchor=\"middle\" x=\"425\" y=\"-86.3\">8.0</text>\n</g>\n<!-- &#45;&#45;&#45;1&#45;&#45;&#45;1&#45;&gt;&#45;&#45;&#45;1&#45;&#45;&#45;4 -->\n<g class=\"edge\" id=\"edge14\">\n<title>---1---1-&gt;---1---4</title>\n<path d=\"M425,-143.8314C425,-136.131 425,-126.9743 425,-118.4166\" fill=\"none\" stroke=\"#000000\"/>\n<polygon fill=\"#000000\" points=\"428.5001,-118.4132 425,-108.4133 421.5001,-118.4133 428.5001,-118.4132\" stroke=\"#000000\"/>\n</g>\n<!-- &#45;&#45;&#45;1&#45;&#45;&#45;5 -->\n<g class=\"node\" id=\"node17\">\n<title>---1---5</title>\n<ellipse cx=\"497\" cy=\"-90\" fill=\"none\" rx=\"27\" ry=\"18\" stroke=\"#000000\"/>\n<text fill=\"#000000\" font-family=\"Times,serif\" font-size=\"14.00\" text-anchor=\"middle\" x=\"497\" y=\"-86.3\">2.0</text>\n</g>\n<!-- &#45;&#45;&#45;1&#45;&#45;&#45;2&#45;&gt;&#45;&#45;&#45;1&#45;&#45;&#45;5 -->\n<g class=\"edge\" id=\"edge15\">\n<title>---1---2-&gt;---1---5</title>\n<path d=\"M497.7477,-143.8314C497.6407,-136.131 497.5135,-126.9743 497.3947,-118.4166\" fill=\"none\" stroke=\"#000000\"/>\n<polygon fill=\"#000000\" points=\"500.8944,-118.3637 497.2557,-108.4133 493.8951,-118.4609 500.8944,-118.3637\" stroke=\"#000000\"/>\n</g>\n<!-- &#45;&#45;&#45;1&#45;&#45;&#45;6 -->\n<g class=\"node\" id=\"node18\">\n<title>---1---6</title>\n<ellipse cx=\"569\" cy=\"-90\" fill=\"none\" rx=\"27\" ry=\"18\" stroke=\"#000000\"/>\n<text fill=\"#000000\" font-family=\"Times,serif\" font-size=\"14.00\" text-anchor=\"middle\" x=\"569\" y=\"-86.3\">5.0</text>\n</g>\n<!-- &#45;&#45;&#45;1&#45;&#45;&#45;2&#45;&gt;&#45;&#45;&#45;1&#45;&#45;&#45;6 -->\n<g class=\"edge\" id=\"edge16\">\n<title>---1---2-&gt;---1---6</title>\n<path d=\"M513.0573,-146.7307C522.847,-136.803 535.7831,-123.6847 546.7497,-112.5637\" fill=\"none\" stroke=\"#000000\"/>\n<polygon fill=\"#000000\" points=\"549.4351,-114.8252 553.9644,-105.2473 544.4508,-109.9102 549.4351,-114.8252\" stroke=\"#000000\"/>\n</g>\n<!-- &#45;&#45;&#45;1&#45;&#45;&#45;7 -->\n<g class=\"node\" id=\"node19\">\n<title>---1---7</title>\n<ellipse cx=\"317\" cy=\"-18\" fill=\"none\" rx=\"27\" ry=\"18\" stroke=\"#000000\"/>\n<text fill=\"#000000\" font-family=\"Times,serif\" font-size=\"14.00\" text-anchor=\"middle\" x=\"317\" y=\"-14.3\">1.0</text>\n</g>\n<!-- &#45;&#45;&#45;1&#45;&#45;&#45;3&#45;&gt;&#45;&#45;&#45;1&#45;&#45;&#45;7 -->\n<g class=\"edge\" id=\"edge17\">\n<title>---1---3-&gt;---1---7</title>\n<path d=\"M344.2854,-72.5708C340.0403,-64.0807 334.8464,-53.6929 330.1337,-44.2674\" fill=\"none\" stroke=\"#000000\"/>\n<polygon fill=\"#000000\" points=\"333.237,-42.6477 325.6343,-35.2687 326.976,-45.7782 333.237,-42.6477\" stroke=\"#000000\"/>\n</g>\n<!-- &#45;&#45;&#45;1&#45;&#45;&#45;8 -->\n<g class=\"node\" id=\"node20\">\n<title>---1---8</title>\n<ellipse cx=\"389\" cy=\"-18\" fill=\"none\" rx=\"27\" ry=\"18\" stroke=\"#000000\"/>\n<text fill=\"#000000\" font-family=\"Times,serif\" font-size=\"14.00\" text-anchor=\"middle\" x=\"389\" y=\"-14.3\">4.0</text>\n</g>\n<!-- &#45;&#45;&#45;1&#45;&#45;&#45;3&#45;&gt;&#45;&#45;&#45;1&#45;&#45;&#45;8 -->\n<g class=\"edge\" id=\"edge18\">\n<title>---1---3-&gt;---1---8</title>\n<path d=\"M361.7146,-72.5708C365.9597,-64.0807 371.1536,-53.6929 375.8663,-44.2674\" fill=\"none\" stroke=\"#000000\"/>\n<polygon fill=\"#000000\" points=\"379.024,-45.7782 380.3657,-35.2687 372.763,-42.6477 379.024,-45.7782\" stroke=\"#000000\"/>\n</g>\n<!-- &#39;&#45;&#45;&#45;2&#45;&#45;&#45;&#39; -->\n<g class=\"node\" id=\"node21\">\n<title>'---2---'</title>\n<ellipse cx=\"749\" cy=\"-306\" fill=\"none\" rx=\"27\" ry=\"18\" stroke=\"#000000\"/>\n<text fill=\"#000000\" font-family=\"Times,serif\" font-size=\"14.00\" text-anchor=\"middle\" x=\"749\" y=\"-302.3\">t=2</text>\n</g>\n<!-- &#45;&#45;&#45;2&#45;&#45;&#45;0 -->\n<g class=\"node\" id=\"node22\">\n<title>---2---0</title>\n<ellipse cx=\"749\" cy=\"-234\" fill=\"none\" rx=\"27.8951\" ry=\"18\" stroke=\"#000000\"/>\n<text fill=\"#000000\" font-family=\"Times,serif\" font-size=\"14.00\" text-anchor=\"middle\" x=\"749\" y=\"-230.3\">10.0</text>\n</g>\n<!-- &#39;&#45;&#45;&#45;2&#45;&#45;&#45;&#39;&#45;&gt;&#45;&#45;&#45;2&#45;&#45;&#45;0 -->\n<g class=\"edge\" id=\"edge19\">\n<title>'---2---'-&gt;---2---0</title>\n<path d=\"M749,-287.8314C749,-280.131 749,-270.9743 749,-262.4166\" fill=\"none\" stroke=\"#000000\"/>\n<polygon fill=\"#000000\" points=\"752.5001,-262.4132 749,-252.4133 745.5001,-262.4133 752.5001,-262.4132\" stroke=\"#000000\"/>\n</g>\n<!-- &#45;&#45;&#45;2&#45;&#45;&#45;1 -->\n<g class=\"node\" id=\"node23\">\n<title>---2---1</title>\n<ellipse cx=\"713\" cy=\"-162\" fill=\"none\" rx=\"27\" ry=\"18\" stroke=\"#000000\"/>\n<text fill=\"#000000\" font-family=\"Times,serif\" font-size=\"14.00\" text-anchor=\"middle\" x=\"713\" y=\"-158.3\">9.0</text>\n</g>\n<!-- &#45;&#45;&#45;2&#45;&#45;&#45;0&#45;&gt;&#45;&#45;&#45;2&#45;&#45;&#45;1 -->\n<g class=\"edge\" id=\"edge20\">\n<title>---2---0-&gt;---2---1</title>\n<path d=\"M740.2854,-216.5708C736.0403,-208.0807 730.8464,-197.6929 726.1337,-188.2674\" fill=\"none\" stroke=\"#000000\"/>\n<polygon fill=\"#000000\" points=\"729.237,-186.6477 721.6343,-179.2687 722.976,-189.7782 729.237,-186.6477\" stroke=\"#000000\"/>\n</g>\n<!-- &#45;&#45;&#45;2&#45;&#45;&#45;2 -->\n<g class=\"node\" id=\"node24\">\n<title>---2---2</title>\n<ellipse cx=\"785\" cy=\"-162\" fill=\"none\" rx=\"27\" ry=\"18\" stroke=\"#000000\"/>\n<text fill=\"#000000\" font-family=\"Times,serif\" font-size=\"14.00\" text-anchor=\"middle\" x=\"785\" y=\"-158.3\">6.0</text>\n</g>\n<!-- &#45;&#45;&#45;2&#45;&#45;&#45;0&#45;&gt;&#45;&#45;&#45;2&#45;&#45;&#45;2 -->\n<g class=\"edge\" id=\"edge21\">\n<title>---2---0-&gt;---2---2</title>\n<path d=\"M757.7146,-216.5708C761.9597,-208.0807 767.1536,-197.6929 771.8663,-188.2674\" fill=\"none\" stroke=\"#000000\"/>\n<polygon fill=\"#000000\" points=\"775.024,-189.7782 776.3657,-179.2687 768.763,-186.6477 775.024,-189.7782\" stroke=\"#000000\"/>\n</g>\n<!-- &#45;&#45;&#45;2&#45;&#45;&#45;3 -->\n<g class=\"node\" id=\"node25\">\n<title>---2---3</title>\n<ellipse cx=\"641\" cy=\"-90\" fill=\"none\" rx=\"27\" ry=\"18\" stroke=\"#000000\"/>\n<text fill=\"#000000\" font-family=\"Times,serif\" font-size=\"14.00\" text-anchor=\"middle\" x=\"641\" y=\"-86.3\">7.0</text>\n</g>\n<!-- &#45;&#45;&#45;2&#45;&#45;&#45;1&#45;&gt;&#45;&#45;&#45;2&#45;&#45;&#45;3 -->\n<g class=\"edge\" id=\"edge22\">\n<title>---2---1-&gt;---2---3</title>\n<path d=\"M697.7307,-146.7307C687.803,-136.803 674.6847,-123.6847 663.5637,-112.5637\" fill=\"none\" stroke=\"#000000\"/>\n<polygon fill=\"#000000\" points=\"665.7933,-109.8436 656.2473,-105.2473 660.8436,-114.7933 665.7933,-109.8436\" stroke=\"#000000\"/>\n</g>\n<!-- &#45;&#45;&#45;2&#45;&#45;&#45;4 -->\n<g class=\"node\" id=\"node26\">\n<title>---2---4</title>\n<ellipse cx=\"713\" cy=\"-90\" fill=\"none\" rx=\"27\" ry=\"18\" stroke=\"#000000\"/>\n<text fill=\"#000000\" font-family=\"Times,serif\" font-size=\"14.00\" text-anchor=\"middle\" x=\"713\" y=\"-86.3\">8.0</text>\n</g>\n<!-- &#45;&#45;&#45;2&#45;&#45;&#45;1&#45;&gt;&#45;&#45;&#45;2&#45;&#45;&#45;4 -->\n<g class=\"edge\" id=\"edge23\">\n<title>---2---1-&gt;---2---4</title>\n<path d=\"M713,-143.8314C713,-136.131 713,-126.9743 713,-118.4166\" fill=\"none\" stroke=\"#000000\"/>\n<polygon fill=\"#000000\" points=\"716.5001,-118.4132 713,-108.4133 709.5001,-118.4133 716.5001,-118.4132\" stroke=\"#000000\"/>\n</g>\n<!-- &#45;&#45;&#45;2&#45;&#45;&#45;5 -->\n<g class=\"node\" id=\"node27\">\n<title>---2---5</title>\n<ellipse cx=\"785\" cy=\"-90\" fill=\"none\" rx=\"27\" ry=\"18\" stroke=\"#000000\"/>\n<text fill=\"#000000\" font-family=\"Times,serif\" font-size=\"14.00\" text-anchor=\"middle\" x=\"785\" y=\"-86.3\">2.0</text>\n</g>\n<!-- &#45;&#45;&#45;2&#45;&#45;&#45;2&#45;&gt;&#45;&#45;&#45;2&#45;&#45;&#45;5 -->\n<g class=\"edge\" id=\"edge24\">\n<title>---2---2-&gt;---2---5</title>\n<path d=\"M785,-143.8314C785,-136.131 785,-126.9743 785,-118.4166\" fill=\"none\" stroke=\"#000000\"/>\n<polygon fill=\"#000000\" points=\"788.5001,-118.4132 785,-108.4133 781.5001,-118.4133 788.5001,-118.4132\" stroke=\"#000000\"/>\n</g>\n<!-- &#45;&#45;&#45;2&#45;&#45;&#45;6 -->\n<g class=\"node\" id=\"node28\">\n<title>---2---6</title>\n<ellipse cx=\"857\" cy=\"-90\" fill=\"none\" rx=\"27\" ry=\"18\" stroke=\"#000000\"/>\n<text fill=\"#000000\" font-family=\"Times,serif\" font-size=\"14.00\" text-anchor=\"middle\" x=\"857\" y=\"-86.3\">5.0</text>\n</g>\n<!-- &#45;&#45;&#45;2&#45;&#45;&#45;2&#45;&gt;&#45;&#45;&#45;2&#45;&#45;&#45;6 -->\n<g class=\"edge\" id=\"edge25\">\n<title>---2---2-&gt;---2---6</title>\n<path d=\"M800.2693,-146.7307C810.197,-136.803 823.3153,-123.6847 834.4363,-112.5637\" fill=\"none\" stroke=\"#000000\"/>\n<polygon fill=\"#000000\" points=\"837.1564,-114.7933 841.7527,-105.2473 832.2067,-109.8436 837.1564,-114.7933\" stroke=\"#000000\"/>\n</g>\n<!-- &#45;&#45;&#45;2&#45;&#45;&#45;7 -->\n<g class=\"node\" id=\"node29\">\n<title>---2---7</title>\n<ellipse cx=\"605\" cy=\"-18\" fill=\"none\" rx=\"27\" ry=\"18\" stroke=\"#000000\"/>\n<text fill=\"#000000\" font-family=\"Times,serif\" font-size=\"14.00\" text-anchor=\"middle\" x=\"605\" y=\"-14.3\">1.0</text>\n</g>\n<!-- &#45;&#45;&#45;2&#45;&#45;&#45;3&#45;&gt;&#45;&#45;&#45;2&#45;&#45;&#45;7 -->\n<g class=\"edge\" id=\"edge26\">\n<title>---2---3-&gt;---2---7</title>\n<path d=\"M632.2854,-72.5708C628.0403,-64.0807 622.8464,-53.6929 618.1337,-44.2674\" fill=\"none\" stroke=\"#000000\"/>\n<polygon fill=\"#000000\" points=\"621.237,-42.6477 613.6343,-35.2687 614.976,-45.7782 621.237,-42.6477\" stroke=\"#000000\"/>\n</g>\n<!-- &#45;&#45;&#45;2&#45;&#45;&#45;8 -->\n<g class=\"node\" id=\"node30\">\n<title>---2---8</title>\n<ellipse cx=\"677\" cy=\"-18\" fill=\"none\" rx=\"27\" ry=\"18\" stroke=\"#000000\"/>\n<text fill=\"#000000\" font-family=\"Times,serif\" font-size=\"14.00\" text-anchor=\"middle\" x=\"677\" y=\"-14.3\">4.0</text>\n</g>\n<!-- &#45;&#45;&#45;2&#45;&#45;&#45;3&#45;&gt;&#45;&#45;&#45;2&#45;&#45;&#45;8 -->\n<g class=\"edge\" id=\"edge27\">\n<title>---2---3-&gt;---2---8</title>\n<path d=\"M649.7146,-72.5708C653.9597,-64.0807 659.1536,-53.6929 663.8663,-44.2674\" fill=\"none\" stroke=\"#000000\"/>\n<polygon fill=\"#000000\" points=\"667.024,-45.7782 668.3657,-35.2687 660.763,-42.6477 667.024,-45.7782\" stroke=\"#000000\"/>\n</g>\n<!-- &#39;&#45;&#45;&#45;3&#45;&#45;&#45;&#39; -->\n<g class=\"node\" id=\"node31\">\n<title>'---3---'</title>\n<ellipse cx=\"1037\" cy=\"-306\" fill=\"none\" rx=\"27\" ry=\"18\" stroke=\"#000000\"/>\n<text fill=\"#000000\" font-family=\"Times,serif\" font-size=\"14.00\" text-anchor=\"middle\" x=\"1037\" y=\"-302.3\">t=3</text>\n</g>\n<!-- &#45;&#45;&#45;3&#45;&#45;&#45;0 -->\n<g class=\"node\" id=\"node32\">\n<title>---3---0</title>\n<ellipse cx=\"1037\" cy=\"-234\" fill=\"none\" rx=\"27.8951\" ry=\"18\" stroke=\"#000000\"/>\n<text fill=\"#000000\" font-family=\"Times,serif\" font-size=\"14.00\" text-anchor=\"middle\" x=\"1037\" y=\"-230.3\">10.0</text>\n</g>\n<!-- &#39;&#45;&#45;&#45;3&#45;&#45;&#45;&#39;&#45;&gt;&#45;&#45;&#45;3&#45;&#45;&#45;0 -->\n<g class=\"edge\" id=\"edge28\">\n<title>'---3---'-&gt;---3---0</title>\n<path d=\"M1037,-287.8314C1037,-280.131 1037,-270.9743 1037,-262.4166\" fill=\"none\" stroke=\"#000000\"/>\n<polygon fill=\"#000000\" points=\"1040.5001,-262.4132 1037,-252.4133 1033.5001,-262.4133 1040.5001,-262.4132\" stroke=\"#000000\"/>\n</g>\n<!-- &#45;&#45;&#45;3&#45;&#45;&#45;1 -->\n<g class=\"node\" id=\"node33\">\n<title>---3---1</title>\n<ellipse cx=\"1001\" cy=\"-162\" fill=\"none\" rx=\"27\" ry=\"18\" stroke=\"#000000\"/>\n<text fill=\"#000000\" font-family=\"Times,serif\" font-size=\"14.00\" text-anchor=\"middle\" x=\"1001\" y=\"-158.3\">9.0</text>\n</g>\n<!-- &#45;&#45;&#45;3&#45;&#45;&#45;0&#45;&gt;&#45;&#45;&#45;3&#45;&#45;&#45;1 -->\n<g class=\"edge\" id=\"edge29\">\n<title>---3---0-&gt;---3---1</title>\n<path d=\"M1028.2854,-216.5708C1024.0403,-208.0807 1018.8464,-197.6929 1014.1337,-188.2674\" fill=\"none\" stroke=\"#000000\"/>\n<polygon fill=\"#000000\" points=\"1017.237,-186.6477 1009.6343,-179.2687 1010.976,-189.7782 1017.237,-186.6477\" stroke=\"#000000\"/>\n</g>\n<!-- &#45;&#45;&#45;3&#45;&#45;&#45;2 -->\n<g class=\"node\" id=\"node34\">\n<title>---3---2</title>\n<ellipse cx=\"1073\" cy=\"-162\" fill=\"none\" rx=\"27\" ry=\"18\" stroke=\"#000000\"/>\n<text fill=\"#000000\" font-family=\"Times,serif\" font-size=\"14.00\" text-anchor=\"middle\" x=\"1073\" y=\"-158.3\">6.0</text>\n</g>\n<!-- &#45;&#45;&#45;3&#45;&#45;&#45;0&#45;&gt;&#45;&#45;&#45;3&#45;&#45;&#45;2 -->\n<g class=\"edge\" id=\"edge30\">\n<title>---3---0-&gt;---3---2</title>\n<path d=\"M1045.7146,-216.5708C1049.9597,-208.0807 1055.1536,-197.6929 1059.8663,-188.2674\" fill=\"none\" stroke=\"#000000\"/>\n<polygon fill=\"#000000\" points=\"1063.024,-189.7782 1064.3657,-179.2687 1056.763,-186.6477 1063.024,-189.7782\" stroke=\"#000000\"/>\n</g>\n<!-- &#45;&#45;&#45;3&#45;&#45;&#45;3 -->\n<g class=\"node\" id=\"node35\">\n<title>---3---3</title>\n<ellipse cx=\"929\" cy=\"-90\" fill=\"none\" rx=\"27\" ry=\"18\" stroke=\"#000000\"/>\n<text fill=\"#000000\" font-family=\"Times,serif\" font-size=\"14.00\" text-anchor=\"middle\" x=\"929\" y=\"-86.3\">7.0</text>\n</g>\n<!-- &#45;&#45;&#45;3&#45;&#45;&#45;1&#45;&gt;&#45;&#45;&#45;3&#45;&#45;&#45;3 -->\n<g class=\"edge\" id=\"edge31\">\n<title>---3---1-&gt;---3---3</title>\n<path d=\"M985.7307,-146.7307C975.803,-136.803 962.6847,-123.6847 951.5637,-112.5637\" fill=\"none\" stroke=\"#000000\"/>\n<polygon fill=\"#000000\" points=\"953.7933,-109.8436 944.2473,-105.2473 948.8436,-114.7933 953.7933,-109.8436\" stroke=\"#000000\"/>\n</g>\n<!-- &#45;&#45;&#45;3&#45;&#45;&#45;4 -->\n<g class=\"node\" id=\"node36\">\n<title>---3---4</title>\n<ellipse cx=\"1001\" cy=\"-90\" fill=\"none\" rx=\"27\" ry=\"18\" stroke=\"#000000\"/>\n<text fill=\"#000000\" font-family=\"Times,serif\" font-size=\"14.00\" text-anchor=\"middle\" x=\"1001\" y=\"-86.3\">8.0</text>\n</g>\n<!-- &#45;&#45;&#45;3&#45;&#45;&#45;1&#45;&gt;&#45;&#45;&#45;3&#45;&#45;&#45;4 -->\n<g class=\"edge\" id=\"edge32\">\n<title>---3---1-&gt;---3---4</title>\n<path d=\"M1001,-143.8314C1001,-136.131 1001,-126.9743 1001,-118.4166\" fill=\"none\" stroke=\"#000000\"/>\n<polygon fill=\"#000000\" points=\"1004.5001,-118.4132 1001,-108.4133 997.5001,-118.4133 1004.5001,-118.4132\" stroke=\"#000000\"/>\n</g>\n<!-- &#45;&#45;&#45;3&#45;&#45;&#45;5 -->\n<g class=\"node\" id=\"node37\">\n<title>---3---5</title>\n<ellipse cx=\"1073\" cy=\"-90\" fill=\"none\" rx=\"27\" ry=\"18\" stroke=\"#000000\"/>\n<text fill=\"#000000\" font-family=\"Times,serif\" font-size=\"14.00\" text-anchor=\"middle\" x=\"1073\" y=\"-86.3\">2.0</text>\n</g>\n<!-- &#45;&#45;&#45;3&#45;&#45;&#45;2&#45;&gt;&#45;&#45;&#45;3&#45;&#45;&#45;5 -->\n<g class=\"edge\" id=\"edge33\">\n<title>---3---2-&gt;---3---5</title>\n<path d=\"M1073,-143.8314C1073,-136.131 1073,-126.9743 1073,-118.4166\" fill=\"none\" stroke=\"#000000\"/>\n<polygon fill=\"#000000\" points=\"1076.5001,-118.4132 1073,-108.4133 1069.5001,-118.4133 1076.5001,-118.4132\" stroke=\"#000000\"/>\n</g>\n<!-- &#45;&#45;&#45;3&#45;&#45;&#45;6 -->\n<g class=\"node\" id=\"node38\">\n<title>---3---6</title>\n<ellipse cx=\"1145\" cy=\"-90\" fill=\"none\" rx=\"27\" ry=\"18\" stroke=\"#000000\"/>\n<text fill=\"#000000\" font-family=\"Times,serif\" font-size=\"14.00\" text-anchor=\"middle\" x=\"1145\" y=\"-86.3\">5.0</text>\n</g>\n<!-- &#45;&#45;&#45;3&#45;&#45;&#45;2&#45;&gt;&#45;&#45;&#45;3&#45;&#45;&#45;6 -->\n<g class=\"edge\" id=\"edge34\">\n<title>---3---2-&gt;---3---6</title>\n<path d=\"M1088.2693,-146.7307C1098.197,-136.803 1111.3153,-123.6847 1122.4363,-112.5637\" fill=\"none\" stroke=\"#000000\"/>\n<polygon fill=\"#000000\" points=\"1125.1564,-114.7933 1129.7527,-105.2473 1120.2067,-109.8436 1125.1564,-114.7933\" stroke=\"#000000\"/>\n</g>\n<!-- &#45;&#45;&#45;3&#45;&#45;&#45;7 -->\n<g class=\"node\" id=\"node39\">\n<title>---3---7</title>\n<ellipse cx=\"857\" cy=\"-18\" fill=\"none\" rx=\"27\" ry=\"18\" stroke=\"#000000\"/>\n<text fill=\"#000000\" font-family=\"Times,serif\" font-size=\"14.00\" text-anchor=\"middle\" x=\"857\" y=\"-14.3\">1.0</text>\n</g>\n<!-- &#45;&#45;&#45;3&#45;&#45;&#45;3&#45;&gt;&#45;&#45;&#45;3&#45;&#45;&#45;7 -->\n<g class=\"edge\" id=\"edge35\">\n<title>---3---3-&gt;---3---7</title>\n<path d=\"M913.7307,-74.7307C903.803,-64.803 890.6847,-51.6847 879.5637,-40.5637\" fill=\"none\" stroke=\"#000000\"/>\n<polygon fill=\"#000000\" points=\"881.7933,-37.8436 872.2473,-33.2473 876.8436,-42.7933 881.7933,-37.8436\" stroke=\"#000000\"/>\n</g>\n<!-- &#45;&#45;&#45;3&#45;&#45;&#45;8 -->\n<g class=\"node\" id=\"node40\">\n<title>---3---8</title>\n<ellipse cx=\"929\" cy=\"-18\" fill=\"none\" rx=\"27\" ry=\"18\" stroke=\"#000000\"/>\n<text fill=\"#000000\" font-family=\"Times,serif\" font-size=\"14.00\" text-anchor=\"middle\" x=\"929\" y=\"-14.3\">4.0</text>\n</g>\n<!-- &#45;&#45;&#45;3&#45;&#45;&#45;3&#45;&gt;&#45;&#45;&#45;3&#45;&#45;&#45;8 -->\n<g class=\"edge\" id=\"edge36\">\n<title>---3---3-&gt;---3---8</title>\n<path d=\"M929,-71.8314C929,-64.131 929,-54.9743 929,-46.4166\" fill=\"none\" stroke=\"#000000\"/>\n<polygon fill=\"#000000\" points=\"932.5001,-46.4132 929,-36.4133 925.5001,-46.4133 932.5001,-46.4132\" stroke=\"#000000\"/>\n</g>\n<!-- &#45;&#45;&#45;3&#45;&#45;&#45;9 -->\n<g class=\"node\" id=\"node41\">\n<title>---3---9</title>\n<ellipse cx=\"1001\" cy=\"-18\" fill=\"none\" rx=\"27\" ry=\"18\" stroke=\"#000000\"/>\n<text fill=\"#000000\" font-family=\"Times,serif\" font-size=\"14.00\" text-anchor=\"middle\" x=\"1001\" y=\"-14.3\">3.0</text>\n</g>\n<!-- &#45;&#45;&#45;3&#45;&#45;&#45;4&#45;&gt;&#45;&#45;&#45;3&#45;&#45;&#45;9 -->\n<g class=\"edge\" id=\"edge37\">\n<title>---3---4-&gt;---3---9</title>\n<path d=\"M1001,-71.8314C1001,-64.131 1001,-54.9743 1001,-46.4166\" fill=\"none\" stroke=\"#000000\"/>\n<polygon fill=\"#000000\" points=\"1004.5001,-46.4132 1001,-36.4133 997.5001,-46.4133 1004.5001,-46.4132\" stroke=\"#000000\"/>\n</g>\n</g>\n</svg>"
          },
          "metadata": {},
          "execution_count": 194
        }
      ]
    }
  ],
  "metadata": {
    "colab": {
      "collapsed_sections": [
        "BuF6DZfCmrdc",
        "O4i8c_7Tmtjr"
      ],
      "provenance": []
    },
    "kernelspec": {
      "display_name": "Python 3",
      "language": "python",
      "name": "python3"
    },
    "language_info": {
      "codemirror_mode": {
        "name": "ipython",
        "version": 3
      },
      "file_extension": ".py",
      "mimetype": "text/x-python",
      "name": "python",
      "nbconvert_exporter": "python",
      "pygments_lexer": "ipython3",
      "version": "3.8.8"
    }
  },
  "nbformat": 4,
  "nbformat_minor": 0
}