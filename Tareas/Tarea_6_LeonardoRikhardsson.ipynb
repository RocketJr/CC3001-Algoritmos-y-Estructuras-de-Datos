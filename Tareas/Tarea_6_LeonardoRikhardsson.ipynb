{
  "cells": [
    {
      "cell_type": "markdown",
      "metadata": {
        "id": "jbGTgr_lRz25"
      },
      "source": [
        "# CC3001 2022-2 - Tarea 6: Ordenación usando árboles de búsqueda -- Leonardo Rikhardsson"
      ]
    },
    {
      "cell_type": "markdown",
      "metadata": {
        "id": "shGWx5JEm7G0"
      },
      "source": [
        "\n",
        "## Profesores: Nelson Baloian, Jérémy Barbay, Benjamín Bustos, Patricio Poblete"
      ]
    },
    {
      "cell_type": "markdown",
      "source": [
        "Según las condiciones de su sección, pueden entregar un link a su tarea en `colab` o subir un archivo en el formato Jupyter NoteBook (`.ipynb`). Puede crear todas las funciones auxiliares que requiera para implementar las funciones solicitadas."
      ],
      "metadata": {
        "id": "p9PfvURTpvan"
      }
    },
    {
      "cell_type": "markdown",
      "source": [
        "# El Problema\n"
      ],
      "metadata": {
        "id": "JfNAzhuAxcHa"
      }
    },
    {
      "cell_type": "markdown",
      "metadata": {
        "id": "Airlyusam2BK"
      },
      "source": [
        "\n",
        "Se desea implementar y comparar métodos de ordenación, que reciban un arreglo y ordenen su contenido en orden ascendente.\n",
        "\n",
        "Estos métodos deben usar el siguiente enfoque:\n",
        "\n",
        "* Crear un árbol de búsqueda, inicialmente vacío\n",
        "* Insertar uno por uno todos los elementos del arreglo en al árbol\n",
        "* Recorrer el árbol en inorden para ir llenando el arreglo con los elementos ordenados\n",
        "\n",
        "Usted debe implementar dos métodos distintos de ordenación usando este esquema. La diferencia está en el tipo de árbol de búsqueda utilizado. Estos deben ser:\n",
        "\n",
        "1. Un árbol de búsqueda binaria, sin balance (ABB)\n",
        "1. Un árbol AVL\n",
        "\n",
        "A continuación, usted debe probar sus métodos con las datos que se le indicará."
      ]
    },
    {
      "cell_type": "markdown",
      "source": [
        "Aparte de los usos de funciones de `numpy` que aparecen en el código provisto en el enunciado, en esta tarea ustedes no tendrían necesidad de utilizar funciones de `numpy` o de otras librerías (pero se espera que utilicen código relevante de los apuntes del curso).\n"
      ],
      "metadata": {
        "id": "GT0cKnXQQp9e"
      }
    },
    {
      "cell_type": "markdown",
      "source": [
        "# Su solución"
      ],
      "metadata": {
        "id": "AWKuBJkGpk-6"
      }
    },
    {
      "cell_type": "code",
      "execution_count": null,
      "metadata": {
        "id": "7YrvXfpMxGx0"
      },
      "outputs": [],
      "source": [
        "import numpy as np\n",
        "\n",
        "class NodoiABB:\n",
        "    def __init__(self, izq, info, der):\n",
        "        self.izq=izq\n",
        "        self.info=info\n",
        "        self.der=der\n",
        "\n",
        "    def inordenABB(self):\n",
        "        yield from self.izq.inordenABB()\n",
        "        yield self\n",
        "        yield from self.der.inordenABB()\n",
        "\n",
        "    def insertABB(self,x):\n",
        "        assert x!=self.info\n",
        "        if x<self.info:\n",
        "            return NodoiABB(self.izq.insertABB(x),self.info,self.der)\n",
        "        else:\n",
        "            return NodoiABB(self.izq,self.info,self.der.insertABB(x))\n",
        "\n",
        "class NodoeABB:\n",
        "    def __init__(self):\n",
        "        pass\n",
        "\n",
        "    def inordenABB(self):\n",
        "        return\n",
        "        yield None # no se ejecuta, permite que la función sea un generator\n",
        "\n",
        "    def insertABB(self,x):\n",
        "        return NodoiABB(NodoeABB(),x,NodoeABB())\n",
        "\n",
        "\n",
        "class ArbolABB:\n",
        "    def __init__(self,raiz=NodoeABB()):\n",
        "        self.raiz=raiz\n",
        "\n",
        "    def inordenABB(self):\n",
        "        yield from self.raiz.inordenABB()\n",
        "\n",
        "    def insertABB(self,x):\n",
        "        self.raiz=self.raiz.insertABB(x)\n",
        "\n",
        "def ordena_ABB(a):\n",
        "    arbol = ArbolABB() # generamos una lista vacia/arbol vacio\n",
        "    for i in range(len(a)):\n",
        "      arbol.insertABB(a[i]) # insertamos cada valor en nuestro arbol\n",
        "      #for j in arbol.inordenABB():\n",
        "        #a[i] = j.info\n",
        "    return [j.info for j in arbol.inordenABB()] # nos retorna la nueva lista"
      ]
    },
    {
      "cell_type": "code",
      "source": [
        "class Nodoi:\n",
        "    def __init__(self, izq, info, der):\n",
        "        self.izq=izq\n",
        "        self.info=info\n",
        "        self.der=der\n",
        "        self.height=1+max(izq.height,der.height)\n",
        "\n",
        "    def inorden(self):\n",
        "        yield from self.izq.inorden()\n",
        "        yield self\n",
        "        yield from self.der.inorden()\n",
        "\n",
        "    def right_rotation(self):\n",
        "        return(Nodoi(self.izq.izq,\n",
        "                     self.izq.info,\n",
        "                     Nodoi(self.izq.der,self.info,self.der)))\n",
        "\n",
        "    def left_rotation(self):\n",
        "        return(Nodoi(Nodoi(self.izq,self.info,self.der.izq),\n",
        "                     self.der.info,\n",
        "                     self.der.der))\n",
        "\n",
        "    def insert(self,x):\n",
        "        assert x!=self.info\n",
        "        if x<self.info:\n",
        "            p=Nodoi(self.izq.insert(x),self.info,self.der)\n",
        "            if p.izq.height>p.der.height+1:\n",
        "                if x<p.izq.info: # inserción exterior\n",
        "                    p=p.right_rotation()\n",
        "                else: # inserción interior\n",
        "                    p=Nodoi(p.izq.left_rotation(),p.info,p.der).right_rotation()\n",
        "        else: # x>self.info, simétrico del anterior\n",
        "            p=Nodoi(self.izq,self.info,self.der.insert(x))\n",
        "            if p.der.height>p.izq.height+1:\n",
        "                if x>p.der.info: # inserción exterior\n",
        "                    p=p.left_rotation()\n",
        "                else: # inserción interior\n",
        "                    p=Nodoi(p.izq,p.info,p.der.right_rotation()).left_rotation()\n",
        "        return p\n",
        "\n",
        "class Nodoe:\n",
        "    def __init__(self):\n",
        "        self.height=0\n",
        "\n",
        "    def inorden(self):\n",
        "        return\n",
        "        yield None # no se ejecuta, permite que la función sea un generator\n",
        "\n",
        "    def insert(self,x):\n",
        "        return Nodoi(Nodoe(),x,Nodoe())\n",
        "\n",
        "class ArbolAVL:\n",
        "    def __init__(self,raiz=Nodoe()):\n",
        "        self.raiz=raiz\n",
        "\n",
        "    def inorden(self):\n",
        "        yield from self.raiz.inorden()\n",
        "\n",
        "    def insert(self,x):\n",
        "        self.raiz=self.raiz.insert(x)\n",
        "\n",
        "def ordena_AVL(a):\n",
        "    arbol = ArbolAVL() # generamos una lista vacia/arbol vacio\n",
        "    for i in range(len(a)):\n",
        "      arbol.insert(a[i]) # insertamos cada valor en nuestro arbol\n",
        "      #for j in arbol.inorden():\n",
        "        #a[i] = j.info\n",
        "    return [j.info for j in arbol.inorden()] # nos retorna la nueva lista"
      ],
      "metadata": {
        "id": "KmxurePAx-gG"
      },
      "execution_count": null,
      "outputs": []
    },
    {
      "cell_type": "markdown",
      "metadata": {
        "id": "p9-KLukDmmpM"
      },
      "source": [
        "# Pruebas\n",
        "\n",
        "En primer lugar, hay que verificar que sus métodos ordenen correctamente."
      ]
    },
    {
      "cell_type": "code",
      "execution_count": null,
      "metadata": {
        "id": "jLLDlSKPmmpM",
        "outputId": "b7427055-eba9-4171-d0ea-f7b78fe469a5",
        "colab": {
          "base_uri": "https://localhost:8080/"
        }
      },
      "outputs": [
        {
          "output_type": "stream",
          "name": "stdout",
          "text": [
            "Probando ordena_ABB:\n",
            "[0.48645347 0.68743612 0.46434489 0.65009412 0.43054375 0.23622561\n",
            " 0.98205664 0.47794757 0.78179044 0.47766155 0.41654136 0.70134451]\n",
            "Antes: Desordenado\n",
            "[0.23622560575840212, 0.4165413570500711, 0.43054374808605356, 0.4643448856107324, 0.4776615532897165, 0.4779475718925662, 0.4864534689361877, 0.6500941221939059, 0.6874361171584193, 0.7013445075763588, 0.7817904438831286, 0.9820566443777312]\n",
            "Después: Ordenado\n",
            "\n",
            "Probando ordena_AVL:\n",
            "[0.66549285 0.26025042 0.67218667 0.92372957 0.98381167 0.17685484\n",
            " 0.57626477 0.68286896 0.23068269 0.84495265 0.21434496 0.9686487 ]\n",
            "Antes: Desordenado\n",
            "[0.17685484458958167, 0.2143449583601157, 0.2306826888353375, 0.2602504202874152, 0.5762647717154081, 0.6654928455950234, 0.6721866701232339, 0.6828689594142173, 0.8449526478706955, 0.9237295656843847, 0.96864869699612, 0.9838116685622521]\n",
            "Después: Ordenado\n"
          ]
        }
      ],
      "source": [
        "# Chequear que los métodos ordenan correctamente\n",
        "\n",
        "\n",
        "def chequea_orden(titulo,a):\n",
        "    print(titulo+\":\", \"Ordenado\" if np.all(a[:-1]<=a[1:]) else \"Desordenado\")\n",
        "\n",
        "print(\"Probando ordena_ABB:\")\n",
        "a = np.random.random(12)\n",
        "print(a)\n",
        "chequea_orden(\"Antes\",a)\n",
        "a = ordena_ABB(a)\n",
        "print(a)\n",
        "chequea_orden(\"Después\",a)\n",
        "\n",
        "print()\n",
        "\n",
        "print(\"Probando ordena_AVL:\")\n",
        "a = np.random.random(12)\n",
        "print(a)\n",
        "chequea_orden(\"Antes\",a)\n",
        "a = ordena_AVL(a)\n",
        "print(a)\n",
        "chequea_orden(\"Después\",a)"
      ]
    },
    {
      "cell_type": "markdown",
      "source": [
        "A continuación, hay que comparar la eficiencia de los métodos en dos escenarios:\n",
        "\n",
        "**Escenario 1:**  Ordenar un arreglo que venga inicialmente ordenado. Para esto genere un arreglo conteniendo los números del 1 al $n$, para $n=200$. En cada caso medir e imprimir el tiempo que demora la ordenación."
      ],
      "metadata": {
        "id": "p-V2ZyW5teRr"
      }
    },
    {
      "cell_type": "code",
      "source": [
        "import time\n",
        "n=200\n",
        "\n",
        "orig=np.array(range(n))\n",
        "\n",
        "a=np.array(orig)\n",
        "ti=time.time_ns()\n",
        "ordena_ABB(a)\n",
        "tf=time.time_ns()\n",
        "print(\"ordena_ABB:\",tf-ti)\n",
        "\n",
        "a=np.array(orig)\n",
        "ti=time.time_ns()\n",
        "ordena_AVL(a)\n",
        "tf=time.time_ns()\n",
        "print(\"ordena_AVL:\",tf-ti)"
      ],
      "metadata": {
        "id": "c2rjWiDDusyg",
        "colab": {
          "base_uri": "https://localhost:8080/"
        },
        "outputId": "bb036d58-d0c0-4bdf-da16-bb2e37f3e00c",
        "collapsed": true
      },
      "execution_count": null,
      "outputs": [
        {
          "output_type": "stream",
          "name": "stdout",
          "text": [
            "ordena_ABB: 25692782\n",
            "ordena_AVL: 2648191\n"
          ]
        }
      ]
    },
    {
      "cell_type": "markdown",
      "source": [
        "**Escenario 2:**  Ordenar un arreglo que contenga elementos aleatorios. Para esto genere un arreglo conteniendo $n$ número al azar, para $n=10$ mil. En cada caso medir e imprimir el tiempo que demora la ordenación. Tenemos cuidado de entregarle al método de ordenación una copia del arreglo, para que ambos puedan funcionar sobre exactamente los mismos datos."
      ],
      "metadata": {
        "id": "RJfkdMP1uz5d"
      }
    },
    {
      "cell_type": "code",
      "source": [
        "n=10000\n",
        "\n",
        "orig=np.random.random(n)\n",
        "\n",
        "a=np.array(orig)\n",
        "ti=time.time_ns()\n",
        "ordena_ABB(a)\n",
        "tf=time.time_ns()\n",
        "print(\"ordena_ABB:\",tf-ti)\n",
        "\n",
        "a=np.array(orig)\n",
        "ti=time.time_ns()\n",
        "ordena_AVL(a)\n",
        "tf=time.time_ns()\n",
        "print(\"ordena_AVL:\",tf-ti)"
      ],
      "metadata": {
        "id": "UVa5inUNvOt_",
        "colab": {
          "base_uri": "https://localhost:8080/"
        },
        "outputId": "ae5587a2-c2de-4832-c6ae-229635184510",
        "collapsed": true
      },
      "execution_count": null,
      "outputs": [
        {
          "output_type": "stream",
          "name": "stdout",
          "text": [
            "ordena_ABB: 226834074\n",
            "ordena_AVL: 516290539\n"
          ]
        }
      ]
    },
    {
      "cell_type": "markdown",
      "source": [
        "# Conclusiones\n",
        "\n",
        "*Compare los resultados obtenidos en ambos escenarios y discuta cuáles serían las causas de las diferencias observadas.*"
      ],
      "metadata": {
        "id": "K3irlmHiCHx7"
      }
    },
    {
      "cell_type": "markdown",
      "source": [
        "Por lo que se puede ver, el arreglo AVL es mucho mejor que el ABB y por mucho, cuando se quiere comparar arreglos relativamente largos. Pero no es el caso cuando se llega a \"Mega arreglos\" con ya mas de 10000 datos, siendo que el ABB es mas rapido, ya que para el arreglo AVL, con tantos datos, de igual forma estos deben ser rotados. Podemos decir que el arbol AVL tiene un maximo (Post data, estuve viendo agregando y eliminando ceros, y claro efecivamente hay un momento que AVL se demora mas que el ABB)(Tambien pude notar que para valores de 1000-4000 los valores son muy dispersos, tanto ABB como AVL son mas rapidos)"
      ],
      "metadata": {
        "id": "1E5TRPuIt73Z"
      }
    }
  ],
  "metadata": {
    "colab": {
      "provenance": []
    },
    "kernelspec": {
      "display_name": "Python 3 (ipykernel)",
      "language": "python",
      "name": "python3"
    },
    "language_info": {
      "codemirror_mode": {
        "name": "ipython",
        "version": 3
      },
      "file_extension": ".py",
      "mimetype": "text/x-python",
      "name": "python",
      "nbconvert_exporter": "python",
      "pygments_lexer": "ipython3",
      "version": "3.9.6"
    }
  },
  "nbformat": 4,
  "nbformat_minor": 0
}