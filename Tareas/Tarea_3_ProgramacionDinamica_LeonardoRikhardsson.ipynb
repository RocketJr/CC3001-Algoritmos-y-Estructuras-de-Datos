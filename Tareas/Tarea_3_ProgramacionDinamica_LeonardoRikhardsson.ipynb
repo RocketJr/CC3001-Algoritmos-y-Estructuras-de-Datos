{
  "cells": [
    {
      "cell_type": "markdown",
      "metadata": {
        "id": "jbGTgr_lRz25"
      },
      "source": [
        "# CC3001 2022-2 - Tarea 3: Programación Dinámica -- Leonardo Rikhardsson"
      ]
    },
    {
      "cell_type": "markdown",
      "metadata": {
        "id": "shGWx5JEm7G0"
      },
      "source": [
        "\n",
        "## Profesores: Nelson Baloian, Jérémy Barbay, Benjamín Bustos, Patricio Poblete"
      ]
    },
    {
      "cell_type": "markdown",
      "metadata": {
        "id": "Airlyusam2BK"
      },
      "source": [
        "Según las condiciones de su sección, pueden entregar un link a su tarea en `colab` o subir un archivo en el formato Jupyter NoteBook (`.ipynb`). Puede crear todas las funciones auxiliares que requiera para implementar las funciones solicitadas. Para programar las funciones debe usar los *array* de *numpy*. Los únicos métodos de los objetos de tipo *array* que puede utilizar en su solución son los siguientes:\n",
        "\n",
        "- El método *array* para crear un arreglo.\n",
        "- Los métodos *zeros*, *ones* y *full* para inicializar un *array*.\n",
        "\n",
        "No se puede utilizar ningún otro método disponible en módulos de Python.\n",
        "\n",
        "# El Problema\n",
        "\n",
        "Suponga que se tienen dos series de valores $A$ y $B$, representadas como arreglos, Por ejemplo:\n"
      ]
    },
    {
      "cell_type": "code",
      "execution_count": null,
      "metadata": {
        "id": "7YrvXfpMxGx0"
      },
      "outputs": [],
      "source": [
        "import math\n",
        "import numpy\n",
        "\n",
        "A = numpy.array([1, 1, 3, 5, 2])\n",
        "B = numpy.array([1, 2, 2, 5, 1])"
      ]
    },
    {
      "cell_type": "markdown",
      "metadata": {
        "id": "aScFMVsOSSo8"
      },
      "source": [
        "El problema a resolver es medir cuánto se parecen las series de valores. Si las series tienen el mismo largo, como en el ejemplo, una forma de medir su parecido es calculando la distancia Euclidiana entre ambas series:"
      ]
    },
    {
      "cell_type": "code",
      "execution_count": null,
      "metadata": {
        "id": "RLPWS0b-xGx1",
        "outputId": "50e085cd-19a7-41b9-9085-38017985ce43",
        "colab": {
          "base_uri": "https://localhost:8080/"
        }
      },
      "outputs": [
        {
          "output_type": "stream",
          "name": "stdout",
          "text": [
            "1.7320508075688772\n"
          ]
        }
      ],
      "source": [
        "def distanciaEuclidiana(serie1, serie2):\n",
        "    assert len(serie1) == len(serie2)\n",
        "    resultado = 0\n",
        "    for i in range(len(serie1)):\n",
        "        resultado += (serie1[i] - serie2[i]) ** 2\n",
        "    return math.sqrt(resultado)\n",
        "\n",
        "print(distanciaEuclidiana(A, B))"
      ]
    },
    {
      "cell_type": "markdown",
      "metadata": {
        "id": "e0MWEW0fxGx2"
      },
      "source": [
        "En el caso que el largo de las series de valores no sean iguales, no es posible calcular la distancia Euclidiana. Para resolver esto, se propone la siguiente fórmula recursiva para calcular la distancia entre las dos series de valores:\n",
        "\n",
        "- Sea una serie de valores $A$ de largo $i$ (denominada $A_i$) y una serie de valores $B$ de largo $j$ (denominada $B_j$).\n",
        "- Si las dos series de valores tienen largo cero, su distancia es 0.\n",
        "- Si una de las series de valores tiene largo 0, y la otra tiene largo estrictamente mayor que cero, su distancia es \"infinito\" (esto se puede representar con el valor *numpy.inf*)\n",
        "- Si no, la distancia entre las series $A_i$ y $B_j$ se define recursivamente como:\n",
        "\n",
        "$$ distancia(A_i, B_j) = costo(A_i, B_j) + \\min\\{ distancia(A_{i-1}, B_{j}),  distancia(A_{i}, B_{j-1}), distancia(A_{i-1}, B_{j-1})\\} $$\n",
        "\n",
        "La función $costo(A_i, B_j)$ devuelve un número que corresponde al cuadrado de la diferencia entre el $i$-ésimo valor de la serie $A$ y el $j$-ésimo valor de la serie $B$. *Nota*: Usted no debe editar la función de costo."
      ]
    },
    {
      "cell_type": "code",
      "execution_count": null,
      "metadata": {
        "id": "yJt3152-xGx3"
      },
      "outputs": [],
      "source": [
        "# costo: num num -> num\n",
        "def costo(x, y):\n",
        "    return (x - y) ** 2"
      ]
    },
    {
      "cell_type": "markdown",
      "metadata": {
        "id": "1wZ0yK7PxGx4"
      },
      "source": [
        "# Parte 1\n",
        "\n",
        "Implemente usando recursión el cálculo de la distancia entre dos series de valores."
      ]
    },
    {
      "cell_type": "code",
      "execution_count": null,
      "metadata": {
        "id": "X_B3t_3nxGx4",
        "colab": {
          "base_uri": "https://localhost:8080/"
        },
        "outputId": "7675fcc2-7662-4d9c-b054-45303e16bd64"
      },
      "outputs": [
        {
          "output_type": "stream",
          "name": "stdout",
          "text": [
            "Su codigo paso todos los tests!\n"
          ]
        }
      ],
      "source": [
        "# Solución\n",
        "\n",
        "import numpy\n",
        "\n",
        "def distanciaRecursiva(A, B):\n",
        "\n",
        "  return distanciaRecursivaAux(A,B,len(A),len(B))\n",
        "\n",
        "def distanciaRecursivaAux(A, B, i, j):\n",
        "    # Escriba aqui su codigo, puede crear funciones auxiliares si lo requiere\n",
        "    if i == 0 and j == 0:\n",
        "      return 0\n",
        "    elif (i == 0 and j > 0) or (j == 0 and i > 0):\n",
        "      return numpy.inf\n",
        "    else:\n",
        "      return costo(A[i-1], B[j-1]) + min(distanciaRecursivaAux(A, B, i-1, j),distanciaRecursivaAux(A, B, i, j-1),distanciaRecursivaAux(A, B, i-1, j-1))\n",
        "\n",
        "# Algunos tests que le pueden servir para probar su codigo\n",
        "A = numpy.array([1, 1, 2, 3, 2, 0])\n",
        "B = numpy.array([0, 1, 1, 2, 3, 2, 1])\n",
        "assert distanciaRecursiva(A, B) == 2\n",
        "A = numpy.array([1, 2, 3, 3, 4, 1])\n",
        "B = numpy.array([1, 1, 3, 4, 3, 1])\n",
        "assert distanciaRecursiva(A, B) == 2\n",
        "A = numpy.array([3, 1, 2, 2, 1])\n",
        "B = numpy.array([2, 0, 0, 3, 3, 1, 0])\n",
        "assert distanciaRecursiva(A, B) == 6\n",
        "A = numpy.array([1, 4, 5, 10, 9, 3, 2, 6, 8, 4])\n",
        "B = numpy.array([1, 7, 3, 4, 1, 10, 5, 4, 7, 4])\n",
        "assert distanciaRecursiva(A, B) == 37\n",
        "print('Su codigo paso todos los tests!')"
      ]
    },
    {
      "cell_type": "markdown",
      "source": [
        "# Parte 2\n",
        "\n",
        "Implemente usando la técnica de memoización el cálculo de la distancia entre dos series de valores, de forma de evitar que se repitan llamados recursivos. Puede usar como base su código implementado para la Parte 1."
      ],
      "metadata": {
        "id": "deR4Kiyf7kdK"
      }
    },
    {
      "cell_type": "code",
      "source": [
        "# Solución\n",
        "\n",
        "import numpy\n",
        "\n",
        "def distanciaMemoizacion(A, B):\n",
        "    # Escriba aqui su codigo, puede crear funciones auxiliares si lo requiere\n",
        "    i=len(A)\n",
        "    j=len(B)\n",
        "    memo = numpy.zeros((i+1,j+1),dtype=float)\n",
        "    def distanciaMemoizacionAux(A, B, i, j):\n",
        "      # Escriba aqui su codigo, puede crear funciones auxiliares si lo requiere\n",
        "      if i == 0 and j == 0:\n",
        "        memo[i,j] = 0\n",
        "      if (i == 0 and j > 0) or (j == 0 and i > 0):\n",
        "        memo[i,j] = numpy.inf\n",
        "      if i > 0 and j > 0 and memo[i,j] == 0:\n",
        "        memo[i,j] = costo(A[i-1], B[j-1]) + min(distanciaMemoizacionAux(A, B, i-1, j),distanciaMemoizacionAux(A, B, i, j-1),distanciaMemoizacionAux(A, B, i-1, j-1))\n",
        "      return memo[i,j]\n",
        "    return distanciaMemoizacionAux(A, B, i, j)\n",
        "\n",
        "# Algunos tests que le pueden servir para probar su codigo\n",
        "A = numpy.array([1, 1, 2, 3, 2, 0])\n",
        "B = numpy.array([0, 1, 1, 2, 3, 2, 1])\n",
        "assert distanciaMemoizacion(A, B) == 2\n",
        "A = numpy.array([1, 2, 3, 3, 4, 1])\n",
        "B = numpy.array([1, 1, 3, 4, 3, 1])\n",
        "assert distanciaMemoizacion(A, B) == 2\n",
        "A = numpy.array([3, 1, 2, 2, 1])\n",
        "B = numpy.array([2, 0, 0, 3, 3, 1, 0])\n",
        "assert distanciaMemoizacion(A, B) == 6\n",
        "A = numpy.array([1, 4, 5, 10, 9, 3, 2, 6, 8, 4])\n",
        "B = numpy.array([1, 7, 3, 4, 1, 10, 5, 4, 7, 4])\n",
        "assert distanciaMemoizacion(A, B) == 37\n",
        "print('Su codigo paso todos los tests!')"
      ],
      "metadata": {
        "colab": {
          "base_uri": "https://localhost:8080/"
        },
        "id": "qvpE-USZ0U4l",
        "outputId": "c48f56f9-739b-49ae-f705-30e7d3e1d05f"
      },
      "execution_count": null,
      "outputs": [
        {
          "output_type": "stream",
          "name": "stdout",
          "text": [
            "Su codigo paso todos los tests!\n"
          ]
        }
      ]
    },
    {
      "cell_type": "markdown",
      "metadata": {
        "id": "P4J_29VOxGx5"
      },
      "source": [
        "# Parte 3\n",
        "\n",
        "Implemente utilizando tabulación (Programación Dinámica) el cálculo de la distancia entre dos series de valores. Para esto, defina una matriz $C$ en donde vaya guardando los resultados a los subproblemas. *Sugerencia*: Inicialice la primera fila y la primera columna de la matriz $C$, y luego piense en cómo ir rellenando el resto de la matriz con los valores previamente calculados."
      ]
    },
    {
      "cell_type": "code",
      "source": [
        "# Solución\n",
        "\n",
        "import numpy\n",
        "\n",
        "def distanciaProgramacionDinamica(A, B):\n",
        "    # Escriba aqui su codigo, puede crear funciones auxiliares si lo requiere\n",
        "    m = len(A)\n",
        "    n = len(B)\n",
        "    D=numpy.zeros((m+1,n+1),dtype=float)\n",
        "    D[0,0] = 0 #Aunque no es necesario colocar D[0,0] = 0 como ya de por si\n",
        "               # me entrega 0 cuando ambas matrices son de largo 0\n",
        "    for i in range(1,m+1):\n",
        "      D[i,0] = numpy.inf #Caso cuando la matriz B es de largo 0\n",
        "    for j in range(1,n+1):\n",
        "      D[0,j] = numpy.inf #Caso cuando la matriz A es de largo 0\n",
        "    for i in range(1,m+1):\n",
        "      for j in range(1,n+1):\n",
        "          D[i,j] = costo(A[i-1],B[j-1]) + min(D[i-1,j],D[i,j-1],D[i-1,j-1])\n",
        "    return D[m,n]\n",
        "\n",
        "# Algunos tests que le pueden servir para probar su codigo\n",
        "A = numpy.array([1, 1, 2, 3, 2, 0])\n",
        "B = numpy.array([0, 1, 1, 2, 3, 2, 1])\n",
        "assert distanciaProgramacionDinamica(A, B) == 2\n",
        "A = numpy.array([1, 2, 3, 3, 4, 1])\n",
        "B = numpy.array([1, 1, 3, 4, 3, 1])\n",
        "assert distanciaProgramacionDinamica(A, B) == 2\n",
        "A = numpy.array([3, 1, 2, 2, 1])\n",
        "B = numpy.array([2, 0, 0, 3, 3, 1, 0])\n",
        "assert distanciaProgramacionDinamica(A, B) == 6\n",
        "A = numpy.array([1,4,5,10,9,3,2,6,8,4])\n",
        "B = numpy.array([1,7,3,4,1,10,5,4,7,4])\n",
        "assert distanciaProgramacionDinamica(A, B) == 37\n",
        "A = numpy.array([1,4,5,10,9,3,2,6,8,4,1,4,5,10,9,3,2,6,8,4])\n",
        "B = numpy.array([1,7,3,4,1,10,5,4,7,4,1,7,3,4,1,10,5,4,7,4])\n",
        "assert distanciaProgramacionDinamica(A, B) == 74\n",
        "print('Su codigo paso todos los tests!')"
      ],
      "metadata": {
        "colab": {
          "base_uri": "https://localhost:8080/"
        },
        "id": "Ks6UAlJHQSAZ",
        "outputId": "44e37648-7800-4152-f566-8c52fa2f3a08"
      },
      "execution_count": null,
      "outputs": [
        {
          "output_type": "stream",
          "name": "stdout",
          "text": [
            "Su codigo paso todos los tests!\n"
          ]
        }
      ]
    },
    {
      "cell_type": "markdown",
      "metadata": {
        "id": "92VRATL8xGx6"
      },
      "source": [
        "# Parte 4\n",
        "\n",
        "Pruebe cuánto tiempo demora cada una de las funciones implementados en calcular la distancia para series de valores. Para esto, el siguiente código mide el tiempo que demoran las tres funciones con series de valores $A$ y $B$ del mismo largo, con largo $n$ variando desde 1 hasta 10. Concluya sobre la eficiencia de las funciones implementadas a partir de los resultados obtenidos."
      ]
    },
    {
      "cell_type": "code",
      "execution_count": null,
      "metadata": {
        "id": "CjbvOJcRxGx6",
        "colab": {
          "base_uri": "https://localhost:8080/"
        },
        "outputId": "61716f07-c495-4432-c176-9dc1ce15fcb0"
      },
      "outputs": [
        {
          "output_type": "stream",
          "name": "stdout",
          "text": [
            "[6] [6]\n",
            "2.33 µs ± 84.6 ns per loop (mean ± std. dev. of 7 runs, 100000 loops each)\n",
            "8.44 µs ± 169 ns per loop (mean ± std. dev. of 7 runs, 100000 loops each)\n",
            "7.21 µs ± 142 ns per loop (mean ± std. dev. of 7 runs, 100000 loops each)\n",
            "[9 6] [8 5]\n",
            "17.5 µs ± 191 ns per loop (mean ± std. dev. of 7 runs, 100000 loops each)\n",
            "26.8 µs ± 894 ns per loop (mean ± std. dev. of 7 runs, 10000 loops each)\n",
            "21.9 µs ± 788 ns per loop (mean ± std. dev. of 7 runs, 10000 loops each)\n",
            "[6 4 3] [4 6 2]\n",
            "94.3 µs ± 1.95 µs per loop (mean ± std. dev. of 7 runs, 10000 loops each)\n",
            "59.2 µs ± 1.02 µs per loop (mean ± std. dev. of 7 runs, 10000 loops each)\n",
            "44.7 µs ± 799 ns per loop (mean ± std. dev. of 7 runs, 10000 loops each)\n",
            "[6 4 3 1] [5 4 6 1]\n",
            "508 µs ± 31.9 µs per loop (mean ± std. dev. of 7 runs, 1000 loops each)\n",
            "103 µs ± 3.02 µs per loop (mean ± std. dev. of 7 runs, 10000 loops each)\n",
            "76.3 µs ± 2.02 µs per loop (mean ± std. dev. of 7 runs, 10000 loops each)\n",
            "[5 1 9 7 5] [3 4 2 8 2]\n",
            "2.65 ms ± 63.6 µs per loop (mean ± std. dev. of 7 runs, 100 loops each)\n",
            "162 µs ± 2.83 µs per loop (mean ± std. dev. of 7 runs, 10000 loops each)\n",
            "116 µs ± 1.52 µs per loop (mean ± std. dev. of 7 runs, 10000 loops each)\n",
            "[4 7 5 2 2 8] [9 9 4 5 6 5]\n",
            "14.4 ms ± 256 µs per loop (mean ± std. dev. of 7 runs, 100 loops each)\n",
            "231 µs ± 7.18 µs per loop (mean ± std. dev. of 7 runs, 1000 loops each)\n",
            "167 µs ± 1.82 µs per loop (mean ± std. dev. of 7 runs, 10000 loops each)\n",
            "[2 3 7 3 2 3 8] [4 7 2 7 7 8 1]\n",
            "76.5 ms ± 916 µs per loop (mean ± std. dev. of 7 runs, 10 loops each)\n",
            "319 µs ± 11.2 µs per loop (mean ± std. dev. of 7 runs, 1000 loops each)\n",
            "225 µs ± 4.99 µs per loop (mean ± std. dev. of 7 runs, 1000 loops each)\n",
            "[6 9 5 4 1 3 1 3] [3 1 3 5 4 3 5 4]\n",
            "415 ms ± 9.54 ms per loop (mean ± std. dev. of 7 runs, 1 loop each)\n",
            "411 µs ± 9.45 µs per loop (mean ± std. dev. of 7 runs, 1000 loops each)\n",
            "447 µs ± 136 µs per loop (mean ± std. dev. of 7 runs, 1000 loops each)\n",
            "[9 3 7 2 6 7 8 8 1] [8 6 8 5 4 2 4 7 2]\n",
            "2.36 s ± 23.2 ms per loop (mean ± std. dev. of 7 runs, 1 loop each)\n",
            "521 µs ± 9.66 µs per loop (mean ± std. dev. of 7 runs, 1000 loops each)\n",
            "372 µs ± 6.93 µs per loop (mean ± std. dev. of 7 runs, 1000 loops each)\n",
            "[5 9 9 2 8 1 4 5 6 9] [4 6 9 5 8 1 1 3 3 6]\n",
            "13.1 s ± 55 ms per loop (mean ± std. dev. of 7 runs, 1 loop each)\n",
            "640 µs ± 13.7 µs per loop (mean ± std. dev. of 7 runs, 1000 loops each)\n",
            "454 µs ± 9.79 µs per loop (mean ± std. dev. of 7 runs, 1000 loops each)\n"
          ]
        }
      ],
      "source": [
        "for n in range(1,11):\n",
        "    A = numpy.random.randint(1,10,n)\n",
        "    B = numpy.random.randint(1,10,n)\n",
        "    print(A, B)\n",
        "    %timeit distanciaRecursiva(A,B)\n",
        "    %timeit distanciaMemoizacion(A,B)\n",
        "    %timeit distanciaProgramacionDinamica(A,B)"
      ]
    },
    {
      "cell_type": "markdown",
      "metadata": {
        "id": "KXcyKvl6xGx6"
      },
      "source": [
        "Conclusión sobre los resultados experimentales:\n",
        "\n",
        "Lo que podemos notar es que para matrices pequeñas de 1 o 2 valores, la distancia recursiva demoró menos que los otros dos métodos, pero a medida que las matrices aumentaban, la distancia recursiva era cada vez más lenta en procesar los datos, mientras que los de memoización y programación dinámica no tenían esa demora. Por lo que, para secuencias largas, será más conveniente utilizar programación dinámica."
      ]
    }
  ],
  "metadata": {
    "colab": {
      "provenance": []
    },
    "kernelspec": {
      "display_name": "Python 3",
      "language": "python",
      "name": "python3"
    },
    "language_info": {
      "codemirror_mode": {
        "name": "ipython",
        "version": 3
      },
      "file_extension": ".py",
      "mimetype": "text/x-python",
      "name": "python",
      "nbconvert_exporter": "python",
      "pygments_lexer": "ipython3",
      "version": "3.8.8"
    }
  },
  "nbformat": 4,
  "nbformat_minor": 0
}