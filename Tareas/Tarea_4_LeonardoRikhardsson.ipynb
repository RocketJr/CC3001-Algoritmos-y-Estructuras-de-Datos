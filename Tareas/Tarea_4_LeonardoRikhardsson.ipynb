{
  "cells": [
    {
      "cell_type": "markdown",
      "metadata": {
        "id": "jbGTgr_lRz25"
      },
      "source": [
        "# CC3001 2022-2 - Tarea 4: Matrices poco densas -- Leonardo Rikhardsson"
      ]
    },
    {
      "cell_type": "markdown",
      "metadata": {
        "id": "shGWx5JEm7G0"
      },
      "source": [
        "\n",
        "## Profesores: Nelson Baloian, Jérémy Barbay, Benjamín Bustos, Patricio Poblete"
      ]
    },
    {
      "cell_type": "markdown",
      "metadata": {
        "id": "Airlyusam2BK"
      },
      "source": [
        "Según las condiciones de su sección, pueden entregar un link a su tarea en `colab` o subir un archivo en el formato Jupyter NoteBook (`.ipynb`). Puede crear todas las funciones auxiliares que requiera para implementar las funciones solicitadas. Para programar las funciones debe usar los *array* de *numpy*. Los únicos métodos de los objetos de tipo *array* que puede utilizar en su solución son los siguientes:\n",
        "\n",
        "- El método *array* para crear un arreglo.\n",
        "- Los métodos *zeros*, *ones* y *full* para inicializar un *array*.\n",
        "\n",
        "No se puede utilizar ningún otro método disponible en módulos de Python.\n",
        "\n",
        "# El Problema\n",
        "\n",
        "Una matriz se define como \"poco densa\" cuando tiene pocos valores distintos de cero. En este caso, si se crea un arreglo de dos dimensiones para almacenar la matriz poco densa, se gastaría mucho espacio en memoria para guardar todos los valores en cero. Una forma alternativa para representar estas matrices poco densas que permite ahorrar memoria es la siguiente:\n",
        "\n",
        "- Suponga que la matriz poco densa es de tamaño $n \\times n$ y que se utiliza para guardar valores enteros positivos.\n",
        "- Se utiliza un arreglo de tamaño $n$ que almacena cada una de las filas de la matriz poco densa. Las filas en el arreglo están ordenadas por número de fila, es decir, en el índice $0$ del arreglo se almacena la primera fila de la matriz, en el índice $1$ del arreglo se almacena la segunda fila de la matriz, etc.\n",
        "- Cada casillero del arreglo almacena una referencia a una lista que contiene objetos con dos atributos: *columna*, que indica la columna correspondiente de la matriz, y *valor*, que contiene el valor almacenado en dicho casillero. La lista sólo contiene nodos para aquellos casilleros cuyo valor almacenado es distinto de cero.\n",
        "\n",
        "Con esta representación, el uso de memoria es proporcional al número de valores distintos de cero de la matriz poco densa.\n",
        "\n",
        "Considere la siguiente definición para los nodos de una lista:"
      ]
    },
    {
      "cell_type": "code",
      "execution_count": null,
      "metadata": {
        "id": "7YrvXfpMxGx0"
      },
      "outputs": [],
      "source": [
        "class Info:\n",
        "    def __init__(self, columna, valor):\n",
        "        self.columna = columna\n",
        "        self.valor = valor\n",
        "\n",
        "class Nodo:\n",
        "    def __init__(self, info, sgte=None):\n",
        "        self.info = info # objeto de la clase Info\n",
        "        self.sgte = sgte"
      ]
    },
    {
      "cell_type": "markdown",
      "metadata": {
        "id": "lAburh8eJEfa"
      },
      "source": [
        "# Parte 1\n",
        "\n",
        "Implemente la función *imprime*, que devuelve un String con los valores de la matriz (incluidos los casilleros con valor 0). Por ejemplo, si la matriz contiene los valores:\n",
        "\n",
        "$$\\begin{bmatrix} 0 & 0 & 1 \\\\ 20 & 0 & 1 \\\\ 7 & 0 & 0 \\end{bmatrix}$$\n",
        "\n",
        "la función *imprime* devuelve un String que al mostrarlo en la pantalla con *print* produce lo siguiente:\n",
        "\n",
        "[0 0 1]<br>\n",
        "[20 0 1]<br>\n",
        "[7 0 0]\n",
        "\n",
        "Es decir, en el String devuelto cada fila comienza con '[' y termina con ']', los valores se separan con un espacio en blanco, y cada fila termina con el caracter '\\n'."
      ]
    },
    {
      "cell_type": "code",
      "source": [
        "# Solución\n",
        "\n",
        "import numpy\n",
        "\n",
        "def imprime(matriz):\n",
        "  # Escriba aqui su codigo, puede crear funciones auxiliares si lo requiere\n",
        "  n=len(matriz)\n",
        "  string = \"\"\n",
        "  #Para comenzar cada array\n",
        "  for fila in matriz:\n",
        "    string += \"[\"\n",
        "    for size in range(0,n):\n",
        "      if fila is None:\n",
        "        #En el caso de que 0 sea el ultimo valor\n",
        "        if size == n-1:\n",
        "          string += \"0\"\n",
        "        #En el caso de que 0 no sea el ultimo valor\n",
        "        else:\n",
        "          string += \"0 \"\n",
        "      elif fila is not None:\n",
        "        #En el caso de que el valor sea el ultimo valor\n",
        "        if size == n-1:\n",
        "          string += str(fila.info.valor)\n",
        "          fila = fila.sgte\n",
        "        #En el caso de que el valor no sea el ultimo valor\n",
        "        elif fila.info.columna == size:\n",
        "          string += str(fila.info.valor) + \" \"\n",
        "          fila = fila.sgte\n",
        "        else:\n",
        "          #En el caso de que el valor sea 0\n",
        "          if size == n-1:\n",
        "            string += \"0\"\n",
        "          else:\n",
        "            string += \"0 \"\n",
        "    #Para terminar el array\n",
        "    string += \"]\\n\"\n",
        "  return string\n",
        "\n",
        "  # Algunos tests que le pueden servir para probar su codigo\n",
        "# matriz de 5 x 5\n",
        "fila0 = Nodo(Info(1, 42), Nodo(Info(3, 17), None))\n",
        "fila1 = Nodo(Info(2, 35), Nodo(Info(3, 12), None))\n",
        "fila2 = Nodo(Info(0, 1), Nodo(Info(4, 20), None))\n",
        "fila3 = None\n",
        "fila4 = Nodo(Info(1, 4), Nodo(Info(2, 8), Nodo(Info(4, 50), None)))\n",
        "matriz = numpy.array([fila0, fila1, fila2, fila3, fila4])\n",
        "texto = imprime(matriz)\n",
        "assert texto == '[0 42 0 17 0]\\n[0 0 35 12 0]\\n[1 0 0 0 20]\\n[0 0 0 0 0]\\n[0 4 8 0 50]\\n'\n",
        "print('Su codigo paso todos los tests!')\n",
        "print()\n",
        "print(texto)"
      ],
      "metadata": {
        "colab": {
          "base_uri": "https://localhost:8080/"
        },
        "id": "1EhBuTSUCMi0",
        "outputId": "b096c727-3ac8-4481-a3ee-c6e8f7936c6f"
      },
      "execution_count": null,
      "outputs": [
        {
          "output_type": "stream",
          "name": "stdout",
          "text": [
            "Su codigo paso todos los tests!\n",
            "\n",
            "[0 42 0 17 0]\n",
            "[0 0 35 12 0]\n",
            "[1 0 0 0 20]\n",
            "[0 0 0 0 0]\n",
            "[0 4 8 0 50]\n",
            "\n"
          ]
        }
      ]
    },
    {
      "cell_type": "markdown",
      "metadata": {
        "id": "1wZ0yK7PxGx4"
      },
      "source": [
        "# Parte 2\n",
        "\n",
        "Implemente la función *valor*, que devuelve el valor almacenado en el casillero $[i,j]$ de la matriz poco densa. Note que si el valor del casillero es 0 no se encuentra almacenado en la estructura de datos, pero la función en este caso debe devolver el 0. La función recibe una referencia a la matriz, y dos enteros con los índices de la fila y columna (valores entre $0$ y $n-1$ si la matriz es de tamaño $n \\times n$)."
      ]
    },
    {
      "cell_type": "code",
      "execution_count": null,
      "metadata": {
        "id": "X_B3t_3nxGx4",
        "outputId": "5c8ea1ac-d63c-46fe-ffba-c3e7add82867",
        "colab": {
          "base_uri": "https://localhost:8080/"
        }
      },
      "outputs": [
        {
          "output_type": "stream",
          "name": "stdout",
          "text": [
            "Su codigo paso todos los tests!\n"
          ]
        }
      ],
      "source": [
        "# Solución\n",
        "\n",
        "import numpy\n",
        "\n",
        "def valor(matriz, fila, columna):\n",
        "    # Escriba aqui su codigo, puede crear funciones auxiliares si lo requiere\n",
        "    if matriz[fila] is None:\n",
        "      return 0\n",
        "    else:\n",
        "      testo = matriz[fila]\n",
        "      while testo is not None:\n",
        "        if testo.info.columna == columna:\n",
        "          num = testo.info.valor\n",
        "          return num\n",
        "        testo = testo.sgte\n",
        "    #caso en que ninguna condicion anterior se cumpla\n",
        "    return 0\n",
        "\n",
        "# Algunos tests que le pueden servir para probar su codigo\n",
        "# matriz de 5 x 5\n",
        "fila0 = Nodo(Info(1, 42), Nodo(Info(3, 17), None))\n",
        "fila1 = Nodo(Info(2, 35), Nodo(Info(3, 12), None))\n",
        "fila2 = Nodo(Info(0, 1), Nodo(Info(4, 20), None))\n",
        "fila3 = None\n",
        "fila4 = Nodo(Info(1, 4), Nodo(Info(2, 8), Nodo(Info(4, 50), None)))\n",
        "matriz = numpy.array([fila0, fila1, fila2, fila3, fila4])\n",
        "assert valor(matriz, 2, 4) == 20\n",
        "assert valor(matriz, 3, 3) == 0\n",
        "assert valor(matriz, 0, 1) == 42\n",
        "assert valor(matriz, 4, 2) == 8\n",
        "assert valor(matriz, 4, 3) == 0\n",
        "print('Su codigo paso todos los tests!')\n",
        "#print(matriz[1].info.columna)"
      ]
    },
    {
      "cell_type": "markdown",
      "metadata": {
        "id": "IsAnyM9pxGx5"
      },
      "source": [
        "# Parte 3\n",
        "\n",
        "Implemente la función *asignar*, que permite asignar un valor al casillero $[i,j]$ de la matriz poco densa. Note que si el valor asignado es 0, se debe borrar dicho nodo de la lista correspondiente (si es que existe). La función recibe una referencia a la matriz, dos enteros con los índices de la fila y columna (valores entre $0$ y $n-1$ si la matriz es de tamaño $n \\times n$), y el valor a asignar al casillero."
      ]
    },
    {
      "cell_type": "code",
      "source": [
        "def asignar(matriz, fila, columna, valor):\n",
        "    # Escriba aqui su codigo, puede crear funciones auxiliares si lo requiere\n",
        "    n = len(matriz)\n",
        "    testo = matriz[fila]\n",
        "    if matriz[fila] is None:\n",
        "      if valor == 0:\n",
        "        return\n",
        "      else:\n",
        "        matriz[fila] = Nodo(Info(columna,valor),None)\n",
        "        return\n",
        "    else:\n",
        "      while matriz[fila] is not None:\n",
        "        if testo.info.columna == columna:\n",
        "          testo.info.valor = valor\n",
        "          return\n",
        "        elif testo.sgte is None:\n",
        "          testo.sgte = Nodo(Info(columna,valor),None)\n",
        "          return\n",
        "        else:\n",
        "          testo = testo.sgte\n",
        "\n",
        "\n",
        "# Algunos tests que le pueden servir para probar su codigo\n",
        "# matriz de 5 x 5\n",
        "matriz = numpy.array([None, None, None, None, None])\n",
        "asignar(matriz, 0, 1, 42)\n",
        "asignar(matriz, 0, 3, 17)\n",
        "asignar(matriz, 1, 2, 35)\n",
        "asignar(matriz, 1, 3, 12)\n",
        "asignar(matriz, 2, 0, 1)\n",
        "asignar(matriz, 2, 4, 20)\n",
        "asignar(matriz, 4, 1, 4)\n",
        "asignar(matriz, 4, 2, 8)\n",
        "asignar(matriz, 4, 4, 50)\n",
        "assert valor(matriz, 2, 4) == 20\n",
        "print(imprime(matriz))\n",
        "assert valor(matriz, 3, 3) == 0\n",
        "assert valor(matriz, 0, 1) == 42\n",
        "assert valor(matriz, 4, 2) == 8\n",
        "assert valor(matriz, 4, 3) == 0\n",
        "asignar(matriz, 4, 4, 0)\n",
        "print(imprime(matriz))\n",
        "assert valor(matriz, 4, 4) == 0\n",
        "print('Su codigo paso todos los tests!')"
      ],
      "metadata": {
        "colab": {
          "base_uri": "https://localhost:8080/"
        },
        "id": "9uWqINUmpYV3",
        "outputId": "60c65f93-a64e-4ed0-d874-a3323fe10ae3"
      },
      "execution_count": null,
      "outputs": [
        {
          "output_type": "stream",
          "name": "stdout",
          "text": [
            "[0 42 0 17 0]\n",
            "[0 0 35 12 0]\n",
            "[1 0 0 0 20]\n",
            "[0 0 0 0 0]\n",
            "[0 4 8 0 50]\n",
            "\n",
            "[0 42 0 17 0]\n",
            "[0 0 35 12 0]\n",
            "[1 0 0 0 20]\n",
            "[0 0 0 0 0]\n",
            "[0 4 8 0 0]\n",
            "\n",
            "Su codigo paso todos los tests!\n"
          ]
        }
      ]
    },
    {
      "cell_type": "markdown",
      "metadata": {
        "id": "P4J_29VOxGx5"
      },
      "source": [
        "# Parte 4\n",
        "\n",
        "Implemente la función *sumar*, que devuelve la matriz resultante de sumar dos matrices poco densas. La matriz resultante también se representa como matriz poco densa. Ambas matrices deben tener las mismas dimensiones para que la operación se pueda realizar. La función recibe como parámetro las referencias a las dos matrices."
      ]
    },
    {
      "cell_type": "code",
      "execution_count": null,
      "metadata": {
        "id": "2bVLKoskxGx5",
        "outputId": "0d2e8c62-a450-458d-8cea-37d14d1ce050",
        "colab": {
          "base_uri": "https://localhost:8080/"
        }
      },
      "outputs": [
        {
          "output_type": "stream",
          "name": "stdout",
          "text": [
            "[0 42 0 17 0]\n",
            "[0 0 35 12 0]\n",
            "[1 0 0 0 20]\n",
            "[0 0 0 0 0]\n",
            "[0 4 8 0 50]\n",
            "\n",
            "[0 1 0 1 0]\n",
            "[0 0 1 1 0]\n",
            "[1 0 0 0 1]\n",
            "[0 0 0 0 0]\n",
            "[0 1 1 0 1]\n",
            "\n",
            "[0 43 0 18 0]\n",
            "[0 0 36 13 0]\n",
            "[2 0 0 0 21]\n",
            "[0 0 0 0 0]\n",
            "[0 5 9 0 51]\n",
            "\n",
            "Su codigo paso todos los tests!\n"
          ]
        }
      ],
      "source": [
        "# Solución\n",
        "\n",
        "import numpy\n",
        "\n",
        "def sumar(matriz1, matriz2):\n",
        "    # Escriba aqui su codigo, puede crear funciones auxiliares si lo requiere\n",
        "    n = len(matriz1)\n",
        "    #Creamos una matriz nula para ir rellenandola con las sumas correspondientes\n",
        "    m = [None for z in range(n)]\n",
        "    for x in range(0,n):\n",
        "      for y in range(0,n):\n",
        "        asignar(m, x, y, valor(matriz1, x, y) + valor(matriz2, x, y))\n",
        "    return m\n",
        "\n",
        "\n",
        "# Algunos tests que le pueden servir para probar su codigo\n",
        "# matrices de 5 x 5\n",
        "matriz1 = numpy.array([None, None, None, None, None])\n",
        "asignar(matriz1, 0, 1, 42)\n",
        "asignar(matriz1, 0, 3, 17)\n",
        "asignar(matriz1, 1, 2, 35)\n",
        "asignar(matriz1, 1, 3, 12)\n",
        "asignar(matriz1, 2, 0, 1)\n",
        "asignar(matriz1, 2, 4, 20)\n",
        "asignar(matriz1, 4, 1, 4)\n",
        "asignar(matriz1, 4, 2, 8)\n",
        "asignar(matriz1, 4, 4, 50)\n",
        "matriz2 = numpy.array([None, None, None, None, None])\n",
        "asignar(matriz2, 0, 1, 1)\n",
        "asignar(matriz2, 0, 3, 1)\n",
        "asignar(matriz2, 1, 2, 1)\n",
        "asignar(matriz2, 1, 3, 1)\n",
        "asignar(matriz2, 2, 0, 1)\n",
        "asignar(matriz2, 2, 4, 1)\n",
        "asignar(matriz2, 4, 1, 1)\n",
        "asignar(matriz2, 4, 2, 1)\n",
        "asignar(matriz2, 4, 4, 1)\n",
        "matriz = sumar(matriz1, matriz2)\n",
        "print(imprime(matriz1))\n",
        "print(imprime(matriz2))\n",
        "print(imprime(matriz))\n",
        "assert valor(matriz, 2, 4) == 21\n",
        "assert valor(matriz, 3, 3) == 0\n",
        "assert valor(matriz, 0, 1) == 43\n",
        "assert valor(matriz, 4, 2) == 9\n",
        "assert valor(matriz, 4, 3) == 0\n",
        "print('Su codigo paso todos los tests!')"
      ]
    },
    {
      "cell_type": "markdown",
      "metadata": {
        "id": "92VRATL8xGx6"
      },
      "source": [
        "# Parte 5\n",
        "\n",
        "Implemente la función *multiplicar*, que devuelve la matriz resultante de multiplicar dos matrices poco densas. La matriz resultante también se representa como matriz poco densa. Ambas matrices deben tener las mismas dimensiones para que la operación se pueda realizar. La función recibe como parámetro las referencias a las dos matrices."
      ]
    },
    {
      "cell_type": "code",
      "execution_count": null,
      "metadata": {
        "id": "CjbvOJcRxGx6",
        "outputId": "78cebca1-55c0-430b-e747-14282a3480e0",
        "colab": {
          "base_uri": "https://localhost:8080/"
        }
      },
      "outputs": [
        {
          "output_type": "stream",
          "name": "stdout",
          "text": [
            "[0 42 0 17 0]\n",
            "[0 0 35 12 0]\n",
            "[1 0 0 0 20]\n",
            "[0 0 0 0 0]\n",
            "[0 4 8 0 50]\n",
            "\n",
            "[1 0 0 0 0]\n",
            "[0 1 0 0 0]\n",
            "[0 0 1 0 0]\n",
            "[0 0 0 1 0]\n",
            "[0 0 0 0 1]\n",
            "\n",
            "[0 42 0 17 0]\n",
            "[0 0 35 12 0]\n",
            "[1 0 0 0 20]\n",
            "[0 0 0 0 0]\n",
            "[0 4 8 0 50]\n",
            "\n",
            "Su codigo paso todos los tests!\n"
          ]
        }
      ],
      "source": [
        "# Solución\n",
        "\n",
        "import numpy\n",
        "\n",
        "def multiplicar(matriz1, matriz2):\n",
        "    # Escriba aqui su codigo, puede crear funciones auxiliares si lo requiere\n",
        "    n = len(matriz1)\n",
        "    l = len(matriz2)\n",
        "    #Creamos una matriz nula\n",
        "    m = [None for largo in range(n)]\n",
        "    for x in range(0,n):\n",
        "      for y in range(0,n):\n",
        "        C = 0\n",
        "        for z in range(0,l):\n",
        "          A = valor(matriz1, x, z)\n",
        "          B = valor(matriz2, z, y)\n",
        "          C += A*B\n",
        "          asignar(m, x, y, C)\n",
        "    return m\n",
        "\n",
        "\n",
        "# Algunos tests que le pueden servir para probar su codigo\n",
        "# matrices de 5 x 5\n",
        "matriz1 = numpy.array([None, None, None, None, None])\n",
        "asignar(matriz1, 0, 1, 42)\n",
        "asignar(matriz1, 0, 3, 17)\n",
        "asignar(matriz1, 1, 2, 35)\n",
        "asignar(matriz1, 1, 3, 12)\n",
        "asignar(matriz1, 2, 0, 1)\n",
        "asignar(matriz1, 2, 4, 20)\n",
        "asignar(matriz1, 4, 1, 4)\n",
        "asignar(matriz1, 4, 2, 8)\n",
        "asignar(matriz1, 4, 4, 50)\n",
        "matriz2 = numpy.array([None, None, None, None, None])\n",
        "asignar(matriz2, 0, 0, 1)\n",
        "asignar(matriz2, 1, 1, 1)\n",
        "asignar(matriz2, 2, 2, 1)\n",
        "asignar(matriz2, 3, 3, 1)\n",
        "asignar(matriz2, 4, 4, 1)\n",
        "matriz = multiplicar(matriz1, matriz2)\n",
        "print(imprime(matriz1))\n",
        "print(imprime(matriz2))\n",
        "print(imprime(matriz))\n",
        "assert valor(matriz, 2, 4) == 20\n",
        "assert valor(matriz, 3, 3) == 0\n",
        "assert valor(matriz, 0, 1) == 42\n",
        "assert valor(matriz, 4, 2) == 8\n",
        "assert valor(matriz, 4, 3) == 0\n",
        "print('Su codigo paso todos los tests!')"
      ]
    }
  ],
  "metadata": {
    "colab": {
      "provenance": []
    },
    "kernelspec": {
      "display_name": "Python 3 (ipykernel)",
      "language": "python",
      "name": "python3"
    },
    "language_info": {
      "codemirror_mode": {
        "name": "ipython",
        "version": 3
      },
      "file_extension": ".py",
      "mimetype": "text/x-python",
      "name": "python",
      "nbconvert_exporter": "python",
      "pygments_lexer": "ipython3",
      "version": "3.9.6"
    }
  },
  "nbformat": 4,
  "nbformat_minor": 0
}